{
  "nbformat": 4,
  "nbformat_minor": 0,
  "metadata": {
    "colab": {
      "provenance": []
    },
    "kernelspec": {
      "name": "python3",
      "display_name": "Python 3"
    },
    "language_info": {
      "name": "python"
    }
  },
  "cells": [
    {
      "cell_type": "markdown",
      "source": [
        "# Proyecto 2\n",
        "\n",
        "\n",
        "---\n",
        "\n",
        "\n",
        "##### Ramón Alejandro Aguirre Romero"
      ],
      "metadata": {
        "id": "KaTZocxklv-j"
      }
    },
    {
      "cell_type": "code",
      "source": [
        "import pandas as pd\n",
        "import numpy as np\n",
        "import math\n",
        "import matplotlib.pyplot as plt\n",
        "from matplotlib import style\n",
        "import seaborn as sns\n",
        "import sys"
      ],
      "metadata": {
        "id": "pEW7c-pqlChu"
      },
      "execution_count": 113,
      "outputs": []
    },
    {
      "cell_type": "markdown",
      "source": [
        "### Ejercicio 1\n",
        "\n",
        "---"
      ],
      "metadata": {
        "id": "gM6aXzfel0qK"
      }
    },
    {
      "cell_type": "markdown",
      "source": [
        "Fichero **autos.csv**\n",
        "\n",
        "Generar una función y utilizar esta para recodificar la variable “país de origen” (1, 2, 3) en el dataframe a través de la función apply."
      ],
      "metadata": {
        "id": "TM5fIOs-mXhz"
      }
    },
    {
      "cell_type": "code",
      "execution_count": null,
      "metadata": {
        "id": "mPZZx_wnlmHo"
      },
      "outputs": [],
      "source": [
        "from google.colab import files\n",
        "files.upload()"
      ]
    },
    {
      "cell_type": "code",
      "source": [
        "data = pd.read_csv('autos.csv', sep=';') \n",
        "data"
      ],
      "metadata": {
        "colab": {
          "base_uri": "https://localhost:8080/",
          "height": 423
        },
        "id": "kwH2Yq-8k66Z",
        "outputId": "e55ad175-6422-462f-f433-5a67da79a785"
      },
      "execution_count": 114,
      "outputs": [
        {
          "output_type": "execute_result",
          "data": {
            "text/plain": [
              "     Millas_Por_Galon  Cilindros Pais_Origen  Peso_En_Libras  Desplazamiento  \\\n",
              "0                18.0          8         USA            3504           307.0   \n",
              "1                15.0          8         USA            3693           350.0   \n",
              "2                18.0          8         USA            3436           318.0   \n",
              "3                16.0          8         USA            3433           304.0   \n",
              "4                17.0          8         USA            3449           302.0   \n",
              "..                ...        ...         ...             ...             ...   \n",
              "401              27.0          4         USA            2790           140.0   \n",
              "402              44.0          4      Europe            2130            97.0   \n",
              "403              32.0          4         USA            2295           135.0   \n",
              "404              28.0          4         USA            2625           120.0   \n",
              "405              31.0          4         USA            2720           119.0   \n",
              "\n",
              "     Aceleracion                     Nombre       Anyo  Caballo_De_Fuerza  \n",
              "0           12.0  chevrolet chevelle malibu  1/01/1970              130.0  \n",
              "1           11.5          buick skylark 320  1/01/1970              165.0  \n",
              "2           11.0         plymouth satellite  1/01/1970              150.0  \n",
              "3           12.0              amc rebel sst  1/01/1970              150.0  \n",
              "4           10.5                ford torino  1/01/1970              140.0  \n",
              "..           ...                        ...        ...                ...  \n",
              "401         15.6            ford mustang gl  1/01/1982               86.0  \n",
              "402         24.6                  vw pickup  1/01/1982               52.0  \n",
              "403         11.6              dodge rampage  1/01/1982               84.0  \n",
              "404         18.6                ford ranger  1/01/1982               79.0  \n",
              "405         19.4                 chevy s-10  1/01/1982               82.0  \n",
              "\n",
              "[406 rows x 9 columns]"
            ],
            "text/html": [
              "\n",
              "  <div id=\"df-f2d674ba-c7e0-4c28-9a03-462844b82546\">\n",
              "    <div class=\"colab-df-container\">\n",
              "      <div>\n",
              "<style scoped>\n",
              "    .dataframe tbody tr th:only-of-type {\n",
              "        vertical-align: middle;\n",
              "    }\n",
              "\n",
              "    .dataframe tbody tr th {\n",
              "        vertical-align: top;\n",
              "    }\n",
              "\n",
              "    .dataframe thead th {\n",
              "        text-align: right;\n",
              "    }\n",
              "</style>\n",
              "<table border=\"1\" class=\"dataframe\">\n",
              "  <thead>\n",
              "    <tr style=\"text-align: right;\">\n",
              "      <th></th>\n",
              "      <th>Millas_Por_Galon</th>\n",
              "      <th>Cilindros</th>\n",
              "      <th>Pais_Origen</th>\n",
              "      <th>Peso_En_Libras</th>\n",
              "      <th>Desplazamiento</th>\n",
              "      <th>Aceleracion</th>\n",
              "      <th>Nombre</th>\n",
              "      <th>Anyo</th>\n",
              "      <th>Caballo_De_Fuerza</th>\n",
              "    </tr>\n",
              "  </thead>\n",
              "  <tbody>\n",
              "    <tr>\n",
              "      <th>0</th>\n",
              "      <td>18.0</td>\n",
              "      <td>8</td>\n",
              "      <td>USA</td>\n",
              "      <td>3504</td>\n",
              "      <td>307.0</td>\n",
              "      <td>12.0</td>\n",
              "      <td>chevrolet chevelle malibu</td>\n",
              "      <td>1/01/1970</td>\n",
              "      <td>130.0</td>\n",
              "    </tr>\n",
              "    <tr>\n",
              "      <th>1</th>\n",
              "      <td>15.0</td>\n",
              "      <td>8</td>\n",
              "      <td>USA</td>\n",
              "      <td>3693</td>\n",
              "      <td>350.0</td>\n",
              "      <td>11.5</td>\n",
              "      <td>buick skylark 320</td>\n",
              "      <td>1/01/1970</td>\n",
              "      <td>165.0</td>\n",
              "    </tr>\n",
              "    <tr>\n",
              "      <th>2</th>\n",
              "      <td>18.0</td>\n",
              "      <td>8</td>\n",
              "      <td>USA</td>\n",
              "      <td>3436</td>\n",
              "      <td>318.0</td>\n",
              "      <td>11.0</td>\n",
              "      <td>plymouth satellite</td>\n",
              "      <td>1/01/1970</td>\n",
              "      <td>150.0</td>\n",
              "    </tr>\n",
              "    <tr>\n",
              "      <th>3</th>\n",
              "      <td>16.0</td>\n",
              "      <td>8</td>\n",
              "      <td>USA</td>\n",
              "      <td>3433</td>\n",
              "      <td>304.0</td>\n",
              "      <td>12.0</td>\n",
              "      <td>amc rebel sst</td>\n",
              "      <td>1/01/1970</td>\n",
              "      <td>150.0</td>\n",
              "    </tr>\n",
              "    <tr>\n",
              "      <th>4</th>\n",
              "      <td>17.0</td>\n",
              "      <td>8</td>\n",
              "      <td>USA</td>\n",
              "      <td>3449</td>\n",
              "      <td>302.0</td>\n",
              "      <td>10.5</td>\n",
              "      <td>ford torino</td>\n",
              "      <td>1/01/1970</td>\n",
              "      <td>140.0</td>\n",
              "    </tr>\n",
              "    <tr>\n",
              "      <th>...</th>\n",
              "      <td>...</td>\n",
              "      <td>...</td>\n",
              "      <td>...</td>\n",
              "      <td>...</td>\n",
              "      <td>...</td>\n",
              "      <td>...</td>\n",
              "      <td>...</td>\n",
              "      <td>...</td>\n",
              "      <td>...</td>\n",
              "    </tr>\n",
              "    <tr>\n",
              "      <th>401</th>\n",
              "      <td>27.0</td>\n",
              "      <td>4</td>\n",
              "      <td>USA</td>\n",
              "      <td>2790</td>\n",
              "      <td>140.0</td>\n",
              "      <td>15.6</td>\n",
              "      <td>ford mustang gl</td>\n",
              "      <td>1/01/1982</td>\n",
              "      <td>86.0</td>\n",
              "    </tr>\n",
              "    <tr>\n",
              "      <th>402</th>\n",
              "      <td>44.0</td>\n",
              "      <td>4</td>\n",
              "      <td>Europe</td>\n",
              "      <td>2130</td>\n",
              "      <td>97.0</td>\n",
              "      <td>24.6</td>\n",
              "      <td>vw pickup</td>\n",
              "      <td>1/01/1982</td>\n",
              "      <td>52.0</td>\n",
              "    </tr>\n",
              "    <tr>\n",
              "      <th>403</th>\n",
              "      <td>32.0</td>\n",
              "      <td>4</td>\n",
              "      <td>USA</td>\n",
              "      <td>2295</td>\n",
              "      <td>135.0</td>\n",
              "      <td>11.6</td>\n",
              "      <td>dodge rampage</td>\n",
              "      <td>1/01/1982</td>\n",
              "      <td>84.0</td>\n",
              "    </tr>\n",
              "    <tr>\n",
              "      <th>404</th>\n",
              "      <td>28.0</td>\n",
              "      <td>4</td>\n",
              "      <td>USA</td>\n",
              "      <td>2625</td>\n",
              "      <td>120.0</td>\n",
              "      <td>18.6</td>\n",
              "      <td>ford ranger</td>\n",
              "      <td>1/01/1982</td>\n",
              "      <td>79.0</td>\n",
              "    </tr>\n",
              "    <tr>\n",
              "      <th>405</th>\n",
              "      <td>31.0</td>\n",
              "      <td>4</td>\n",
              "      <td>USA</td>\n",
              "      <td>2720</td>\n",
              "      <td>119.0</td>\n",
              "      <td>19.4</td>\n",
              "      <td>chevy s-10</td>\n",
              "      <td>1/01/1982</td>\n",
              "      <td>82.0</td>\n",
              "    </tr>\n",
              "  </tbody>\n",
              "</table>\n",
              "<p>406 rows × 9 columns</p>\n",
              "</div>\n",
              "      <button class=\"colab-df-convert\" onclick=\"convertToInteractive('df-f2d674ba-c7e0-4c28-9a03-462844b82546')\"\n",
              "              title=\"Convert this dataframe to an interactive table.\"\n",
              "              style=\"display:none;\">\n",
              "        \n",
              "  <svg xmlns=\"http://www.w3.org/2000/svg\" height=\"24px\"viewBox=\"0 0 24 24\"\n",
              "       width=\"24px\">\n",
              "    <path d=\"M0 0h24v24H0V0z\" fill=\"none\"/>\n",
              "    <path d=\"M18.56 5.44l.94 2.06.94-2.06 2.06-.94-2.06-.94-.94-2.06-.94 2.06-2.06.94zm-11 1L8.5 8.5l.94-2.06 2.06-.94-2.06-.94L8.5 2.5l-.94 2.06-2.06.94zm10 10l.94 2.06.94-2.06 2.06-.94-2.06-.94-.94-2.06-.94 2.06-2.06.94z\"/><path d=\"M17.41 7.96l-1.37-1.37c-.4-.4-.92-.59-1.43-.59-.52 0-1.04.2-1.43.59L10.3 9.45l-7.72 7.72c-.78.78-.78 2.05 0 2.83L4 21.41c.39.39.9.59 1.41.59.51 0 1.02-.2 1.41-.59l7.78-7.78 2.81-2.81c.8-.78.8-2.07 0-2.86zM5.41 20L4 18.59l7.72-7.72 1.47 1.35L5.41 20z\"/>\n",
              "  </svg>\n",
              "      </button>\n",
              "      \n",
              "  <style>\n",
              "    .colab-df-container {\n",
              "      display:flex;\n",
              "      flex-wrap:wrap;\n",
              "      gap: 12px;\n",
              "    }\n",
              "\n",
              "    .colab-df-convert {\n",
              "      background-color: #E8F0FE;\n",
              "      border: none;\n",
              "      border-radius: 50%;\n",
              "      cursor: pointer;\n",
              "      display: none;\n",
              "      fill: #1967D2;\n",
              "      height: 32px;\n",
              "      padding: 0 0 0 0;\n",
              "      width: 32px;\n",
              "    }\n",
              "\n",
              "    .colab-df-convert:hover {\n",
              "      background-color: #E2EBFA;\n",
              "      box-shadow: 0px 1px 2px rgba(60, 64, 67, 0.3), 0px 1px 3px 1px rgba(60, 64, 67, 0.15);\n",
              "      fill: #174EA6;\n",
              "    }\n",
              "\n",
              "    [theme=dark] .colab-df-convert {\n",
              "      background-color: #3B4455;\n",
              "      fill: #D2E3FC;\n",
              "    }\n",
              "\n",
              "    [theme=dark] .colab-df-convert:hover {\n",
              "      background-color: #434B5C;\n",
              "      box-shadow: 0px 1px 3px 1px rgba(0, 0, 0, 0.15);\n",
              "      filter: drop-shadow(0px 1px 2px rgba(0, 0, 0, 0.3));\n",
              "      fill: #FFFFFF;\n",
              "    }\n",
              "  </style>\n",
              "\n",
              "      <script>\n",
              "        const buttonEl =\n",
              "          document.querySelector('#df-f2d674ba-c7e0-4c28-9a03-462844b82546 button.colab-df-convert');\n",
              "        buttonEl.style.display =\n",
              "          google.colab.kernel.accessAllowed ? 'block' : 'none';\n",
              "\n",
              "        async function convertToInteractive(key) {\n",
              "          const element = document.querySelector('#df-f2d674ba-c7e0-4c28-9a03-462844b82546');\n",
              "          const dataTable =\n",
              "            await google.colab.kernel.invokeFunction('convertToInteractive',\n",
              "                                                     [key], {});\n",
              "          if (!dataTable) return;\n",
              "\n",
              "          const docLinkHtml = 'Like what you see? Visit the ' +\n",
              "            '<a target=\"_blank\" href=https://colab.research.google.com/notebooks/data_table.ipynb>data table notebook</a>'\n",
              "            + ' to learn more about interactive tables.';\n",
              "          element.innerHTML = '';\n",
              "          dataTable['output_type'] = 'display_data';\n",
              "          await google.colab.output.renderOutput(dataTable, element);\n",
              "          const docLink = document.createElement('div');\n",
              "          docLink.innerHTML = docLinkHtml;\n",
              "          element.appendChild(docLink);\n",
              "        }\n",
              "      </script>\n",
              "    </div>\n",
              "  </div>\n",
              "  "
            ]
          },
          "metadata": {},
          "execution_count": 114
        }
      ]
    },
    {
      "cell_type": "code",
      "source": [
        "def renombrar_pais(valor):\n",
        "    if valor == \"USA\":\n",
        "        return \"Estados Unidos\"\n",
        "    elif valor == \"Japan\":\n",
        "        return \"Japon\"\n",
        "    elif valor == \"Europe\":\n",
        "        return \"Europa\"\n",
        "    else:\n",
        "        return \"Otro\""
      ],
      "metadata": {
        "id": "F-C77EmnxfIv"
      },
      "execution_count": 8,
      "outputs": []
    },
    {
      "cell_type": "code",
      "source": [
        "data[\"Pais_Origen\"] = data[\"Pais_Origen\"].apply(renombrar_pais)"
      ],
      "metadata": {
        "id": "kXK8lpNZxijd"
      },
      "execution_count": 9,
      "outputs": []
    },
    {
      "cell_type": "code",
      "source": [
        "data"
      ],
      "metadata": {
        "colab": {
          "base_uri": "https://localhost:8080/",
          "height": 423
        },
        "id": "-PSzdVmRItgE",
        "outputId": "c4c38d8b-cbfd-457d-fd68-1415b5af9f75"
      },
      "execution_count": 10,
      "outputs": [
        {
          "output_type": "execute_result",
          "data": {
            "text/plain": [
              "     Millas_Por_Galon  Cilindros     Pais_Origen  Peso_En_Libras  \\\n",
              "0                18.0          8  Estados Unidos            3504   \n",
              "1                15.0          8  Estados Unidos            3693   \n",
              "2                18.0          8  Estados Unidos            3436   \n",
              "3                16.0          8  Estados Unidos            3433   \n",
              "4                17.0          8  Estados Unidos            3449   \n",
              "..                ...        ...             ...             ...   \n",
              "401              27.0          4  Estados Unidos            2790   \n",
              "402              44.0          4          Europa            2130   \n",
              "403              32.0          4  Estados Unidos            2295   \n",
              "404              28.0          4  Estados Unidos            2625   \n",
              "405              31.0          4  Estados Unidos            2720   \n",
              "\n",
              "     Desplazamiento  Aceleracion                     Nombre       Anyo  \\\n",
              "0             307.0         12.0  chevrolet chevelle malibu  1/01/1970   \n",
              "1             350.0         11.5          buick skylark 320  1/01/1970   \n",
              "2             318.0         11.0         plymouth satellite  1/01/1970   \n",
              "3             304.0         12.0              amc rebel sst  1/01/1970   \n",
              "4             302.0         10.5                ford torino  1/01/1970   \n",
              "..              ...          ...                        ...        ...   \n",
              "401           140.0         15.6            ford mustang gl  1/01/1982   \n",
              "402            97.0         24.6                  vw pickup  1/01/1982   \n",
              "403           135.0         11.6              dodge rampage  1/01/1982   \n",
              "404           120.0         18.6                ford ranger  1/01/1982   \n",
              "405           119.0         19.4                 chevy s-10  1/01/1982   \n",
              "\n",
              "     Caballo_De_Fuerza  \n",
              "0                130.0  \n",
              "1                165.0  \n",
              "2                150.0  \n",
              "3                150.0  \n",
              "4                140.0  \n",
              "..                 ...  \n",
              "401               86.0  \n",
              "402               52.0  \n",
              "403               84.0  \n",
              "404               79.0  \n",
              "405               82.0  \n",
              "\n",
              "[406 rows x 9 columns]"
            ],
            "text/html": [
              "\n",
              "  <div id=\"df-59da9642-d75b-43f2-94c9-14d746b80545\">\n",
              "    <div class=\"colab-df-container\">\n",
              "      <div>\n",
              "<style scoped>\n",
              "    .dataframe tbody tr th:only-of-type {\n",
              "        vertical-align: middle;\n",
              "    }\n",
              "\n",
              "    .dataframe tbody tr th {\n",
              "        vertical-align: top;\n",
              "    }\n",
              "\n",
              "    .dataframe thead th {\n",
              "        text-align: right;\n",
              "    }\n",
              "</style>\n",
              "<table border=\"1\" class=\"dataframe\">\n",
              "  <thead>\n",
              "    <tr style=\"text-align: right;\">\n",
              "      <th></th>\n",
              "      <th>Millas_Por_Galon</th>\n",
              "      <th>Cilindros</th>\n",
              "      <th>Pais_Origen</th>\n",
              "      <th>Peso_En_Libras</th>\n",
              "      <th>Desplazamiento</th>\n",
              "      <th>Aceleracion</th>\n",
              "      <th>Nombre</th>\n",
              "      <th>Anyo</th>\n",
              "      <th>Caballo_De_Fuerza</th>\n",
              "    </tr>\n",
              "  </thead>\n",
              "  <tbody>\n",
              "    <tr>\n",
              "      <th>0</th>\n",
              "      <td>18.0</td>\n",
              "      <td>8</td>\n",
              "      <td>Estados Unidos</td>\n",
              "      <td>3504</td>\n",
              "      <td>307.0</td>\n",
              "      <td>12.0</td>\n",
              "      <td>chevrolet chevelle malibu</td>\n",
              "      <td>1/01/1970</td>\n",
              "      <td>130.0</td>\n",
              "    </tr>\n",
              "    <tr>\n",
              "      <th>1</th>\n",
              "      <td>15.0</td>\n",
              "      <td>8</td>\n",
              "      <td>Estados Unidos</td>\n",
              "      <td>3693</td>\n",
              "      <td>350.0</td>\n",
              "      <td>11.5</td>\n",
              "      <td>buick skylark 320</td>\n",
              "      <td>1/01/1970</td>\n",
              "      <td>165.0</td>\n",
              "    </tr>\n",
              "    <tr>\n",
              "      <th>2</th>\n",
              "      <td>18.0</td>\n",
              "      <td>8</td>\n",
              "      <td>Estados Unidos</td>\n",
              "      <td>3436</td>\n",
              "      <td>318.0</td>\n",
              "      <td>11.0</td>\n",
              "      <td>plymouth satellite</td>\n",
              "      <td>1/01/1970</td>\n",
              "      <td>150.0</td>\n",
              "    </tr>\n",
              "    <tr>\n",
              "      <th>3</th>\n",
              "      <td>16.0</td>\n",
              "      <td>8</td>\n",
              "      <td>Estados Unidos</td>\n",
              "      <td>3433</td>\n",
              "      <td>304.0</td>\n",
              "      <td>12.0</td>\n",
              "      <td>amc rebel sst</td>\n",
              "      <td>1/01/1970</td>\n",
              "      <td>150.0</td>\n",
              "    </tr>\n",
              "    <tr>\n",
              "      <th>4</th>\n",
              "      <td>17.0</td>\n",
              "      <td>8</td>\n",
              "      <td>Estados Unidos</td>\n",
              "      <td>3449</td>\n",
              "      <td>302.0</td>\n",
              "      <td>10.5</td>\n",
              "      <td>ford torino</td>\n",
              "      <td>1/01/1970</td>\n",
              "      <td>140.0</td>\n",
              "    </tr>\n",
              "    <tr>\n",
              "      <th>...</th>\n",
              "      <td>...</td>\n",
              "      <td>...</td>\n",
              "      <td>...</td>\n",
              "      <td>...</td>\n",
              "      <td>...</td>\n",
              "      <td>...</td>\n",
              "      <td>...</td>\n",
              "      <td>...</td>\n",
              "      <td>...</td>\n",
              "    </tr>\n",
              "    <tr>\n",
              "      <th>401</th>\n",
              "      <td>27.0</td>\n",
              "      <td>4</td>\n",
              "      <td>Estados Unidos</td>\n",
              "      <td>2790</td>\n",
              "      <td>140.0</td>\n",
              "      <td>15.6</td>\n",
              "      <td>ford mustang gl</td>\n",
              "      <td>1/01/1982</td>\n",
              "      <td>86.0</td>\n",
              "    </tr>\n",
              "    <tr>\n",
              "      <th>402</th>\n",
              "      <td>44.0</td>\n",
              "      <td>4</td>\n",
              "      <td>Europa</td>\n",
              "      <td>2130</td>\n",
              "      <td>97.0</td>\n",
              "      <td>24.6</td>\n",
              "      <td>vw pickup</td>\n",
              "      <td>1/01/1982</td>\n",
              "      <td>52.0</td>\n",
              "    </tr>\n",
              "    <tr>\n",
              "      <th>403</th>\n",
              "      <td>32.0</td>\n",
              "      <td>4</td>\n",
              "      <td>Estados Unidos</td>\n",
              "      <td>2295</td>\n",
              "      <td>135.0</td>\n",
              "      <td>11.6</td>\n",
              "      <td>dodge rampage</td>\n",
              "      <td>1/01/1982</td>\n",
              "      <td>84.0</td>\n",
              "    </tr>\n",
              "    <tr>\n",
              "      <th>404</th>\n",
              "      <td>28.0</td>\n",
              "      <td>4</td>\n",
              "      <td>Estados Unidos</td>\n",
              "      <td>2625</td>\n",
              "      <td>120.0</td>\n",
              "      <td>18.6</td>\n",
              "      <td>ford ranger</td>\n",
              "      <td>1/01/1982</td>\n",
              "      <td>79.0</td>\n",
              "    </tr>\n",
              "    <tr>\n",
              "      <th>405</th>\n",
              "      <td>31.0</td>\n",
              "      <td>4</td>\n",
              "      <td>Estados Unidos</td>\n",
              "      <td>2720</td>\n",
              "      <td>119.0</td>\n",
              "      <td>19.4</td>\n",
              "      <td>chevy s-10</td>\n",
              "      <td>1/01/1982</td>\n",
              "      <td>82.0</td>\n",
              "    </tr>\n",
              "  </tbody>\n",
              "</table>\n",
              "<p>406 rows × 9 columns</p>\n",
              "</div>\n",
              "      <button class=\"colab-df-convert\" onclick=\"convertToInteractive('df-59da9642-d75b-43f2-94c9-14d746b80545')\"\n",
              "              title=\"Convert this dataframe to an interactive table.\"\n",
              "              style=\"display:none;\">\n",
              "        \n",
              "  <svg xmlns=\"http://www.w3.org/2000/svg\" height=\"24px\"viewBox=\"0 0 24 24\"\n",
              "       width=\"24px\">\n",
              "    <path d=\"M0 0h24v24H0V0z\" fill=\"none\"/>\n",
              "    <path d=\"M18.56 5.44l.94 2.06.94-2.06 2.06-.94-2.06-.94-.94-2.06-.94 2.06-2.06.94zm-11 1L8.5 8.5l.94-2.06 2.06-.94-2.06-.94L8.5 2.5l-.94 2.06-2.06.94zm10 10l.94 2.06.94-2.06 2.06-.94-2.06-.94-.94-2.06-.94 2.06-2.06.94z\"/><path d=\"M17.41 7.96l-1.37-1.37c-.4-.4-.92-.59-1.43-.59-.52 0-1.04.2-1.43.59L10.3 9.45l-7.72 7.72c-.78.78-.78 2.05 0 2.83L4 21.41c.39.39.9.59 1.41.59.51 0 1.02-.2 1.41-.59l7.78-7.78 2.81-2.81c.8-.78.8-2.07 0-2.86zM5.41 20L4 18.59l7.72-7.72 1.47 1.35L5.41 20z\"/>\n",
              "  </svg>\n",
              "      </button>\n",
              "      \n",
              "  <style>\n",
              "    .colab-df-container {\n",
              "      display:flex;\n",
              "      flex-wrap:wrap;\n",
              "      gap: 12px;\n",
              "    }\n",
              "\n",
              "    .colab-df-convert {\n",
              "      background-color: #E8F0FE;\n",
              "      border: none;\n",
              "      border-radius: 50%;\n",
              "      cursor: pointer;\n",
              "      display: none;\n",
              "      fill: #1967D2;\n",
              "      height: 32px;\n",
              "      padding: 0 0 0 0;\n",
              "      width: 32px;\n",
              "    }\n",
              "\n",
              "    .colab-df-convert:hover {\n",
              "      background-color: #E2EBFA;\n",
              "      box-shadow: 0px 1px 2px rgba(60, 64, 67, 0.3), 0px 1px 3px 1px rgba(60, 64, 67, 0.15);\n",
              "      fill: #174EA6;\n",
              "    }\n",
              "\n",
              "    [theme=dark] .colab-df-convert {\n",
              "      background-color: #3B4455;\n",
              "      fill: #D2E3FC;\n",
              "    }\n",
              "\n",
              "    [theme=dark] .colab-df-convert:hover {\n",
              "      background-color: #434B5C;\n",
              "      box-shadow: 0px 1px 3px 1px rgba(0, 0, 0, 0.15);\n",
              "      filter: drop-shadow(0px 1px 2px rgba(0, 0, 0, 0.3));\n",
              "      fill: #FFFFFF;\n",
              "    }\n",
              "  </style>\n",
              "\n",
              "      <script>\n",
              "        const buttonEl =\n",
              "          document.querySelector('#df-59da9642-d75b-43f2-94c9-14d746b80545 button.colab-df-convert');\n",
              "        buttonEl.style.display =\n",
              "          google.colab.kernel.accessAllowed ? 'block' : 'none';\n",
              "\n",
              "        async function convertToInteractive(key) {\n",
              "          const element = document.querySelector('#df-59da9642-d75b-43f2-94c9-14d746b80545');\n",
              "          const dataTable =\n",
              "            await google.colab.kernel.invokeFunction('convertToInteractive',\n",
              "                                                     [key], {});\n",
              "          if (!dataTable) return;\n",
              "\n",
              "          const docLinkHtml = 'Like what you see? Visit the ' +\n",
              "            '<a target=\"_blank\" href=https://colab.research.google.com/notebooks/data_table.ipynb>data table notebook</a>'\n",
              "            + ' to learn more about interactive tables.';\n",
              "          element.innerHTML = '';\n",
              "          dataTable['output_type'] = 'display_data';\n",
              "          await google.colab.output.renderOutput(dataTable, element);\n",
              "          const docLink = document.createElement('div');\n",
              "          docLink.innerHTML = docLinkHtml;\n",
              "          element.appendChild(docLink);\n",
              "        }\n",
              "      </script>\n",
              "    </div>\n",
              "  </div>\n",
              "  "
            ]
          },
          "metadata": {},
          "execution_count": 10
        }
      ]
    },
    {
      "cell_type": "markdown",
      "source": [
        "### Ejercicio 2\n",
        "\n",
        "---"
      ],
      "metadata": {
        "id": "kGmslng2l59r"
      }
    },
    {
      "cell_type": "markdown",
      "source": [
        "Generar un Notebook Colab con código y resultados, que contiene información de autos de un periodo de tiempo. Resolver los siguientes:\n",
        "\n",
        "- Limpieza y tratamiento de las variables (Según corresponda)\n",
        "\n"
      ],
      "metadata": {
        "id": "btPZEDvHmdc0"
      }
    },
    {
      "cell_type": "code",
      "source": [
        "data = pd.read_csv('autos.csv', sep=';') \n",
        "data"
      ],
      "metadata": {
        "colab": {
          "base_uri": "https://localhost:8080/",
          "height": 423
        },
        "id": "zFElHymp5ho_",
        "outputId": "43b32661-6af4-4077-d6c6-e01e6a1f515d"
      },
      "execution_count": 11,
      "outputs": [
        {
          "output_type": "execute_result",
          "data": {
            "text/plain": [
              "     Millas_Por_Galon  Cilindros Pais_Origen  Peso_En_Libras  Desplazamiento  \\\n",
              "0                18.0          8         USA            3504           307.0   \n",
              "1                15.0          8         USA            3693           350.0   \n",
              "2                18.0          8         USA            3436           318.0   \n",
              "3                16.0          8         USA            3433           304.0   \n",
              "4                17.0          8         USA            3449           302.0   \n",
              "..                ...        ...         ...             ...             ...   \n",
              "401              27.0          4         USA            2790           140.0   \n",
              "402              44.0          4      Europe            2130            97.0   \n",
              "403              32.0          4         USA            2295           135.0   \n",
              "404              28.0          4         USA            2625           120.0   \n",
              "405              31.0          4         USA            2720           119.0   \n",
              "\n",
              "     Aceleracion                     Nombre       Anyo  Caballo_De_Fuerza  \n",
              "0           12.0  chevrolet chevelle malibu  1/01/1970              130.0  \n",
              "1           11.5          buick skylark 320  1/01/1970              165.0  \n",
              "2           11.0         plymouth satellite  1/01/1970              150.0  \n",
              "3           12.0              amc rebel sst  1/01/1970              150.0  \n",
              "4           10.5                ford torino  1/01/1970              140.0  \n",
              "..           ...                        ...        ...                ...  \n",
              "401         15.6            ford mustang gl  1/01/1982               86.0  \n",
              "402         24.6                  vw pickup  1/01/1982               52.0  \n",
              "403         11.6              dodge rampage  1/01/1982               84.0  \n",
              "404         18.6                ford ranger  1/01/1982               79.0  \n",
              "405         19.4                 chevy s-10  1/01/1982               82.0  \n",
              "\n",
              "[406 rows x 9 columns]"
            ],
            "text/html": [
              "\n",
              "  <div id=\"df-b547470a-88ff-4daf-9c59-a8b6af357030\">\n",
              "    <div class=\"colab-df-container\">\n",
              "      <div>\n",
              "<style scoped>\n",
              "    .dataframe tbody tr th:only-of-type {\n",
              "        vertical-align: middle;\n",
              "    }\n",
              "\n",
              "    .dataframe tbody tr th {\n",
              "        vertical-align: top;\n",
              "    }\n",
              "\n",
              "    .dataframe thead th {\n",
              "        text-align: right;\n",
              "    }\n",
              "</style>\n",
              "<table border=\"1\" class=\"dataframe\">\n",
              "  <thead>\n",
              "    <tr style=\"text-align: right;\">\n",
              "      <th></th>\n",
              "      <th>Millas_Por_Galon</th>\n",
              "      <th>Cilindros</th>\n",
              "      <th>Pais_Origen</th>\n",
              "      <th>Peso_En_Libras</th>\n",
              "      <th>Desplazamiento</th>\n",
              "      <th>Aceleracion</th>\n",
              "      <th>Nombre</th>\n",
              "      <th>Anyo</th>\n",
              "      <th>Caballo_De_Fuerza</th>\n",
              "    </tr>\n",
              "  </thead>\n",
              "  <tbody>\n",
              "    <tr>\n",
              "      <th>0</th>\n",
              "      <td>18.0</td>\n",
              "      <td>8</td>\n",
              "      <td>USA</td>\n",
              "      <td>3504</td>\n",
              "      <td>307.0</td>\n",
              "      <td>12.0</td>\n",
              "      <td>chevrolet chevelle malibu</td>\n",
              "      <td>1/01/1970</td>\n",
              "      <td>130.0</td>\n",
              "    </tr>\n",
              "    <tr>\n",
              "      <th>1</th>\n",
              "      <td>15.0</td>\n",
              "      <td>8</td>\n",
              "      <td>USA</td>\n",
              "      <td>3693</td>\n",
              "      <td>350.0</td>\n",
              "      <td>11.5</td>\n",
              "      <td>buick skylark 320</td>\n",
              "      <td>1/01/1970</td>\n",
              "      <td>165.0</td>\n",
              "    </tr>\n",
              "    <tr>\n",
              "      <th>2</th>\n",
              "      <td>18.0</td>\n",
              "      <td>8</td>\n",
              "      <td>USA</td>\n",
              "      <td>3436</td>\n",
              "      <td>318.0</td>\n",
              "      <td>11.0</td>\n",
              "      <td>plymouth satellite</td>\n",
              "      <td>1/01/1970</td>\n",
              "      <td>150.0</td>\n",
              "    </tr>\n",
              "    <tr>\n",
              "      <th>3</th>\n",
              "      <td>16.0</td>\n",
              "      <td>8</td>\n",
              "      <td>USA</td>\n",
              "      <td>3433</td>\n",
              "      <td>304.0</td>\n",
              "      <td>12.0</td>\n",
              "      <td>amc rebel sst</td>\n",
              "      <td>1/01/1970</td>\n",
              "      <td>150.0</td>\n",
              "    </tr>\n",
              "    <tr>\n",
              "      <th>4</th>\n",
              "      <td>17.0</td>\n",
              "      <td>8</td>\n",
              "      <td>USA</td>\n",
              "      <td>3449</td>\n",
              "      <td>302.0</td>\n",
              "      <td>10.5</td>\n",
              "      <td>ford torino</td>\n",
              "      <td>1/01/1970</td>\n",
              "      <td>140.0</td>\n",
              "    </tr>\n",
              "    <tr>\n",
              "      <th>...</th>\n",
              "      <td>...</td>\n",
              "      <td>...</td>\n",
              "      <td>...</td>\n",
              "      <td>...</td>\n",
              "      <td>...</td>\n",
              "      <td>...</td>\n",
              "      <td>...</td>\n",
              "      <td>...</td>\n",
              "      <td>...</td>\n",
              "    </tr>\n",
              "    <tr>\n",
              "      <th>401</th>\n",
              "      <td>27.0</td>\n",
              "      <td>4</td>\n",
              "      <td>USA</td>\n",
              "      <td>2790</td>\n",
              "      <td>140.0</td>\n",
              "      <td>15.6</td>\n",
              "      <td>ford mustang gl</td>\n",
              "      <td>1/01/1982</td>\n",
              "      <td>86.0</td>\n",
              "    </tr>\n",
              "    <tr>\n",
              "      <th>402</th>\n",
              "      <td>44.0</td>\n",
              "      <td>4</td>\n",
              "      <td>Europe</td>\n",
              "      <td>2130</td>\n",
              "      <td>97.0</td>\n",
              "      <td>24.6</td>\n",
              "      <td>vw pickup</td>\n",
              "      <td>1/01/1982</td>\n",
              "      <td>52.0</td>\n",
              "    </tr>\n",
              "    <tr>\n",
              "      <th>403</th>\n",
              "      <td>32.0</td>\n",
              "      <td>4</td>\n",
              "      <td>USA</td>\n",
              "      <td>2295</td>\n",
              "      <td>135.0</td>\n",
              "      <td>11.6</td>\n",
              "      <td>dodge rampage</td>\n",
              "      <td>1/01/1982</td>\n",
              "      <td>84.0</td>\n",
              "    </tr>\n",
              "    <tr>\n",
              "      <th>404</th>\n",
              "      <td>28.0</td>\n",
              "      <td>4</td>\n",
              "      <td>USA</td>\n",
              "      <td>2625</td>\n",
              "      <td>120.0</td>\n",
              "      <td>18.6</td>\n",
              "      <td>ford ranger</td>\n",
              "      <td>1/01/1982</td>\n",
              "      <td>79.0</td>\n",
              "    </tr>\n",
              "    <tr>\n",
              "      <th>405</th>\n",
              "      <td>31.0</td>\n",
              "      <td>4</td>\n",
              "      <td>USA</td>\n",
              "      <td>2720</td>\n",
              "      <td>119.0</td>\n",
              "      <td>19.4</td>\n",
              "      <td>chevy s-10</td>\n",
              "      <td>1/01/1982</td>\n",
              "      <td>82.0</td>\n",
              "    </tr>\n",
              "  </tbody>\n",
              "</table>\n",
              "<p>406 rows × 9 columns</p>\n",
              "</div>\n",
              "      <button class=\"colab-df-convert\" onclick=\"convertToInteractive('df-b547470a-88ff-4daf-9c59-a8b6af357030')\"\n",
              "              title=\"Convert this dataframe to an interactive table.\"\n",
              "              style=\"display:none;\">\n",
              "        \n",
              "  <svg xmlns=\"http://www.w3.org/2000/svg\" height=\"24px\"viewBox=\"0 0 24 24\"\n",
              "       width=\"24px\">\n",
              "    <path d=\"M0 0h24v24H0V0z\" fill=\"none\"/>\n",
              "    <path d=\"M18.56 5.44l.94 2.06.94-2.06 2.06-.94-2.06-.94-.94-2.06-.94 2.06-2.06.94zm-11 1L8.5 8.5l.94-2.06 2.06-.94-2.06-.94L8.5 2.5l-.94 2.06-2.06.94zm10 10l.94 2.06.94-2.06 2.06-.94-2.06-.94-.94-2.06-.94 2.06-2.06.94z\"/><path d=\"M17.41 7.96l-1.37-1.37c-.4-.4-.92-.59-1.43-.59-.52 0-1.04.2-1.43.59L10.3 9.45l-7.72 7.72c-.78.78-.78 2.05 0 2.83L4 21.41c.39.39.9.59 1.41.59.51 0 1.02-.2 1.41-.59l7.78-7.78 2.81-2.81c.8-.78.8-2.07 0-2.86zM5.41 20L4 18.59l7.72-7.72 1.47 1.35L5.41 20z\"/>\n",
              "  </svg>\n",
              "      </button>\n",
              "      \n",
              "  <style>\n",
              "    .colab-df-container {\n",
              "      display:flex;\n",
              "      flex-wrap:wrap;\n",
              "      gap: 12px;\n",
              "    }\n",
              "\n",
              "    .colab-df-convert {\n",
              "      background-color: #E8F0FE;\n",
              "      border: none;\n",
              "      border-radius: 50%;\n",
              "      cursor: pointer;\n",
              "      display: none;\n",
              "      fill: #1967D2;\n",
              "      height: 32px;\n",
              "      padding: 0 0 0 0;\n",
              "      width: 32px;\n",
              "    }\n",
              "\n",
              "    .colab-df-convert:hover {\n",
              "      background-color: #E2EBFA;\n",
              "      box-shadow: 0px 1px 2px rgba(60, 64, 67, 0.3), 0px 1px 3px 1px rgba(60, 64, 67, 0.15);\n",
              "      fill: #174EA6;\n",
              "    }\n",
              "\n",
              "    [theme=dark] .colab-df-convert {\n",
              "      background-color: #3B4455;\n",
              "      fill: #D2E3FC;\n",
              "    }\n",
              "\n",
              "    [theme=dark] .colab-df-convert:hover {\n",
              "      background-color: #434B5C;\n",
              "      box-shadow: 0px 1px 3px 1px rgba(0, 0, 0, 0.15);\n",
              "      filter: drop-shadow(0px 1px 2px rgba(0, 0, 0, 0.3));\n",
              "      fill: #FFFFFF;\n",
              "    }\n",
              "  </style>\n",
              "\n",
              "      <script>\n",
              "        const buttonEl =\n",
              "          document.querySelector('#df-b547470a-88ff-4daf-9c59-a8b6af357030 button.colab-df-convert');\n",
              "        buttonEl.style.display =\n",
              "          google.colab.kernel.accessAllowed ? 'block' : 'none';\n",
              "\n",
              "        async function convertToInteractive(key) {\n",
              "          const element = document.querySelector('#df-b547470a-88ff-4daf-9c59-a8b6af357030');\n",
              "          const dataTable =\n",
              "            await google.colab.kernel.invokeFunction('convertToInteractive',\n",
              "                                                     [key], {});\n",
              "          if (!dataTable) return;\n",
              "\n",
              "          const docLinkHtml = 'Like what you see? Visit the ' +\n",
              "            '<a target=\"_blank\" href=https://colab.research.google.com/notebooks/data_table.ipynb>data table notebook</a>'\n",
              "            + ' to learn more about interactive tables.';\n",
              "          element.innerHTML = '';\n",
              "          dataTable['output_type'] = 'display_data';\n",
              "          await google.colab.output.renderOutput(dataTable, element);\n",
              "          const docLink = document.createElement('div');\n",
              "          docLink.innerHTML = docLinkHtml;\n",
              "          element.appendChild(docLink);\n",
              "        }\n",
              "      </script>\n",
              "    </div>\n",
              "  </div>\n",
              "  "
            ]
          },
          "metadata": {},
          "execution_count": 11
        }
      ]
    },
    {
      "cell_type": "code",
      "source": [
        "data.info()"
      ],
      "metadata": {
        "colab": {
          "base_uri": "https://localhost:8080/"
        },
        "id": "qgDE2q6Sl7aQ",
        "outputId": "1d64f71e-16a1-4bcc-b798-3fc4c33fabbe"
      },
      "execution_count": 12,
      "outputs": [
        {
          "output_type": "stream",
          "name": "stdout",
          "text": [
            "<class 'pandas.core.frame.DataFrame'>\n",
            "RangeIndex: 406 entries, 0 to 405\n",
            "Data columns (total 9 columns):\n",
            " #   Column             Non-Null Count  Dtype  \n",
            "---  ------             --------------  -----  \n",
            " 0   Millas_Por_Galon   398 non-null    float64\n",
            " 1   Cilindros          406 non-null    int64  \n",
            " 2   Pais_Origen        406 non-null    object \n",
            " 3   Peso_En_Libras     406 non-null    int64  \n",
            " 4   Desplazamiento     406 non-null    float64\n",
            " 5   Aceleracion        406 non-null    float64\n",
            " 6   Nombre             406 non-null    object \n",
            " 7   Anyo               406 non-null    object \n",
            " 8   Caballo_De_Fuerza  400 non-null    float64\n",
            "dtypes: float64(4), int64(2), object(3)\n",
            "memory usage: 28.7+ KB\n"
          ]
        }
      ]
    },
    {
      "cell_type": "code",
      "source": [
        "data.fillna(data.median(), inplace=True) \n",
        "data"
      ],
      "metadata": {
        "colab": {
          "base_uri": "https://localhost:8080/",
          "height": 479
        },
        "id": "jPThUXpbofeJ",
        "outputId": "84d6f8a8-7e7a-4416-c225-cd2f8978b72e"
      },
      "execution_count": 115,
      "outputs": [
        {
          "output_type": "stream",
          "name": "stderr",
          "text": [
            "<ipython-input-115-5277040045b2>:1: FutureWarning: Dropping of nuisance columns in DataFrame reductions (with 'numeric_only=None') is deprecated; in a future version this will raise TypeError.  Select only valid columns before calling the reduction.\n",
            "  data.fillna(data.median(), inplace=True)\n"
          ]
        },
        {
          "output_type": "execute_result",
          "data": {
            "text/plain": [
              "     Millas_Por_Galon  Cilindros Pais_Origen  Peso_En_Libras  Desplazamiento  \\\n",
              "0                18.0          8         USA            3504           307.0   \n",
              "1                15.0          8         USA            3693           350.0   \n",
              "2                18.0          8         USA            3436           318.0   \n",
              "3                16.0          8         USA            3433           304.0   \n",
              "4                17.0          8         USA            3449           302.0   \n",
              "..                ...        ...         ...             ...             ...   \n",
              "401              27.0          4         USA            2790           140.0   \n",
              "402              44.0          4      Europe            2130            97.0   \n",
              "403              32.0          4         USA            2295           135.0   \n",
              "404              28.0          4         USA            2625           120.0   \n",
              "405              31.0          4         USA            2720           119.0   \n",
              "\n",
              "     Aceleracion                     Nombre       Anyo  Caballo_De_Fuerza  \n",
              "0           12.0  chevrolet chevelle malibu  1/01/1970              130.0  \n",
              "1           11.5          buick skylark 320  1/01/1970              165.0  \n",
              "2           11.0         plymouth satellite  1/01/1970              150.0  \n",
              "3           12.0              amc rebel sst  1/01/1970              150.0  \n",
              "4           10.5                ford torino  1/01/1970              140.0  \n",
              "..           ...                        ...        ...                ...  \n",
              "401         15.6            ford mustang gl  1/01/1982               86.0  \n",
              "402         24.6                  vw pickup  1/01/1982               52.0  \n",
              "403         11.6              dodge rampage  1/01/1982               84.0  \n",
              "404         18.6                ford ranger  1/01/1982               79.0  \n",
              "405         19.4                 chevy s-10  1/01/1982               82.0  \n",
              "\n",
              "[406 rows x 9 columns]"
            ],
            "text/html": [
              "\n",
              "  <div id=\"df-81c9ee23-5bb6-4cc7-bc95-0c278533d241\">\n",
              "    <div class=\"colab-df-container\">\n",
              "      <div>\n",
              "<style scoped>\n",
              "    .dataframe tbody tr th:only-of-type {\n",
              "        vertical-align: middle;\n",
              "    }\n",
              "\n",
              "    .dataframe tbody tr th {\n",
              "        vertical-align: top;\n",
              "    }\n",
              "\n",
              "    .dataframe thead th {\n",
              "        text-align: right;\n",
              "    }\n",
              "</style>\n",
              "<table border=\"1\" class=\"dataframe\">\n",
              "  <thead>\n",
              "    <tr style=\"text-align: right;\">\n",
              "      <th></th>\n",
              "      <th>Millas_Por_Galon</th>\n",
              "      <th>Cilindros</th>\n",
              "      <th>Pais_Origen</th>\n",
              "      <th>Peso_En_Libras</th>\n",
              "      <th>Desplazamiento</th>\n",
              "      <th>Aceleracion</th>\n",
              "      <th>Nombre</th>\n",
              "      <th>Anyo</th>\n",
              "      <th>Caballo_De_Fuerza</th>\n",
              "    </tr>\n",
              "  </thead>\n",
              "  <tbody>\n",
              "    <tr>\n",
              "      <th>0</th>\n",
              "      <td>18.0</td>\n",
              "      <td>8</td>\n",
              "      <td>USA</td>\n",
              "      <td>3504</td>\n",
              "      <td>307.0</td>\n",
              "      <td>12.0</td>\n",
              "      <td>chevrolet chevelle malibu</td>\n",
              "      <td>1/01/1970</td>\n",
              "      <td>130.0</td>\n",
              "    </tr>\n",
              "    <tr>\n",
              "      <th>1</th>\n",
              "      <td>15.0</td>\n",
              "      <td>8</td>\n",
              "      <td>USA</td>\n",
              "      <td>3693</td>\n",
              "      <td>350.0</td>\n",
              "      <td>11.5</td>\n",
              "      <td>buick skylark 320</td>\n",
              "      <td>1/01/1970</td>\n",
              "      <td>165.0</td>\n",
              "    </tr>\n",
              "    <tr>\n",
              "      <th>2</th>\n",
              "      <td>18.0</td>\n",
              "      <td>8</td>\n",
              "      <td>USA</td>\n",
              "      <td>3436</td>\n",
              "      <td>318.0</td>\n",
              "      <td>11.0</td>\n",
              "      <td>plymouth satellite</td>\n",
              "      <td>1/01/1970</td>\n",
              "      <td>150.0</td>\n",
              "    </tr>\n",
              "    <tr>\n",
              "      <th>3</th>\n",
              "      <td>16.0</td>\n",
              "      <td>8</td>\n",
              "      <td>USA</td>\n",
              "      <td>3433</td>\n",
              "      <td>304.0</td>\n",
              "      <td>12.0</td>\n",
              "      <td>amc rebel sst</td>\n",
              "      <td>1/01/1970</td>\n",
              "      <td>150.0</td>\n",
              "    </tr>\n",
              "    <tr>\n",
              "      <th>4</th>\n",
              "      <td>17.0</td>\n",
              "      <td>8</td>\n",
              "      <td>USA</td>\n",
              "      <td>3449</td>\n",
              "      <td>302.0</td>\n",
              "      <td>10.5</td>\n",
              "      <td>ford torino</td>\n",
              "      <td>1/01/1970</td>\n",
              "      <td>140.0</td>\n",
              "    </tr>\n",
              "    <tr>\n",
              "      <th>...</th>\n",
              "      <td>...</td>\n",
              "      <td>...</td>\n",
              "      <td>...</td>\n",
              "      <td>...</td>\n",
              "      <td>...</td>\n",
              "      <td>...</td>\n",
              "      <td>...</td>\n",
              "      <td>...</td>\n",
              "      <td>...</td>\n",
              "    </tr>\n",
              "    <tr>\n",
              "      <th>401</th>\n",
              "      <td>27.0</td>\n",
              "      <td>4</td>\n",
              "      <td>USA</td>\n",
              "      <td>2790</td>\n",
              "      <td>140.0</td>\n",
              "      <td>15.6</td>\n",
              "      <td>ford mustang gl</td>\n",
              "      <td>1/01/1982</td>\n",
              "      <td>86.0</td>\n",
              "    </tr>\n",
              "    <tr>\n",
              "      <th>402</th>\n",
              "      <td>44.0</td>\n",
              "      <td>4</td>\n",
              "      <td>Europe</td>\n",
              "      <td>2130</td>\n",
              "      <td>97.0</td>\n",
              "      <td>24.6</td>\n",
              "      <td>vw pickup</td>\n",
              "      <td>1/01/1982</td>\n",
              "      <td>52.0</td>\n",
              "    </tr>\n",
              "    <tr>\n",
              "      <th>403</th>\n",
              "      <td>32.0</td>\n",
              "      <td>4</td>\n",
              "      <td>USA</td>\n",
              "      <td>2295</td>\n",
              "      <td>135.0</td>\n",
              "      <td>11.6</td>\n",
              "      <td>dodge rampage</td>\n",
              "      <td>1/01/1982</td>\n",
              "      <td>84.0</td>\n",
              "    </tr>\n",
              "    <tr>\n",
              "      <th>404</th>\n",
              "      <td>28.0</td>\n",
              "      <td>4</td>\n",
              "      <td>USA</td>\n",
              "      <td>2625</td>\n",
              "      <td>120.0</td>\n",
              "      <td>18.6</td>\n",
              "      <td>ford ranger</td>\n",
              "      <td>1/01/1982</td>\n",
              "      <td>79.0</td>\n",
              "    </tr>\n",
              "    <tr>\n",
              "      <th>405</th>\n",
              "      <td>31.0</td>\n",
              "      <td>4</td>\n",
              "      <td>USA</td>\n",
              "      <td>2720</td>\n",
              "      <td>119.0</td>\n",
              "      <td>19.4</td>\n",
              "      <td>chevy s-10</td>\n",
              "      <td>1/01/1982</td>\n",
              "      <td>82.0</td>\n",
              "    </tr>\n",
              "  </tbody>\n",
              "</table>\n",
              "<p>406 rows × 9 columns</p>\n",
              "</div>\n",
              "      <button class=\"colab-df-convert\" onclick=\"convertToInteractive('df-81c9ee23-5bb6-4cc7-bc95-0c278533d241')\"\n",
              "              title=\"Convert this dataframe to an interactive table.\"\n",
              "              style=\"display:none;\">\n",
              "        \n",
              "  <svg xmlns=\"http://www.w3.org/2000/svg\" height=\"24px\"viewBox=\"0 0 24 24\"\n",
              "       width=\"24px\">\n",
              "    <path d=\"M0 0h24v24H0V0z\" fill=\"none\"/>\n",
              "    <path d=\"M18.56 5.44l.94 2.06.94-2.06 2.06-.94-2.06-.94-.94-2.06-.94 2.06-2.06.94zm-11 1L8.5 8.5l.94-2.06 2.06-.94-2.06-.94L8.5 2.5l-.94 2.06-2.06.94zm10 10l.94 2.06.94-2.06 2.06-.94-2.06-.94-.94-2.06-.94 2.06-2.06.94z\"/><path d=\"M17.41 7.96l-1.37-1.37c-.4-.4-.92-.59-1.43-.59-.52 0-1.04.2-1.43.59L10.3 9.45l-7.72 7.72c-.78.78-.78 2.05 0 2.83L4 21.41c.39.39.9.59 1.41.59.51 0 1.02-.2 1.41-.59l7.78-7.78 2.81-2.81c.8-.78.8-2.07 0-2.86zM5.41 20L4 18.59l7.72-7.72 1.47 1.35L5.41 20z\"/>\n",
              "  </svg>\n",
              "      </button>\n",
              "      \n",
              "  <style>\n",
              "    .colab-df-container {\n",
              "      display:flex;\n",
              "      flex-wrap:wrap;\n",
              "      gap: 12px;\n",
              "    }\n",
              "\n",
              "    .colab-df-convert {\n",
              "      background-color: #E8F0FE;\n",
              "      border: none;\n",
              "      border-radius: 50%;\n",
              "      cursor: pointer;\n",
              "      display: none;\n",
              "      fill: #1967D2;\n",
              "      height: 32px;\n",
              "      padding: 0 0 0 0;\n",
              "      width: 32px;\n",
              "    }\n",
              "\n",
              "    .colab-df-convert:hover {\n",
              "      background-color: #E2EBFA;\n",
              "      box-shadow: 0px 1px 2px rgba(60, 64, 67, 0.3), 0px 1px 3px 1px rgba(60, 64, 67, 0.15);\n",
              "      fill: #174EA6;\n",
              "    }\n",
              "\n",
              "    [theme=dark] .colab-df-convert {\n",
              "      background-color: #3B4455;\n",
              "      fill: #D2E3FC;\n",
              "    }\n",
              "\n",
              "    [theme=dark] .colab-df-convert:hover {\n",
              "      background-color: #434B5C;\n",
              "      box-shadow: 0px 1px 3px 1px rgba(0, 0, 0, 0.15);\n",
              "      filter: drop-shadow(0px 1px 2px rgba(0, 0, 0, 0.3));\n",
              "      fill: #FFFFFF;\n",
              "    }\n",
              "  </style>\n",
              "\n",
              "      <script>\n",
              "        const buttonEl =\n",
              "          document.querySelector('#df-81c9ee23-5bb6-4cc7-bc95-0c278533d241 button.colab-df-convert');\n",
              "        buttonEl.style.display =\n",
              "          google.colab.kernel.accessAllowed ? 'block' : 'none';\n",
              "\n",
              "        async function convertToInteractive(key) {\n",
              "          const element = document.querySelector('#df-81c9ee23-5bb6-4cc7-bc95-0c278533d241');\n",
              "          const dataTable =\n",
              "            await google.colab.kernel.invokeFunction('convertToInteractive',\n",
              "                                                     [key], {});\n",
              "          if (!dataTable) return;\n",
              "\n",
              "          const docLinkHtml = 'Like what you see? Visit the ' +\n",
              "            '<a target=\"_blank\" href=https://colab.research.google.com/notebooks/data_table.ipynb>data table notebook</a>'\n",
              "            + ' to learn more about interactive tables.';\n",
              "          element.innerHTML = '';\n",
              "          dataTable['output_type'] = 'display_data';\n",
              "          await google.colab.output.renderOutput(dataTable, element);\n",
              "          const docLink = document.createElement('div');\n",
              "          docLink.innerHTML = docLinkHtml;\n",
              "          element.appendChild(docLink);\n",
              "        }\n",
              "      </script>\n",
              "    </div>\n",
              "  </div>\n",
              "  "
            ]
          },
          "metadata": {},
          "execution_count": 115
        }
      ]
    },
    {
      "cell_type": "code",
      "source": [
        "data.info()"
      ],
      "metadata": {
        "colab": {
          "base_uri": "https://localhost:8080/"
        },
        "id": "rhuYKZjk5nNW",
        "outputId": "b9391b4f-9083-4110-db9f-31e0df14ca7e"
      },
      "execution_count": 14,
      "outputs": [
        {
          "output_type": "stream",
          "name": "stdout",
          "text": [
            "<class 'pandas.core.frame.DataFrame'>\n",
            "RangeIndex: 406 entries, 0 to 405\n",
            "Data columns (total 9 columns):\n",
            " #   Column             Non-Null Count  Dtype  \n",
            "---  ------             --------------  -----  \n",
            " 0   Millas_Por_Galon   406 non-null    float64\n",
            " 1   Cilindros          406 non-null    int64  \n",
            " 2   Pais_Origen        406 non-null    object \n",
            " 3   Peso_En_Libras     406 non-null    int64  \n",
            " 4   Desplazamiento     406 non-null    float64\n",
            " 5   Aceleracion        406 non-null    float64\n",
            " 6   Nombre             406 non-null    object \n",
            " 7   Anyo               406 non-null    object \n",
            " 8   Caballo_De_Fuerza  406 non-null    float64\n",
            "dtypes: float64(4), int64(2), object(3)\n",
            "memory usage: 28.7+ KB\n"
          ]
        }
      ]
    },
    {
      "cell_type": "markdown",
      "source": [
        "- Generar 5 nuevas variables aplicando los siguientes criterios con las\n",
        "variables numéricas:\n",
        "  1.   Log10(var1/var2)\n"
      ],
      "metadata": {
        "id": "UgYx61XP6YE3"
      }
    },
    {
      "cell_type": "code",
      "source": [
        "array = data.to_numpy()"
      ],
      "metadata": {
        "id": "h8xBiJU6aQWZ"
      },
      "execution_count": 21,
      "outputs": []
    },
    {
      "cell_type": "code",
      "source": [
        "# Establecer el primer y segundo valor que se utilizaran en las priximas ecuaciones}\n",
        "pri_val = int(input(\"Ingrese el primer valor: \"))\n",
        "seg_val = int(input(\"Ingrese el segundo valor: \"))\n",
        "var1 = array[pri_val, 4]\n",
        "var2 = array[seg_val, 4]\n",
        "print(f\"Se estará comparando el desplasamiento del {array[pri_val, 6]} y el {array[seg_val, 6]}\")"
      ],
      "metadata": {
        "colab": {
          "base_uri": "https://localhost:8080/"
        },
        "id": "WS5VQfaw9G3F",
        "outputId": "b857c0e1-f83e-4975-a75d-4a144255e3b8"
      },
      "execution_count": 51,
      "outputs": [
        {
          "output_type": "stream",
          "name": "stdout",
          "text": [
            "Ingrese el primer valor: 4\n",
            "Ingrese el segundo valor: 6\n",
            "Se estará comparando el desplasamiento del ford torino y el chevrolet impala\n"
          ]
        }
      ]
    },
    {
      "cell_type": "code",
      "source": [
        "var_log = math.log10(var1 / var2)\n",
        "print(var_log)"
      ],
      "metadata": {
        "colab": {
          "base_uri": "https://localhost:8080/"
        },
        "id": "6d-qPxW46aMq",
        "outputId": "3e7f6648-1367-4d14-bd53-a2d5e9d1a8eb"
      },
      "execution_count": 52,
      "outputs": [
        {
          "output_type": "stream",
          "name": "stdout",
          "text": [
            "-0.1770489098999533\n"
          ]
        }
      ]
    },
    {
      "cell_type": "markdown",
      "source": [
        "  2. Sqrt(var1)*exp(var2)/200\n"
      ],
      "metadata": {
        "id": "mqixUFXX6m9r"
      }
    },
    {
      "cell_type": "code",
      "source": [
        "var_sqrt = (math.sqrt(var1) * math.exp(var2)) / 200\n",
        "print(var_sqrt)"
      ],
      "metadata": {
        "colab": {
          "base_uri": "https://localhost:8080/"
        },
        "id": "WgXkQALX6tUk",
        "outputId": "0a6dce8c-e9f6-4c53-87a9-295e7fa22ec7"
      },
      "execution_count": 53,
      "outputs": [
        {
          "output_type": "stream",
          "name": "stdout",
          "text": [
            "1.2843052559694249e+196\n"
          ]
        }
      ]
    },
    {
      "cell_type": "markdown",
      "source": [
        "  3. Si var 1 > var 2 → 5, caso contrario 3\n"
      ],
      "metadata": {
        "id": "lVoo6PrZ6o9f"
      }
    },
    {
      "cell_type": "code",
      "source": [
        "if var1 > var2:\n",
        "    var_if = 5\n",
        "else:\n",
        "    var_if = 3\n",
        "\n",
        "print(var_if)"
      ],
      "metadata": {
        "id": "V4USB0eD6uHO"
      },
      "execution_count": null,
      "outputs": []
    },
    {
      "cell_type": "markdown",
      "source": [
        "  4. 1/logn(var1/var2)*100\n"
      ],
      "metadata": {
        "id": "jQZTjNbR6qlY"
      }
    },
    {
      "cell_type": "code",
      "source": [
        "var_log_n = (1 / math.log(var1 / var2)) * 100 \n",
        "print(var_log_n)"
      ],
      "metadata": {
        "colab": {
          "base_uri": "https://localhost:8080/"
        },
        "id": "Dwqy_8Z-6vLy",
        "outputId": "d647f4be-be98-4bb2-ee20-95f73c3d9ade"
      },
      "execution_count": 55,
      "outputs": [
        {
          "output_type": "stream",
          "name": "stdout",
          "text": [
            "-245.29633204105164\n"
          ]
        }
      ]
    },
    {
      "cell_type": "markdown",
      "source": [
        "  5. var2**2/var1"
      ],
      "metadata": {
        "id": "W_HXDnM26sGb"
      }
    },
    {
      "cell_type": "code",
      "source": [
        "var_expo = var2 ** 2 / var1\n",
        "print(var_expo)"
      ],
      "metadata": {
        "colab": {
          "base_uri": "https://localhost:8080/"
        },
        "id": "lBy8v75g6v5z",
        "outputId": "a6413c17-3ea0-4275-c61e-08b474f57f2f"
      },
      "execution_count": 56,
      "outputs": [
        {
          "output_type": "stream",
          "name": "stdout",
          "text": [
            "682.5033112582781\n"
          ]
        }
      ]
    },
    {
      "cell_type": "markdown",
      "source": [
        "Resultados de las variables"
      ],
      "metadata": {
        "id": "_JPfCBH-6xxQ"
      }
    },
    {
      "cell_type": "code",
      "source": [
        "print(f\"Se estará comparando el desplasamiento del {array[pri_val, 6]} y el {array[seg_val, 6]}\")\n",
        "print(f\"Primera variable: {var1}\")\n",
        "print(f\"Segunda variable: {var2}\")\n",
        "print(f\"Log10({var1} / {var2}) = {var_log}\")\n",
        "print(f\"Sqrt({var1}) * exp({var2}) / 200: {var_sqrt}\")\n",
        "print(f\"Si {var1} > {var2} → 5, caso contrario 3 = {var_if}\")\n",
        "print(f\"1 / logn({var1} / {var2}) * 100 = {var_log_n}\")\n",
        "print(f\"{var2} ** 2 / {var1} = {var_expo}\")"
      ],
      "metadata": {
        "colab": {
          "base_uri": "https://localhost:8080/"
        },
        "id": "PGQqiwYl-oVz",
        "outputId": "ecf2e862-62d9-4372-f567-63484d8fbe5b"
      },
      "execution_count": 57,
      "outputs": [
        {
          "output_type": "stream",
          "name": "stdout",
          "text": [
            "Se estará comparando el desplasamiento del ford torino y el chevrolet impala\n",
            "Primera variable: 302.0\n",
            "Segunda variable: 454.0\n",
            "Log10(302.0 / 454.0) = -0.1770489098999533\n",
            "Sqrt(302.0) * exp(454.0) / 200: 1.2843052559694249e+196\n",
            "Si 302.0 > 454.0 → 5, caso contrario 3 = 3\n",
            "1 / logn(302.0 / 454.0) * 100 = -245.29633204105164\n",
            "454.0 ** 2 / 302.0 = 682.5033112582781\n"
          ]
        }
      ]
    },
    {
      "cell_type": "markdown",
      "source": [
        "### Ejercicio 3\n",
        "\n",
        "---"
      ],
      "metadata": {
        "id": "KvjK0Wobl7qm"
      }
    },
    {
      "cell_type": "markdown",
      "source": [
        "Crear una función que permita generar 3 variables cualitativas ordinales a partir de las variables numéricas con los siguientes criterios:\n",
        "\n",
        "*   Si es mayor a la “media + 1*desviación estándar” → Alto\n",
        "*   Si está entre “media - 1*desviación estándar” y “media + 1*desviación estándar” → Medio\n",
        "*   Si es menor a la “media - 1*desviación estándar” → Bajo\n",
        "\n",
        "Nota: Mostrar con las nuevas variables generadas.\n",
        "Elegir con libertad las variables a trabajar.\n",
        "La función debe contar con su respectiva documentación."
      ],
      "metadata": {
        "id": "NIHJg8aToJhc"
      }
    },
    {
      "cell_type": "code",
      "source": [
        "def generar_var_cualitativas(variable):\n",
        "    '''Con esta funcion se determinararn 3 criterios diferentes:\n",
        "    primero si la variable es mayor a su media mas la desviación estandar denominandola como alta \n",
        "    Sino entonces si esta entre la media - la desviacion y la media + la desviacion para llamarla media\n",
        "    Pero en el ultimo caso si la variable es menor a la media - la desviacion para denominarla baja'''\n",
        "\n",
        "    media = np.mean(variable)\n",
        "    desviacion = np.std(variable)\n",
        "\n",
        "    categorias = []\n",
        "    for valor in variable:\n",
        "        if valor > media + desviacion:\n",
        "            categorias.append(\"Alto\")\n",
        "        elif valor >= media - desviacion and valor <= media + desviacion:\n",
        "            categorias.append(\"Medio\")\n",
        "        elif valor < media + desviacion:\n",
        "            categorias.append(\"Bajo\")\n",
        "\n",
        "    return categorias\n"
      ],
      "metadata": {
        "id": "h4bZNSxQl9Gv"
      },
      "execution_count": 95,
      "outputs": []
    },
    {
      "cell_type": "code",
      "source": [
        "print(generar_var_cualitativas.__doc__)"
      ],
      "metadata": {
        "colab": {
          "base_uri": "https://localhost:8080/"
        },
        "id": "c1rCsLSNvUWR",
        "outputId": "37f0a0fc-bdd1-4ec8-dbd9-d46ec614ce3a"
      },
      "execution_count": 97,
      "outputs": [
        {
          "output_type": "stream",
          "name": "stdout",
          "text": [
            "Con esta funcion se determinararn 3 criterios diferentes:\n",
            "    primero si la variable es mayor a su media mas la desviación estandar denominandola como alta \n",
            "    Sino entonces si esta entre la media - la desviacion y la media + la desviacion para llamarla media\n",
            "    Pero en el ultimo caso si la variable es menor a la media - la desviacion para denominarla baja\n"
          ]
        }
      ]
    },
    {
      "cell_type": "code",
      "source": [
        "print('''Que datos desea analisar:\n",
        "1. Millas por Galon\n",
        "2. Cilindros\n",
        "3. Pesos en libras \n",
        "4. Desplazamiento\n",
        "5. Aceleración \n",
        "6. Caballos de fuerza''')\n",
        "eleccion = int(input(\"Ingrese el numero de la opcion deseada: \"))\n",
        "\n",
        "print(eleccion)\n",
        "if (eleccion == 1):\n",
        "  var1 = 0\n",
        "elif (eleccion == 2):\n",
        "  var1 = 1\n",
        "elif (eleccion == 3):\n",
        "  var1 = 3\n",
        "elif (eleccion == 4):\n",
        "  var1 = 4  \n",
        "elif (eleccion == 5):\n",
        "  var1 = 5  \n",
        "elif (eleccion == 6):\n",
        "  var1 = 8\n",
        "else:\n",
        " sys.exit(\"Opción invalida\")\n",
        "\n",
        "datos = int(input(\"Ingrese la cantidad de datos a analisar: \"))\n",
        "\n",
        "values = list(array[0:datos, var1])\n"
      ],
      "metadata": {
        "colab": {
          "base_uri": "https://localhost:8080/"
        },
        "id": "Z8iFWBFomLNI",
        "outputId": "a131fbdd-115e-4a01-ccde-f37027afaed4"
      },
      "execution_count": 89,
      "outputs": [
        {
          "name": "stdout",
          "output_type": "stream",
          "text": [
            "Que datos desea analisar:\n",
            "1. Millas por Galon\n",
            "2. Cilindros\n",
            "3. Pesos en libras \n",
            "4. Desplazamiento\n",
            "5. Aceleración \n",
            "6. Caballos de fuerza\n",
            "Ingrese el numero de la opcion deseada: 4\n",
            "4\n",
            "Ingrese la cantidad de datos a analisar: 30\n"
          ]
        }
      ]
    },
    {
      "cell_type": "code",
      "source": [
        "categorias = generar_var_cualitativas(values)\n",
        "print(categorias)"
      ],
      "metadata": {
        "colab": {
          "base_uri": "https://localhost:8080/"
        },
        "id": "JZbAeojIgOSJ",
        "outputId": "3ee9d080-ddf4-4c05-fd36-c8a6ef8c29e2"
      },
      "execution_count": 90,
      "outputs": [
        {
          "output_type": "stream",
          "name": "stdout",
          "text": [
            "['Medio', 'Medio', 'Medio', 'Medio', 'Medio', 'Alto', 'Alto', 'Alto', 'Alto', 'Medio', 'Bajo', 'Medio', 'Medio', 'Medio', 'Medio', 'Medio', 'Medio', 'Medio', 'Medio', 'Alto', 'Bajo', 'Medio', 'Medio', 'Medio', 'Bajo', 'Bajo', 'Bajo', 'Bajo', 'Bajo', 'Bajo']\n"
          ]
        }
      ]
    },
    {
      "cell_type": "markdown",
      "source": [
        "### Ejercicio 4\n",
        "\n",
        "---"
      ],
      "metadata": {
        "id": "XchOn7-xl9q8"
      }
    },
    {
      "cell_type": "markdown",
      "source": [
        "Crear una función que muestre los siguientes gráficos (simultáneamente) para las variables numéricas, según una variable cualitativa:\n",
        "\n",
        "*   Cajas y bigotes\n",
        "*   Barras de la media\n",
        "*   Histograma con densidad (Curva)\n",
        "\n",
        "La función debe contar con su respectiva documentación."
      ],
      "metadata": {
        "id": "UckhcqCfosQp"
      }
    },
    {
      "cell_type": "code",
      "source": [
        "mediana_por_pais = data.groupby(\"Pais_Origen\")['Pais_Origen','Millas_Por_Galon', 'Cilindros', 'Desplazamiento', 'Aceleracion', 'Caballo_De_Fuerza'].median()\n",
        "print(mediana_por_pais)"
      ],
      "metadata": {
        "colab": {
          "base_uri": "https://localhost:8080/"
        },
        "id": "vEkuvse8AKAo",
        "outputId": "4ff43605-63e4-4a7c-8ecf-fa836f1471c6"
      },
      "execution_count": 152,
      "outputs": [
        {
          "output_type": "stream",
          "name": "stdout",
          "text": [
            "             Millas_Por_Galon  Cilindros  Desplazamiento  Aceleracion  \\\n",
            "Pais_Origen                                                             \n",
            "Europe                   26.0        4.0           105.0         15.7   \n",
            "Japan                    31.6        4.0            97.0         16.4   \n",
            "USA                      19.0        6.0           250.0         15.0   \n",
            "\n",
            "             Caballo_De_Fuerza  \n",
            "Pais_Origen                     \n",
            "Europe                    78.0  \n",
            "Japan                     75.0  \n",
            "USA                      105.0  \n"
          ]
        },
        {
          "output_type": "stream",
          "name": "stderr",
          "text": [
            "<ipython-input-152-8b2cdea8d9a5>:1: FutureWarning: Indexing with multiple keys (implicitly converted to a tuple of keys) will be deprecated, use a list instead.\n",
            "  mediana_por_pais = data.groupby(\"Pais_Origen\")['Pais_Origen','Millas_Por_Galon', 'Cilindros', 'Desplazamiento', 'Aceleracion', 'Caballo_De_Fuerza'].median()\n"
          ]
        }
      ]
    },
    {
      "cell_type": "code",
      "source": [
        "groupped_data = pd.DataFrame(mediana_por_pais)"
      ],
      "metadata": {
        "id": "ey8JZ7XUERJ7"
      },
      "execution_count": 155,
      "outputs": []
    },
    {
      "cell_type": "code",
      "source": [
        "def graficar_columna(num):\n",
        "  '''La funcion solicitara un numero con el cual elegira la columa en la cual mostrara \n",
        "  los graficos con su informacion pero de los tres paises que se agruparon\n",
        "  '''\n",
        "\n",
        "  if (num == 1):\n",
        "    fig, ax = plt.subplots()\n",
        "    ax.boxplot(groupped_data.Millas_Por_Galon)\n",
        "    ax.set_title('Boxplot de llos paises')\n",
        "    ax.set_xlabel('Eje X')\n",
        "    ax.set_ylabel('Eje Y')\n",
        "\n",
        "    plt.show()\n",
        "\n",
        "\n",
        "    groupped_data.Millas_Por_Galon.plot.bar()\n",
        "\n",
        "    plt.show()\n",
        "\n",
        "    plt.figure();\n",
        "    g = groupped_data.Millas_Por_Galon.plot.hist(alpha = 0.5,\n",
        "                          figsize=(10, 4),\n",
        "                          bins=40)\n",
        "\n",
        "    g.set_title(\"Histograma de los paises\")\n",
        "  elif (num == 2):\n",
        "    fig, ax = plt.subplots()\n",
        "    ax.boxplot(groupped_data.Cilindros)\n",
        "    ax.set_title('Boxplot de llos paises')\n",
        "    ax.set_xlabel('Eje X')\n",
        "    ax.set_ylabel('Eje Y')\n",
        "\n",
        "    plt.show()\n",
        "\n",
        "\n",
        "    groupped_data.Cilindros.plot.bar()\n",
        "\n",
        "    plt.show()\n",
        "\n",
        "    plt.figure();\n",
        "    g = groupped_data.Cilindros.plot.hist(alpha = 0.5,\n",
        "                          figsize=(10, 4),\n",
        "                          bins=40)\n",
        "\n",
        "    g.set_title(\"Histograma de los paises\")\n",
        "  elif (num == 3):    \n",
        "    fig, ax = plt.subplots()\n",
        "    ax.boxplot(groupped_data.Desplazamiento)\n",
        "    ax.set_title('Boxplot de llos paises')\n",
        "    ax.set_xlabel('Eje X')\n",
        "    ax.set_ylabel('Eje Y')\n",
        "\n",
        "    plt.show()\n",
        "\n",
        "\n",
        "    groupped_data.Desplazamiento.plot.bar()\n",
        "\n",
        "    plt.show()\n",
        "\n",
        "    plt.figure();\n",
        "    g = groupped_data.Desplazamiento.plot.hist(alpha = 0.5,\n",
        "                          figsize=(10, 4),\n",
        "                          bins=40)\n",
        "\n",
        "    g.set_title(\"Histograma de los paises\")\n",
        "  elif (num == 4):  \n",
        "    fig, ax = plt.subplots()\n",
        "    ax.boxplot(groupped_data.Aceleracion)\n",
        "    ax.set_title('Boxplot de llos paises')\n",
        "    ax.set_xlabel('Eje X')\n",
        "    ax.set_ylabel('Eje Y')\n",
        "\n",
        "    plt.show()\n",
        "\n",
        "\n",
        "    groupped_data.Aceleracion.plot.bar()\n",
        "\n",
        "    plt.show()\n",
        "\n",
        "    plt.figure();\n",
        "    g = groupped_data.Aceleracion.plot.hist(alpha = 0.5,\n",
        "                          figsize=(10, 4),\n",
        "                          bins=40)\n",
        "\n",
        "    g.set_title(\"Histograma de los paises\")\n",
        "  elif (num == 5): \n",
        "    fig, ax = plt.subplots()\n",
        "    ax.boxplot(groupped_data.Caballo_De_Fuerza)\n",
        "    ax.set_title('Boxplot de llos paises')\n",
        "    ax.set_xlabel('Eje X')\n",
        "    ax.set_ylabel('Eje Y')\n",
        "\n",
        "    plt.show()\n",
        "\n",
        "\n",
        "    groupped_data.Caballo_De_Fuerza.plot.bar()\n",
        "\n",
        "    plt.show()\n",
        "\n",
        "    plt.figure();\n",
        "    g = groupped_data.Caballo_De_Fuerza.plot.hist(alpha = 0.5,\n",
        "                          figsize=(10, 4),\n",
        "                          bins=40)\n",
        "\n",
        "    g.set_title(\"Histograma de los paises\")\n",
        "  else:\n",
        "    sys.exit(\"Opción invalida\")\n"
      ],
      "metadata": {
        "id": "J7H85x8hJeOf"
      },
      "execution_count": 190,
      "outputs": []
    },
    {
      "cell_type": "code",
      "source": [
        "print(graficar_columna.__doc__)"
      ],
      "metadata": {
        "colab": {
          "base_uri": "https://localhost:8080/"
        },
        "id": "EB9A8MiUcWq3",
        "outputId": "1e3b0ccb-da51-4e13-fda6-eb5cf1ae3c70"
      },
      "execution_count": 193,
      "outputs": [
        {
          "output_type": "stream",
          "name": "stdout",
          "text": [
            "La funcion solicitara un numero con el cual elegira la columa en la cual mostrara \n",
            "  los graficos con su informacion pero de los tres paises que se agruparon\n",
            "  \n"
          ]
        }
      ]
    },
    {
      "cell_type": "code",
      "source": [
        "print('''¿Cual calumna quieres observar en grafica?:\n",
        "1. Millas Por Galon\n",
        "2. Cilindros  \n",
        "3. Desplazamiento\n",
        "4. Aceleracion\n",
        "5. Caballo De Fuerza\n",
        "''')\n",
        "num = int(input(\"Ingresa el numero de la opcion que requieres: \"))\n",
        "graficar_columna(num)"
      ],
      "metadata": {
        "colab": {
          "base_uri": "https://localhost:8080/",
          "height": 1000
        },
        "id": "PlrLjm9PbRWL",
        "outputId": "90edbc01-73ed-42b8-f2cb-f5191f921be9"
      },
      "execution_count": 202,
      "outputs": [
        {
          "name": "stdout",
          "output_type": "stream",
          "text": [
            "¿Cual calumna quieres observar en grafica?:\n",
            "1. Millas Por Galon\n",
            "2. Cilindros  \n",
            "3. Desplazamiento\n",
            "4. Aceleracion\n",
            "5. Caballo De Fuerza\n",
            "\n",
            "Ingresa el numero de la opcion que requieres: 3\n"
          ]
        },
        {
          "output_type": "display_data",
          "data": {
            "text/plain": [
              "<Figure size 432x288 with 1 Axes>"
            ],
            "image/png": "[encoded data removed]"
          },
          "metadata": {}
        },
        {
          "output_type": "display_data",
          "data": {
            "text/plain": [
              "<Figure size 432x288 with 1 Axes>"
            ],
            "image/png": "[encoded data removed]"
          },
          "metadata": {}
        },
        {
          "output_type": "display_data",
          "data": {
            "text/plain": [
              "<Figure size 720x288 with 1 Axes>"
            ],
            "image/png": "[encoded data removed]"
          },
          "metadata": {}
        }
      ]
    },
    {
      "cell_type": "markdown",
      "source": [
        "### Ejercicio 5\n",
        "\n",
        "---"
      ],
      "metadata": {
        "id": "FLsyFTJZmBpp"
      }
    },
    {
      "cell_type": "markdown",
      "source": [
        "Crear una función que devuelva un mapa de calor con la correlación de todas las variables numéricas (incluye las generadas), para cada país.\n",
        "\n",
        "* La función debe contar con su respectiva documentación.\n"
      ],
      "metadata": {
        "id": "F8tahmQrpHqr"
      }
    },
    {
      "cell_type": "code",
      "source": [
        "def correlacion_calor(df):\n",
        "  '''\n",
        "  Con recibir el dataframe se calcula la correlación que permite el desarrollo de un mapa de calor\n",
        "  '''\n",
        "  corr_matrix = df.corr()\n",
        "\n",
        "  fig, ax = plt.subplots()\n",
        "\n",
        "  sns.heatmap(corr_matrix, annot=True, cmap='coolwarm', ax=ax)\n",
        "\n",
        "  ax.set_title('Mapa de calor de correlación para USA, Japan y Europe')\n",
        "\n",
        "  plt.show()"
      ],
      "metadata": {
        "id": "_wi9nJm5eG19"
      },
      "execution_count": 199,
      "outputs": []
    },
    {
      "cell_type": "code",
      "source": [
        "print(correlacion_calor.__doc__)"
      ],
      "metadata": {
        "colab": {
          "base_uri": "https://localhost:8080/"
        },
        "id": "_26bKWbxfpRK",
        "outputId": "ee81fce2-5331-4469-a77a-fef872a65bbe"
      },
      "execution_count": 200,
      "outputs": [
        {
          "output_type": "stream",
          "name": "stdout",
          "text": [
            "\n",
            "  Con recibir el dataframe se calcula la correlación que permite el desarrollo de un mapa de calor\n",
            "  \n"
          ]
        }
      ]
    },
    {
      "cell_type": "code",
      "source": [
        "correlacion_calor(groupped_data)"
      ],
      "metadata": {
        "colab": {
          "base_uri": "https://localhost:8080/",
          "height": 378
        },
        "id": "XE14odsef1XV",
        "outputId": "be662cb3-f7dd-4642-892e-7f6ad18ce4f4"
      },
      "execution_count": 201,
      "outputs": [
        {
          "output_type": "display_data",
          "data": {
            "text/plain": [
              "<Figure size 432x288 with 2 Axes>"
            ],
            "image/png": "[encoded data removed]"
          },
          "metadata": {}
        }
      ]
    }
  ]
}