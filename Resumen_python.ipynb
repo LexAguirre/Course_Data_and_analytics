{
  "nbformat": 4,
  "nbformat_minor": 0,
  "metadata": {
    "colab": {
      "provenance": [],
      "authorship_tag": "ABX9TyPW/r2V7aHcNKRuJQvJXIg0",
      "include_colab_link": true
    },
    "kernelspec": {
      "name": "python3",
      "display_name": "Python 3"
    },
    "language_info": {
      "name": "python"
    }
  },
  "cells": [
    {
      "cell_type": "markdown",
      "metadata": {
        "id": "view-in-github",
        "colab_type": "text"
      },
      "source": [
        "<a href=\"https://colab.research.google.com/github/LexAguirre/Course_Data_and_analytics/blob/main/Introducci%C3%B3n_a_python.ipynb\" target=\"_parent\"><img src=\"https://colab.research.google.com/assets/colab-badge.svg\" alt=\"Open In Colab\"/></a>"
      ]
    },
    {
      "cell_type": "markdown",
      "source": [
        "Importaciones de librerias para su ejecución"
      ],
      "metadata": {
        "id": "gCToFPDq-egH"
      }
    },
    {
      "cell_type": "code",
      "execution_count": null,
      "metadata": {
        "id": "moW_35ua-FTU"
      },
      "outputs": [],
      "source": [
        "# Importando librerias\n",
        "\n",
        "import sys\n",
        "import keyword\n",
        "import operator\n",
        "from datetime import datetime\n",
        "import os"
      ]
    },
    {
      "cell_type": "markdown",
      "source": [
        "Palabras reservadas de python"
      ],
      "metadata": {
        "id": "OaTZFQsO-xLs"
      }
    },
    {
      "cell_type": "code",
      "source": [
        "print(keyword.kwlist)  # List all Python Keywords\n",
        "len(keyword.kwlist) # Python tiene 35 keywords"
      ],
      "metadata": {
        "id": "MSOXL3BT-1av"
      },
      "execution_count": null,
      "outputs": []
    },
    {
      "cell_type": "markdown",
      "source": [
        "Errores con nombres de variables"
      ],
      "metadata": {
        "id": "V6r-axYf-9YB"
      }
    },
    {
      "cell_type": "code",
      "source": [
        "1variable = 10 # Un identificador no puede empezar con un número\n",
        "valor1@ = 35 # Un identificador no puede utilizar símbolos\n",
        "from = 125 # Keywords no pueden ser utilizados como Identificadores"
      ],
      "metadata": {
        "id": "zErd6HPJ_E_p"
      },
      "execution_count": null,
      "outputs": []
    },
    {
      "cell_type": "markdown",
      "source": [
        "Comentarios en python"
      ],
      "metadata": {
        "id": "YKEy51tM_NPW"
      }
    },
    {
      "cell_type": "code",
      "source": [
        "# Comentario de una sola fila\n",
        "''' \n",
        "Otra\n",
        "forma\n",
        "de comentar\n",
        "en múltiples líneas\n",
        "'''"
      ],
      "metadata": {
        "id": "9Pa4psQS_Rvf"
      },
      "execution_count": null,
      "outputs": []
    },
    {
      "cell_type": "markdown",
      "source": [
        "Operadores aritmeticos"
      ],
      "metadata": {
        "id": "Bm8Lu3ho_fjL"
      }
    },
    {
      "cell_type": "code",
      "source": [
        "x = 50 + 70\n",
        "y = 50 - 30\n",
        "z = 50 * 2\n",
        "a = 50 / 4\n",
        "\n",
        "print(x)\n",
        "print(y)\n",
        "print(z)\n",
        "print(a)\n",
        "\n",
        "x += 10 # x = x + 10\n",
        "x -= 10 # x = x - 10\n",
        "z *= 3 # x = x * 3\n",
        "a /= 2 # x = x / 2\n",
        "\n",
        "print(x)\n",
        "print(y)\n",
        "print(z)\n",
        "print(a)\n",
        "\n",
        "b = 10 \n",
        "b %= 3 # Resto de la división\n",
        "c = 10 \n",
        "c //= 3 # Entero de la division\n",
        "d = 10\n",
        "d **= 3 # Numero elevado al cubo\n",
        "\n",
        "print(b)\n",
        "print(c)\n",
        "print(d)"
      ],
      "metadata": {
        "id": "L3gk9IFm_mCJ"
      },
      "execution_count": 1,
      "outputs": []
    },
    {
      "cell_type": "markdown",
      "source": [
        "Docstring - Documentación d las funciones"
      ],
      "metadata": {
        "id": "sI174LheBobz"
      }
    },
    {
      "cell_type": "code",
      "source": [
        "def alCuadrado(num: float): # paràmetro\n",
        "  '''\n",
        "  Devuelve el número ingresado elevado al cuadrado (2).\n",
        "\n",
        "  Parámetros\n",
        "  ----------\n",
        "  num : float\n",
        "  en *num* también puedes ingresar un número de tipo `int`.\n",
        "  \n",
        "  Ejemplos:\n",
        "  ----------\n",
        "  >> alCuadrado(num=6)\n",
        "  >> 36\n",
        "  '''\n",
        "  return num**2"
      ],
      "metadata": {
        "id": "wu3O-B3nCS25"
      },
      "execution_count": null,
      "outputs": []
    },
    {
      "cell_type": "code",
      "source": [
        "alCuadrado.__doc__ # Acceder a la documentación de la función"
      ],
      "metadata": {
        "id": "ZK7rvio5CYc6"
      },
      "execution_count": null,
      "outputs": []
    },
    {
      "cell_type": "markdown",
      "source": [
        "Nombrar las variables requiere que se separen por _ para considerar como que se respetan las buenas practicas de python, pero otra condición es no usar mayusculas"
      ],
      "metadata": {
        "id": "KT_0DQDpCqnd"
      }
    },
    {
      "cell_type": "code",
      "source": [
        "my_name = \"Ramón\"\n",
        "number_of_names = 2"
      ],
      "metadata": {
        "id": "mlddqLXkDYyq"
      },
      "execution_count": 3,
      "outputs": []
    },
    {
      "cell_type": "markdown",
      "source": [
        "Aspectos de las variables"
      ],
      "metadata": {
        "id": "laI3U8doDxIJ"
      }
    },
    {
      "cell_type": "code",
      "source": [
        "id(my_name) # Obtener el id de un objeto\n",
        "id(number_of_names)\n",
        "\n",
        "hex(id(my_name)) # Obtener el codigo hexadecimal de un objeto\n",
        "hex(id(number_of_names))\n",
        "\n",
        "type(my_name) # Obtener el tipo de variable \n",
        "type(number_of_names)"
      ],
      "metadata": {
        "id": "1yU2CUQjD2F-"
      },
      "execution_count": null,
      "outputs": []
    },
    {
      "cell_type": "markdown",
      "source": [
        "Asignación de multiples variables"
      ],
      "metadata": {
        "id": "4OwZO0KSEy4m"
      }
    },
    {
      "cell_type": "code",
      "source": [
        "a, b, *_ = 5, 6, 3, 20\n",
        "\n",
        "print(a)\n",
        "print(b)\n",
        "print(_)"
      ],
      "metadata": {
        "id": "5HqakzbbE3P9"
      },
      "execution_count": null,
      "outputs": []
    },
    {
      "cell_type": "markdown",
      "source": [
        "Variables Boolean"
      ],
      "metadata": {
        "id": "pofINb4LF3Lf"
      }
    },
    {
      "cell_type": "code",
      "source": [
        "bool1 = True\n",
        "bool2 = False\n",
        "\n",
        "print(bool1)\n",
        "print(bool2)\n",
        "type(bool1)"
      ],
      "metadata": {
        "id": "N5EWYyTlF9yn"
      },
      "execution_count": null,
      "outputs": []
    },
    {
      "cell_type": "markdown",
      "source": [
        "Variables String"
      ],
      "metadata": {
        "id": "VZ80_zNiGVvT"
      }
    },
    {
      "cell_type": "code",
      "source": [
        "from re import S\n",
        "str1 = \"Hola mundo \"\n",
        "str2 = '''Hola \n",
        "  Mundo'''\n",
        "\n",
        "print(str1)\n",
        "print(str2)\n",
        "type(str1)\n",
        "print(str1 * 10) # duplica la cantidad de veces establecida un string\n",
        "len(str1) # Cuenta la longitud del string "
      ],
      "metadata": {
        "id": "8YmdxG0-GcnV"
      },
      "execution_count": null,
      "outputs": []
    },
    {
      "cell_type": "markdown",
      "source": [
        "Indexado"
      ],
      "metadata": {
        "id": "Wh8cI7jNJGGc"
      }
    },
    {
      "cell_type": "markdown",
      "source": [
        "![index string.PNG](data:image/png;base64,iVBORw0KGgoAAAANSUhEUgAAAxQAAAEZCAYAAAAOgmNmAAAAAXNSR0IArs4c6QAAAARnQU1BAACxjwv8YQUAAAAJcEhZcwAAEnQAABJ0Ad5mH3gAAIdmSURBVHhe7Z0FdBTX28aJu7t7CCEhCe7uXtyKS5G2eLHirsWLu7u7uztB4+6y0d3N892Z3YQElv9HAwQyeX/nPKc0c2fm3rl3Z95nrkwpEARBEARBEARBFBIyFARBEARBEARBFBoyFARBEARBEARBFBqFhiInJ4dEIpFIJBKJRCKVAH0t1ENBEARBEARBEEShIUNBEARBEARBEEShIUNBEARBEARBEEShIUNBEARBEARBEEShIUNBEARBEARBEEShUWgoFM3+JpFIJBKJRCKRSMLT10I9FARBEARBEARBFBoyFARR0pGk4eLyiajt4wU3V1e4/r+qj3VnXyAtSyI/APElHF/REZV8S/PX0K3/LITGJcu3fJ7re+eiakUffh/f7tPwOiYJUvm270ca7q+chvp+5fj20LB9H9x+G4vs73/igkTcQZum9eDu5sbK3wgLdt1Bcnq2fCNBEATxM0GGgiBKOmIRjs8YBAd9HagoKUHp/5UrFh56CFEmGYr/wp4Z1WFmqMZfQ5WWIxEYnSjf8nnOrR8LK1N9fh/Der/jWWRCkRiK6zN/h6uRHt8e3Ks2w+WXUUVvKEKvoGJZF6iqqLDye2D8mitIFJGhIAiC+BkhQ0EQJR1xKo5PHwh7PW0olSqFUv+vXLCADMV/Zs/0ajDVV+WvoXKLEQj4AkNxdt0YWJjo8fsY1B1WZIbi2sxhcDHQhTI7r1uVprj0IrLoDUXsM4wY2h9tWrdGq1a/YcupZxBliOUbCYIgiJ8JMhQEUdL5yFBYONTH3wtXY+PmLdiyRZEO4nlwPMSSr5/EVZIgQ/EfyZEgLU2E1NRUpjRkZUvwDeYNEgRBEN8BMhQEUdL5yFC4+g3E1dcxSMvMQlaWImVDIv00ssuRZiMi4CWunT+BXbt2Ytf+I7h8+ymik9Ih/SQSzEFi0HOc3rcHO7dvx6GrT5CckgD/B9dwaP8u7Dt+HvfuXsXevbuxnW3ff+oSIhJE7Djy3RkxAY+wn+3Pbd9+4DKiRRkfgm2pGMFPb+Lgnt3YwbYfv+WPlCwxOyu/EQlhb3Hn2nns370LO3bsxIGjp3D70SvEp7JjfJTVuPdPcJydhzvOgVsvkJIch+d3r+Ag2/fIqQt4GRyLLHHumaXISIrCg+tncIDl/cCRM3j2PgoZbPvub2ooxHj/4Bz27dnJyn8Id56HI4PVTUpsKG5dOYN9e3fh4PEzePw6BOmfm+vC6iQzNQ7P7l7HYXad9hw+iQevQli9J+HajP/HUEilECVE4P61izjArsPuPYdw/to9Vkdpn7SN6Hf3cCC3npiuP2d5YuZAhhTJES9x5she7NzBtu/ah2vPgiFiec5Ji8bJY4dZ/exg+x3FozfR8uss2+f00X38PkdPPkZcWhYy05Lw5uk9HDvE2tS+g7h69ylik9MUtD0ZOeJMBL68hzOH92Pf/kO48egNUjPEyM5Mxv2rh7BnF5ffo3gbmQyxgvZOEARBfIAMBUGUdD4yFG4VBuNWYCLEXxpD5UgRH/IYG2cNR+NaFeFiZwl9PT3oGZnBycMHTdoNwKYTdxEvysr3hlkK//2LUdfeGoa6uijdcRw2Lp2ARpXLwNRIH0ZWjmjVpwu8rC1gwLYblW2E7ddesUA0N6rNxpH5HWBvZQxdtl3XuAaOPA5HpnyzJD0BK0a0gJ25Eduuj25z9iM6JQNiUTQu7VyAXxrXQGlXOxjp67HtejA2t0Jprwpo1fcvXHoejAzJh+j5/o4ZqMLKxOXDqd9UbJozEvV8S8PEQB9mNqXRf+YeRLFAWirJhv+lHfj915Yo52YLY0N9GJvZonyt5pi+8TQWj/CFsZ7KNzIUadg5sSnsLQ1Z/t0xbPYRHNm4AL3bNoCHsw0MDVmZLG3hXaU+Ri05gMDY1AJGKYcZrvCn5zC6d1tUKOMKU1YWAzMreFaoj3GLN2Lr8F78nBq+PRQwFDmQZqfj2YWdGNKlKbxdHGCsrw99AxPYu5RBg/Z9sJbVdQJX1/yZgPDnJ9GjbmmYGrJ6YtewapuxuPGamTCWIUmWCJundYe7rQn02DZb9wZYf/YFkrnhdGHXUbOiF9+WdHX9MHnDdSSlcXMoJHh3cRmrAzsY6uvCp9oknLlwApOGdEV1P0+YmxiwtmcC5zI+aNF7Ast7BDN0+RtzDjMkr7Fj3ig0qOoNG1MjGBqbwtWnBv5YsAfPXtzDmO4esDLl8lsBm6+8QVr2l/4YCIIgSiZkKAiipPNVhkKCWP9z6NnYiwXLWlBVVYGykhIfAJcqpQRlZRWoqmlAx7w0RvxzBKGJmfLAVooXu+eiCgv+VFlaTTtnOFrrQkNNmc+DprkHpu86juFN3aGnoYxSyhYYvuI0kligypP+Dn818oGumixAL1VKFSN33UVShuzNd2rEPfSsZA0tVbZNtxxWnnoCUVY6zq0eAV97E3Yelk/l3HwysTxzeVVT10TlDmPwIDgBuZ0Odzf/DW9jPaiwdOpOLnAy1oGGiiyfOtYVsOjoIySnpyHkxmY09LSFjobah2NzE7BV1aBl6AJXFx2oqcn+/i0MxZbRdWCqp8a26cOrXEXYGBtCU021wLmVVVShaeCK8ZsvIZEPxmUE3z6IrrW9YaCtARVlWVly02sbm8DNxopdO9m1zW8opOIMXNo+HZU97aCdv5ysrpXYcVTV1KFrUQaT1p9HZLLMQEqzUnB9wxSUsTHm24aKvg16zd2J6KRkBF1YiSqO5lBlfy+laYbes7YjNEEkM56hV1De00l+jtIY92/upGwJ3p5bhKruxlBVZtfFsBzKeThAX0cTKly9KMnyw9enhh5q9JiGx0FxeT0n4oQATOnTBLbGulDLn15FBRr69ug0fCraNzKDrhb39zJYf/E1RGQoCIIg/icKDYWiD16QSCSBihmKY9MGwI4ZAi6w1GIBX6WaddGgYUM0/EgtOnTFkYehyGDRJbdvRow/pg9oBGNdDX5fZTVNmFhYw8HREY72NjDW1+ZXCiqlpAwDp2qYc+AOkjOy2b4SPN81F5XlhqIUC/50bCvir0UbcfzkaVy8dhvh8SIcWdgfdgac0VGCb685CIpL4YewJPsfQ11vexYQ5ga0pVDvz814z/UUsO0Bl1bA3dIQymw/65q9cON1JDLCb6N79dLQVuUMiir0TSxg78Dy6egAM0MdFljLjqXt4IeV5/2Ryg27Yce6wwyFl9xQcPk0cquByUs34fip07h8/QGikjKYgXmG8T1qsgCdC/Bl18FUfh0cbK2hr60J1Xx5VWo+HO+jEj7UwWd0du1oWLBzc/vo1xmGpxHxkPDbRNg8qg5MdLnzsSCdBcOqalowtbRh53SArSUzTSxYlp1PGb7tZ+JFdJJsX3EcFvWtBXO2L1dnSirqMDa35q+Fg70tjPS4vMpNBpNr5Sa49DwSWZIcxPufQfsKLsxssGMrqUDP2Ay29g5wdLCHpYk+b064uras+Av233rLD7fKyZEiMzEA84c0gZkeaydsu75zXWzetxdD2leFvhYrg7IayrcchSsvwpHJnBxf/pDLKF8m11C4Y9zqy0hI5UyKGG/OLkRVN5mhUGL5UGH1omdsDjsHB3a9rWCgpZFnbDVs62LL1RfMUIqRIxHh5uYJvLlR4YwE21fH0BR2rAwOrAxmRvrQN7WCkaEqOyZXfg+su/CKtQV5nkgkEkmg+lqoh4IgSjof9VBwAZ+KiipUVT+VvqUjVl3ghoDI3pM/ProQfrZG8uBME036TsapW88QGRuPmPD3OLd9IZr6WENDlXuDrQ7XNuPwJiqRBf0FeyhKqRngl7HMEEQmIytbDLFEFswHXd+MBh6mUGfBnaFDK5zjh8pk4cmOv+Fprc+CRlnQy6lM7QG49TYOYilXnnYw09dggaoumv3xLwJiRUh8fwVTR/VHkzoVUa5qGyw/dBPh0XGIi4nA2fXj4WlnyAeRSiYuGL/7FhLlKwrl76FQVjdAr1n7ERSbiuy8fAKvz69GbScTqHH7s+C4Xo/xOHnzBaLZdYgIfIFtc4fA1dwgL7/ftoeCO6YOmvaditN3XyEmJgav75xE95rMPKnJTIVD2QG4/i4e3Iv29DdHUcPNRtYrUEoT5ZoMxMHLj9m1iOXr7ODqcajgbMSCdVlAnttDkcWC8TPze8PGiGsnyrD2ao7ley4iICwGsdGheHh2E5r6mrG65kyKGX5beAhxKRl8brlhceGPj7M8ufN5UmKGzsrODoaa6vw10XGpgS2XX/ImLo8v7KHgeqdsyjbGij2XERgei4ig59g4rhvMmBHlr41yGczfe5cZWTEzwC8xultFZvBkc1nMyzTCnC2nWBmiERsVhmuHlqOVnyO05NeNeigIgiC+DDIUBFHS+chQyAIpxdI2tcXK86/lhiITm//i3pLLgjPDaj1w41UoMsUsyOaOyyJtcUYKLrKg2MVINsFXWbc6jj4JZ6agoKHQMLbF3MOPZGPn85EZ/QwjWlWBjoYq1PRsMOfIEyQlxWDt6A4w19WEkro7qlctDU1NNWi41sSGK6+QGv0cY1tXgS7bR8PICTNZMMmZgxxJNpIT4hAS+A6v3wbzH0mTSiXISE3CqwvrUbWstawXge0zZvs1JMg/opbfUGgb2eJfVn5RVsEA8/Sq32FjLJtzoOnYDIcfvmdBqOw6cG/oM5LeYtIv3tDX+HZzKPIbCmWXpjjOzpk7x4QbZrRvel848L07pWBXujsuvuI+TifGm2MT4MLMGPd3HefKWHn8HpJYWXPrjOtNWDqoJcx0ZL1OeUOeEt9hcsc60GfXupSaHhoOmIUTl2/h0ePHeMz08MFtzBjYEIa66ixPSnDpPRuBsR8+3ifNTsW9/bP4IWecAeW/acKOr6btiCFz9yMiMT1v3gXPlxoKPWsMWHKIHyrFjWrirnf8s4OoaWchM6ulnDB9+w1WRjFiX59Ft8o2sqFwpdQwdPkpth+3aAA7LCu7JJO117Vj4cB9+4PflwwFQRDEl0CGgiBKOh8ZCmOriug/fBwmT52KqR9p1vzFuPs+Dtn8krHhmNagLPTkb3Ob/rkU0Yki2THzEfnsKNp4mEKDC/6UtLDqwjtmSCQFDIWBpSN23Aj6aPIsQ5KCUzM6w0xfE6VUdNFh/F68fvMQQ5u7QUddGeo+nbBk5mC4cR9h03TGmLUX8OradjTxs4E6MwfmpTvi7KsYZmDkx2NBY05WKgKe3cOJfVswb+rf+L3/r6hTwR26LFDmg0jOUGxTbCgMzGvi8KNIfPwJjp3TGsFUXxbc67X5C2+ZWShQEhbk7p/dBmYGGnyab20obFoOx6uwOK54MqRZuLZyLMrI821XupvcUKTh5uLfYGckMz/uNdvg8osIVp/y/ThyWJqVf8DVtOAqT2mh99GtiR+01DkDqQR1TR3oGxjC0PCDdDTVeaPA5cm0ych8+eVgAXt6FP4d1gZWnBlkabjhWOVaj8H119wcjY/q/gsNhZatJ5aeeoqUfJWSEXUT7Z1soMmfwwnTtskMRciNHWhiZw4N/u/O2Hg1AKKPPm0Rdm8fmthayNOQoSAIgvgSyFAQREnnI0Ph6jcAl/0jkZKWjvT0j5SRkW8JzXBMrekJPW48Pduv9ZhViEtOk2/7QOzrU+joYwpNFS5AU8fK858aCiNrZ+y/F/5JoM4iY0Tf2QQPC2MW3CrDs+lAHNm7CtVtTaCmpIqqv07DzfM70KaiJTRU1VB76BLsnjsY7iZcMKyM6kNWIISb5MsdKSsZNw+tRO/mNeDh7AA7O1u4unvCx68SKpf3hD43D4QbkvQ/DIWhRROcehH9waDI2f53XZjkGop2E/A+JqmgoWCc+KcbzA21+DTf2lCU6TQe7yOZick9aU42Hm6YBj/59c1vKK7MHwQ7Q5mh8KjdFtdYXcs7NuRk4cGWMXC31OOHI+UaiuTAW+jY0Bua6ir8nAdzZ09UqlIN1atXV6hmzGC+i0vOZyiYFRCFYXbPWjCSzzXhZOnbAvuuvc63gpecL52U7eiNDZe4XqMP+2cmP0E/Zzvo8Of4YCgCLm1EXWtTqPN/98D2W8FI/6jNRT09ilZ2lnIzQoaCIAjiSyBDQRAlnY8MxZev8iTCioE+MNSWGQqXDhMRxALIj3d7fXoFypsb8gF5qVKe2HEnhF+WNb+hMGaG4oBCQwFkJ7/F4BrW0FYtBTWbWhgyqBmM9FlgrmmFgYtOIDzwMUZ0qAodTVVoV+qJvh09oK/DvUW3xcRNV/jhPFyQ/O7CStT1soW2uirsyjXBxAWrcPz8dTx5+Rbvb+1BLT9HqHHm6H8YCiOLpgoNxbEl/ZhZkI3Z13HviVtBcSj44jsZq3+rAmM+X9/eUHh2Ho+A/IaCnf3xpumo8ImhyMaLfcPhaKHL17Wed0PsvfOO/05GHlmJ2D+xF2z05e1BbijSI56gT7PK0NZgZVAxRIfRm/EyKAqJSUlIUqBkUQY/CTwPcRoe7J4JX3tT2UR9dmz+Wqjoo06fBXgVm1LAfHyxoXDyxkbOUOQL+rNSnmKgy6eGIuLRfrR2s4AmP5dFDzMPPUFS7lrDcl6cWARvSyN5eyVDQRAE8SUoNBQfz/wmkUgCFjMU+Vd5ci3/G24GJPJDUBSmz5MU51cPhj0LpLn9VLStMOKf/XgTnoBsZhi4bwwEPz6HP9v4Qo8LQkspwaTmQDwN5ZbwLLjKk5G1E/bfDeOHPH1yHnEGtk3qBAs9TX5it44ON5FXCQZ25bHh4huI0uNxfFI3mHH5V9OGtpYK39Og69cKxx4G8qsGSVPDsXBYK341Ki6IrdBjFm6/i0J6VhZSkyJxZt1weNox08ANyzJ0xOitVxGfxq0oVHCVJ0PzJjj1PIoZn4J5fHZsCSrbGEKVnVdZwwj9Z22Gf1gCxOw6ZIkScP/wclRws2QBsCyQ/rarPDFDwfVQRDCzkbdvNh5tnIby8utr694VF/xj+JWaUp7tQnlHC9k8BjVjtPptMR6/Z9vYdRJnpuLxhU1oXdkamvIlbnNXecrMjMGm31rAVIe7hkp8z8L2M/dYkJ/Ff4Mj9v1VjOnREb0GjcCilZtw+0UoMrl5JPI8hT4+jK613Zih4wyoJkr7esPCQIs3FxqG1hi1+iQik7gPC8rL8IWrPPE9FBdf8T0UuefKTH6KAXmGwhFTt13nl81NDbuPoS09oMstRczK4NVkKA7deou0LDGk4kyEPjmLYc0rQJ9vr9y+tMoTiUQqGfpaqIeCIEo6H/dQlP/y71BEPj6JthUdocEPe2JBvrkT6jZvh959+6FPzy6oW6E0v5QqF+Cr6Flj8JLDiE3NQA6+vIcCORI8PTwPFR1YWv7NskyOlQbhegC3cpEEYefnwc7CIG8bN7SqRqcZeBHKLZXKipgYhL961oUet0Qp265r5oTGbTqjT9++6NaxJco6mkBdVf7WPNdQ/IceiuSA6xjQsCwLlrlJ10rQM7dHveYd+OvQs0tb+LlyK13lfjPj+/RQFBjy9JkeCi7fOWkhGNPCC3p8YK8ETR0r1GjyC3r27ofePTqhalkHaGswUybPa24PRZaEBfIn5qKsBbccL7eSkyZcfKqjY7de6NunF1rV8YWhrhbUNTShbVUOs3Zf4ye+c3MnctLCsXRAa1hyppDta1y2BQ6cPIhR7eTLxnJLzfp2wIE7b5Ge21vyH4Y88T0U+SqlYA+Fo7yHIhvSzDjsndZdvlIVa5OaBvCs2hA9evZB39490LCKJ4yZYZV9m4IT9VAQBEF8CWQoCKKkU+ghT9zKPSm4u28uKrma8m/fuSVnVdXUWFCpAQ119Q/fM9Aywi9j18I/MkU+DOY/GApGesgt9KznBa28D9mVQp1xmxGWJFsZSBpzAy1cLKEuDwSVdYzw56ZriE2Tr16UnYRTC4bxHzPj8sPlU01NHRosn+osnwYWZVHF14rlmR1f0xZDlp5mxkf2Eb0vMRQ50jQ8P7UEFRyNZKZHSYn/yJvs+GpQ4eYcWFpCl5kK7vw/bsgT25Qjxatz69DS2wGa/LcquLx+qDMVFXWYWVjx+eaOnWsouH2zUqOxelxH2Jho8UE39yE87vppaKhDTV42JWUtNOk3D4+C4vn5NtKsVFzYMBJe9rJlebXNy+HvLZcQl5yO8Ad70aCsNdS5tsPOW73L33gSnMCbwK8b8vRM4ZAnztykB91Et7re8rYk+5ifurq8vWqbolKtarDX1uKvGxkKgiCIL4OGPJFIJV2FHvLESQpxeiKuHlqNXxv6wFhfhzcRXCDKvXVWZYGasWVZ9P57BR4HxiFLkjt05D8MeeKUFYtNfzbn3x7Ljm2KCduu8W+d+e3SBExt7ww9DVkvg55ZTRx4GIb0vONJkRL+FBN+bQhrI13+i8pcOmVVdRjZV8Df/x7H/qVDYMEMRyklDdRmAXFgdDI//OZLhjxxEmfE4+jKMajsYc3PM8g1LuoauihdtQNmTxwKbyN9vrw/csgTt12SloB7B5ehjpctdDTV+CFkpZSZydLQhK1vK8yZPQ7O9uZ8MJ//w3Y5UgkSQp9g+V894GZpLPsyd66JY4G5lqEV6ncfj+vPuY8fcsOdpIh+cgqdK8u+P8F9SK7RwEV4GsIMK2tfkswE7J7aG85GOnyvh5aRG0atOoXI5AxIg7/9kCd+uyQLT87vQLd6fjDU0eTLztcTM6H1ek7Czo3zUc3SFGr8vp6yCd/MTeUem0QikYSor4V6KAiipCPJwOMjmzDqt4Ho07s3xk3ZgrcxabK3xF8EC6azMpCcEIU75w9j2by/MaB/P/T/fQwWr9+N+y+DkZSaDkne6lAcUoTdPoHpwwajHzvn0OFjcZ83MfLNn5CD4Nt78eew39Cbpe89bCauv43gDUru9luHV2HY4AH89t/n7kBoUpr8bb4MLhhOiY/AvXMHMO3v0ejH8jh54XrcfBaAlLQsRPtfxtQ/h6Jv7z4YMGkVXkcl8sF7wPWDmMTy2ZfL5x8sGA5P/kzvTQ6yM0QIe3UPW5fPwB9DBuCP4ZOxfv9ZvA2NQ9DDc5j+x1C+vH0W70SsghWxPub5lT15ZR48dxsrk2zFKu4bINf3zMWw3/rx2yau2o/oxDT5Ng4JQq4ewdRhQ/jzjRz3L15GpOTLNxfMpyP83RPs37QUI1ndDxw5Hiu3H8HLwAjEv7+FKeNGoG/fPvhr+iL4hycxAyDfk/t2R0oCAp7exLbV8zH6jwHoO+A3jJ6xCKdvPEVkfCo/d0SGCLf2L8eIoaxt9emD3r9Pw7WXYfy8Fhk5SA5+giUz/sKAfn1Zmn4YM28jP3xLEuuPqRPH8Hno3Xsc9l16hTS+C0uKqOenMWMcu5Z92XUZPYlfqSozX6VkZ4Ri09hRGMTK3rv3aBy++QZpWRJIM1Lw9MFV3LhzD48e3GJlX4YxrM6H/DER6w9cQnBsEl6fX4PK1qayHgrV2jj0IACZBdouQRAE8TFkKAiixMMZgkyIUlORypSWlvlR8P+lsCBVnI2M9DT+OKmiNGRkZn32WFJxFtJEsnOKRCIWhP7vc3LpRfL0qaL0fEGrDM7U5JZBlJ7Jv63/BPY3CTtOeppIVtYMrqyy43Afvktj+cg9fm6+Jdkf8smf9/+5NlzAnZmRzudVxK5BJjfhl+3CTVzOO/7n8vcRkmxWL7nnLrAPMy/MEOTVWUbWJ8eT5su3KC1DYT3ksLJnZcqvG1dfWdn8cXKkYtYOZHkVpX1sBmVw5czi8pB7jvQMfjJ+wZQF86mo3niDkttm+PPJ88r+npuH1FR2HfkeD9k+UgkrW+42lu9PzpsjRWbutU4VIUv+sUVpShgWjO6GChUroFK1mmj0y69YuuMEHj/zx7v3AXhx/yKm9GrMTzznephUy3bClddhzIgVLBVBEARREDIUBEEQRMlAnILz//wOR3MDqKqqQk1dA7r6BjA2NuZlZGgAbQ3ZIgKllLVQa8B8vCswN4UgCIJQBBkKgiAIooQghSjiAcZ0rAJTXblx4OdKFJSysjrcKnTAjov+EH1upQCCIAgiDzIUBEEQRImBWxAg6s1drJ0/Eb80rQ4PJwt+hSpuEQE9Yyv4Vm2IfiOm4uTtV0jhJv3L9yMIgiA+j0JDoWj2N4lEIpFIQpBUIkZ6ajIiQgPw2v8ZHty/j3tMj548x9uAEMQmpvBzNvj5JCQSiVQC9LVQDwVBEARRIuGWtZVKpZBIJDKxf0ul7OEq304QBEF8GWQoCIIgCIIgCOInhHvpcf36dRw/fhyBgYHIzuY+8PnzQYaCIAiCIAiCIH5SgoKC0LJlSzRp0gQ7duxAXFzcNxmm9C0hQ0EQBEEQBEEQPynckMzFixfD1tYWBgYGqFatGtatW8cbDbFYLE/1YymUoeAKxnW5kEgkEolEIpFIpO+nrKws3L9/H7Vq1YK6ujpUVFRgZmaGxo0bY+3atQgLC/vhxqJQhmLz5s3o0qUL2rdvTyKRSCQSiUQikb6jWrduDVdXV6ipqfHfy1FSUuL/raenh4oVK/I9GKGhofycix9BoQzF3Llz4eXlBXd3dxKJRCKRSCQSifQdxZkJQ0NDKCsrF/gQJ/fVf2dnZ8ycORMhISHFy1CIRCJ+QkhsbCyJRCKRSCQSiUT6jrp37x7q168PDQ2NvB4KzmSMGjUKd+7cQVJSEj8l4Ueh0FB8/LELEolEIpFIJBKJ9GPETcK2t7fn51Bw/x09ejSuXLnCv+Dn5k8o2ue/6GspVA8FQRAEQRAEQRDfn5iYGDRr1owf+sQZiRs3biAxMTHPSPwMkKEgCIIgCIIgiJ8QzjCcO3cOy5Ytw7Vr1xAfH//TLBWbHzIUBEEQBEEQBPETwk2yTklJQWpq6k/VI/ExZCgIgiAIgiAI4iflZzUR+SFDQRAEQRAEQRBEoVFoKDgnRCKRSCQSiUQikYSvr4V6KAiCIAiCIAiCKDRkKAiCIAiCIAiCKDQ05IlEIpFIJBKJRCrB+lqoh4IgCIIgCIIgiEJDhoIgCIIgCIIgiEJDhoIgCIIgCIIgiEJDhoIgCIIgCIIgiEJDhoIgCIIgCIIgiEKj0FAomv1NIpFIJBKJRCKRhKevhXooCIIgCIIgCIIoNGQoCIIgCIIgCIIoNGQoCIIgCIIgCIIoNGQoCIIgCIIgCIIoNGQoCIIgCIIgCIIoNGQoCIIgCIIgCIIoNGQoCIIgCIIgCIIoNGQoCIIgCIIgCIIoNAoNhaIPXpBIJBKJRCKRSCTh6WuhHgqCIAiCIAiCIAoNGQqCIAiCIAiCIAoNGQqCIAiCIAiCIAoNGQqCIAiCIAiCIAoNGQqCIAiCIAiCIAqNQkOhaPY3iUQikUgkEolEEp6+FuqhIAiCIAiCIAii0JChIAiCIAiCIAii0JChIAiCIAiCIAii0JChIAiCIAiCIAii0JChIAiCIAiCIAii0JChIAiCIAiCIAii0JChIAiCIAiCIAii0JChIAiCIAiCIAii0Cg0FIo+eEEikUgkEolEIpGEp6+FeigIgiAIgiAIgig0xcpQZIrCcXL9dLSoWQleZcuifodB2HL6MTKzJfIUAkUqQdjVrejQsBqaDP4H7yPTIf16M/lTkhrzGruWTkLTOlXgzerYp2IdDPh7OZ4FxUEi1EIXQIrk8LdYMb4valf2Q1mvcqjbZgAO33yBlCwJhH4FslPDsGZiL1QtXxMjNh1DfFqmfIuwkEqzsf7PVqjiWxaenp55atJtCl7FJrFWIHyyUxNwff9ydGhcE+W8vVCpTlss2nYKkSkZgiz/gZkDUbOiT4H6lskPg1ceQwwrt7DIQVpCJI7/y57Z9arC28sLvpUbYNyKg3gTmcru5/JkJYyU4IdYM+U31KtWHl7evmjXdzyO3nqLNHZ/FxLcG++XlzahR9v6GL76JEKTMmTPrxwJkiNeYNOCcWhetxqq1G+JkXM24WVYIsTFvU3kiBH39AT6tG2MgVNWITgq8cMzm12PtIgHmDmgI9r9Ngn330Sw8grriV6sDMW97eNRzsEUZWp1xczpf6CslRlsvZvgtH8SsgV8c0p5ewG/tawIAy11OLeYCP8wkUANRTZ2Tu8BdytjlKneAZNnL0C/VlVgZWGF9mPW4H2McI1ULtLkCKz/qwvsrW1Rt/1g/DWkKzxszVC6bi+cfxKEbIE/hV+fWIoabuZQVzVGp4U7EJ0qtCBLhlTyHt397KGva41ek2Zg8bJlWMa0Zd9FxKbJH7wC5+62qahd1gGlKzfH8DGD4WtvDluPmlh79iVEmcJr5y+uHMG6f1fy9cxp7OC2sDPShZqeI8atO4MEkcDMsyQb1zdOQNXSNnDwqYc/RoxGg3IOsLT3xtgNp9lvO7NEtPMCpAVhxciOcLa0QMNf/8CYfu3hZGMDr7p9cOVtJLIFc0EkSHx7HYPbVoexoQHaTtuNgPh0vr6zUqOwaVpPVPAtj15/TMDYQZ3h41Iav83Yj/ex7BkvO0CxJCnoDmYNagIbY200GjAN78Li89p4VnIYNk3vA09bQ7g36Y1rz0NY3CqsX0DxMRRpTzCwflloaTnhn4sPEZcYjy3D68FQRxfdpx5gD+Eswd2cpNnJOLhgJKp5OUBfSwNKSqXg2HwCc/JCNRRhWDt5BLp26IwNF18jJjEF785vQV0PU+h7NMO5u++RXexfYfxvMuIjsHPJeAwaMQmn7oUi9tVl9GngCR0dF0w/eg2pWWJ5SuGREnITvRv4QFddBaVKGaKDgA1FxtPt8LYxgZ5zG1x+FYxkkQgipvSMLPbbFuSPuyDpT9Gjmjv0tU0wfvttBIeGYs+C0eg3YAh2nX2G1AzhtXNxVgbS0tL4ehZFPMOfzX1hoKmHX8auxrPwBIgFVu/ijDRM6+jHAkpD9J66B+9CgrB73gA4mRmgbKfpeBGcKPgXRB8TeXUbGvnYQde9BY5ffYq42CCMaeEDE30DDF58FpFJWfKUxZj0OOxa/jcaVioNCxMDqGhoo/XUXXgfn8bHaGH3D6CFlxP8uk7FjVehiHl7C0PaVYNHrbbYe+M10orh22FxeiKu7FmANjV8YGOmDzVVZTToPxVvw+IglYjx9NJG/NauNpysTaHBnm/OjXoxQxFMhuJHkfVsP2qWNoeKdQPcfB3OD3+5unMo7HU1UbHjJDyLSxPczSlT9Abd/Bxh7eSNtq3qwlhbHU6CNhQSpCYlIj4uHmlZUj6wen9+M2q4GEHVtjZOspuN0A1FjlSCtJQkJCYlI02UjpfHlzNDZQEj53rYetUfGQLtipNmJuIgCzacrY2gp6vFzLORgA1FDp5uHgcbEz1oWfuha7ce6Dfod6zZfxVRyRklIsiSPtkMHwf2cDWugr2P3yI+ORmxUZGIjomDKCObGx0gXKRZeLxnDrzsTGHk3RFnHwcjUyK8AoszRJjR0YcZCiMMnHccUQmxOLJ0KJzNDeHdZQZehJQ8Q+F/dBUqu5pD3+9XXGP1LpZIsX5QbVjoqqNOn7l4GpnInoLFnIjbaFa3Fvzqd0O/zo1hampawFA82DcVpW2N0WrKNgRxfxOFYcVv7WDlXBUz915HQlq27DjFiLTYl5jQvTKqNGyFoX2awN5SDw3lhkIizsDaCXXgXaU6Bg7qAm83Y7g3IUPxQ4m7uAZ+9oZQcW6FZ++i+GDz1rG/4KKvCY8mg3E3LBVCuydnZ4Rj05KVuPDgGQ6vGA1HI22BG4qCZEU8xfhOVWGopQar6r1w3T9acGMOP082Lq8cC08nK2hpGqD7xK0IihWeac7l7bVNqO9hjYoNu6BTCz/oapmho1ANhTQWm8d3gbmRAWzL1kL37l1R188dFlZuGDRvHyJShD/kKerYLLhYGkLVwBMtm1aFZ2lnuJerjfFLdiIwQbjtnEMU+hij21WGsZkrhq44jGhmIoVIjjQb9/bPQh0ve3jUbI8pM+egbTV32JepjSW7ryJBJIC38f+RuLt70NjXAZqWlbDx5APER77FsMZloa+ugvLtxuB2WCyKfd9c/BscPH0Fj9+GY++SP2FnbVHAUFxY0wWOllroPncfwhNZ28+IwpZhXWBt6Ie/Vp1HbErxaxeZKVG4euoUnrx6g1u7J8DXxQSNBuT2ULDfwaUDuPH4OV5eW4OmVa3h0YwMxQ8l5vxq+NoZQNm5NZ7LDcXt43/BlRmK0o0H4U6o8AxFTo4EaakiZEsycWnjRDgba8O5hBiKxIAHmDe4FSwMtKCqY4aBC44jKll4w9o+jxgBD+5g97/z0djHCU7eDbH0+AOIBDfkKQfZsc8xsVs9mDtVwsqdBzG1bx0YaQvZUKThzaMbOHL4MC7ceorIiHBcPzgT3pZGsPNpgUOPI5Eh8HUmwg9Nh7OlAZRUtVHzlyFYtGQ2Gvk4wsrBBzO2XkS8gIPN56cXobKTKZyqdMaRR8GsroV5V8vJkSLm0TH0qFsWJqZWcHJ2gZmBNhwqtsWua2/YvUzYvc2KkIoisWZsVzhbmcOzcl20aFIXTpyxVlaB3y+jcIsZiuL3fv4jpGJkZGVDIpHi+OpRsLMpaCjOrW4PRwtN/DpPbigyo7D1d2Yo9P0wdsU5xCYXv7lEXFvPysyCRJqJF0emorzrB0PB9bZmZ2ZALJEg+slWtKhugzJkKH4scRfXwtfeEMounxqKMk2H4i4LsgV6X2Zk49KmkmMokoMfYXiHaryZUNe3Qtuhi/EuMonVr4ALrQBJdjYy0lJxckYPmBnqo1zneYhOEMm3CoOc7HScWzEcXo726DxhI94F+WPB4AYwYiZSsIaCPVYl4mxkZmYiWyxhD5wcJIY+R/eKNjCwcMO8fc+QInBHEXt8LlysDKGi4YDFF58jJpEFFTO7wNbYCLUGzMHLyGSB3uOysPGPZrDQU0ezPzcjIEYWZAkRMQsUF/auD1tzc3Qevwk37z/G5r97w9XGEhU6T8LLoFjBvxj7BBZ4JkcF4cS2ZRg3eiRGTpiNyb1q8s+6Sh3H4154XPHvociF3dcUGYoLa36Fo6X2p4bCpDzGrSmePRQfyMbLI9MKGgr5Fo4YMhQ/B9kvD6KOhwVUTarhrH8oP/Tlwtq+sNLRQPVfZ+FVYvFeHeB/U3IMRVrYE8wZ2Azm+trQMXXEb3P24kUQu8mWkCdPdkYSwoICERQSDhG/TGwOHqz8DebsgePQZBIi41LkKYVBZnIsxrXwgIG2Jpy8qqJhg7rwsDeBqoo6LD180PXP2XgYlgKxgKpfmp2BmPBgvA8IRhIzTNzLkaTwh+jkaw1DK08sOfYGqZnCbu/ZL3fAz8EM6lpu2MwerGlSEY6tHggnEwNU6DEZT8O4FwjyxEIi7Qn61fWCjro5ph56iMRM4RrHDNFNtPN2hIGRI+af8EciM8mBJ5ahkos5NEv/gjvPgkrIUuD5EGcgmv32/V/4IyQyCvFJiVg9qC4s9DXR5s/1zGCmCsdgfsZQPDw4Ex52Jqg9dj3exaZCmhyEuf1bsvt9TSw4fBuJ6cXZUpGhKB5kB2Nym/LQ0jDFHxsuIDEpCjM6lIOOhg7+XHcHyQK+MZccQyHGgZm/wtFEFwbW3hi15jTC40Ul6qET9vIEutXxg1eVplh18gUSIt5jfp/60Nc2RNu/dyM+RVhLS2anp+LAyukYN2YUxoz9C+NGDUX98g7QVNOGR/1WmLxsG97GpgkquBRHPcf0/s3hUcYXv8/eioi4eFzfOxWeFvpwrsYeNG9j2YNGnlioiAMxqokX9LX00HPuEbwJCcS8wQ1hZmiCThM3IJj97oX4q097uBO1PW2galoDp568R5aA722Z6a/Ru5or9HVN0G/+MQRGxuPU0pFwtzSASdWBePA6EtKSZiiSn2BC7+Yo41EJ8w7cQuDTS+hYxQU6evaYf/gRM10C+uF/xlDEvDiLLtVcULZRf5x5HIzwp6fRs2FZ+DUeyP4/pJgvUECGopgggf/VTfilsjscXL1QtUpFONrYoFK7MXgRJtTu8VxKiKGIvYkOFZ2hoaIMNRZAu5WrhBo1a6JWrVqo1ehXHLv/BlkCX+UpMyUEG6f1h5ezHZw9fFGlgh+c7OxRt9MoXHgWgSyBvbblhvukp6YgKSlJpogXmNm/Dgy1TdF2xjq8j4oXXO9UTrYId/bOQ20fV9jYu6Jy5Soo6+4IN5+m+OfQdSSlF/tR1F+ABE9Pb0Xn2uVg7+wBv4oV4GhnhwpN++DE/UDBrmYWfHwp/JxMoeHREQ9fh/G9U0JFKsnAld2z0aySO6vjMqhQqTI8nOzgWLYG/l53AdHJJfA7FJJUHFv4Ows4rWFfuhzKe3vAztETXf9agVf8sF55OiHwGUMhTo/H+c3T0bhmZVSsUpXFcuVR1qsWFu66juiU4j5PkgxFsUGclYK3989h1cK5mDF9Bpau34vH7yIF/7Ev7uEb8PA8lsyZgSXbziGGm5wsrHYoI+oJ/l0yF1OnTMbkKVMwbfp0TM/VnNV4GBDJgkuB13WOBKLkCFw6uBWL5s7GjBkzsXjNDjx7H80HWUKs9gJkJePG8c2YM2Me9tx4ItDvbuQgOy0ZL24cZ+19PmbOmIE5i5bj7C1/JIpYkCX4SpYhzkxDwP2LWCm/BgtXbsOtl4EQZYoF286jnl/DykVzMGvNUUTFpwq8rnOQxYLHFzdOsjpewNfxrHlLcPDCA0Qncit5lZCGXoAciOLCcPnIVizk7++zsWn/ObyLSBBccMk17td3T2PRwvnYcfEZEtKzZb9r9vfM1Hg8uHwcq5cuxILla3Ds8kPEJgvhw7USxLy6hNX/zMWWI5cQz8qUH1HUY2xftxDLtx1EUHSS4F4MFytDwSEVZ0GUmoLk5GSkpmWUmOEw4uxMpKaksDJnCrebWJKdV7efKCWVn8BaMmABZ0Y6X99c2VPT0kvOsC9utYyMNKSwsqdnCft7BBL2m85t7ympImRxE7Tl20oKBe7nonR+XX4hI8nOQiorb4qopDy7cuTtPFXWztl9PCOLGcaS1tDzwwqfnZl7f09BmoA/Zsl9zJFr72mZ2R+VMYePabh2wd37MrOF0yakYtl9PS2DxWofFSqHxThpolT5M11497piZygIgiAIgiAIgvh5UGgouHHNJBKJRCKRSCQSSfj6WqiHgiAIgiAIgiCIQkOGgiAIgiAIgiCIQkOGgiAIgiAIgiCIQkOGgiAIgiAIgiCIQkOGgiAIgiAIgiCIQkOGgiAIgiAIgiCIQvOfDQX3wanQ0FAEBweTSILVu3fv8OrVK7x+/RpBQUEK05BIxV3v37/Pa+eBgYEK05BIxV357+fUzkklQRkZGd9kKdj/wn82FEePHkWjRo1Qq1YtEkmw8vHxgbu7O69q1aqhZs2aCtORSMVZ5cuXR+nSpfl2XrlyZWrnJEGKu59z7dzDwwNVqlShdk4StFq0aIFnz55BWsRf4/7PhmLr1q0wNDSEmpoaiSRYqaioQFlZmZeqqqrCNCRScRe1c1JJELVzUkmSs7Mz7t27B4lEIo/ci4b/bCi2bNkCHR0dGGuroE91E0xobolJLYSvoXVNoa2mDDUVJbT0NsC4porTCU3lbLSgqqwEOyN1jGpkoTCNEFXTTQfqrK7VWNn/rG+OSSWknferYQpD9ttWKlUK7fy4di78Ov+LlbG8nRb/23Y108Dv9cwwsQTUN1fGxp560GT3NZPc+3kzxWmFpj7VjWGso8LubaXQ2seAbwOK0glNXtaafDt3NlXHnw3YfU1BGiGqmpMONFSVYKilgv41TUrE75sTV1Yj9tvm6rx1OdbOmwi/nY9pzO7n9lp8fefezxWlE6KaeupDV0MZDg4OuHv3bvExFE4m6jjzpwviFpVD4hIfwevhRA+YsAeQtroylnWxQ9SCklHurpUM+R9mVSdtBM7yUphGiBrdyBw6rK61WLD1aGIZJChII0RdHOEGR/bbVlIqhY09HUpEOw+f541e1Yyhxeq7cRk9PP2b1fdixWmFpITF5TC9lRUMWJDFBZhn/nRFbAm5n58b7goXM3VmppTwb3c7RMz3VphOaOpUwZC/p9Vz18XLqZ4K0whRw+qaQk9TGfbGajg/wrXExC2XR7nz93MublnVzY6/1ylKJyQFz/FCb3Y/12OBdSPufj65jMJ0QtT8djYw11MtfobChT2Abox1h2R1eWBNBcHr7QwvmOqq8kHmOhZoZazwU5hOaOICLc5Q1HLVRTwLshSlEaK4HgkddkPieqXesbrP+VdxOqHp3ngPPrhUZoZi9wDnEtHORct9MaCWKf/QbeFtgMDZXpD+K/z7GlfGeewBxPVIuZprsPt5aWSvKhn381vjSsOdlVmLGYqtfRyRtrxk3M97VDHm2zlnnMNYcKkojRA1qqE59Jlx5oLr26zuxSUkbnkwsQyczTT4Z9nm3o4QLRN+O0/8xxeD2P1cT1MFzdn9PGh2yWjnXIyyvLMdLPXVyFD87MpvKNYzQ5G5smSUmwxFyTMU3G+bDIXitEISGYqSbijKKUwjRHHDdUuyoeCGwZQUQ5HEGYra+QzFnBJkKLqQoSgWIkNBhkJROqGJDAUZCkVphSYyFGQoFKUTmshQkKEoSshQfKHIUJChUJROaCJDQYZCUVqhiQwFGQpF6YQmMhRkKIoSMhRfKDIUZCgUpROayFCQoVCUVmgiQ0GGQlE6oYkMBRmKooQMxReKDAUZCkXphCYyFGQoFKUVmshQkKFQlE5oIkNBhqIoIUPxhSJDQYZCUTqhiQwFGQpFaYUmMhRkKBSlE5rIUJChKErIUHyhyFCQoVCUTmgiQ0GGQlFaoYkMBRkKRemEJjIUZCiKEjIUXygyFGQoFKUTmshQkKFQlFZoIkNBhkJROqGJDAUZiqKEDMUXigwFGQpF6YQmMhRkKBSlFZrIUJChUJROaCJDQYaiKCFD8YUiQ0GGQlE6oYkMBRkKRWmFJjIUZCgUpROayFCQoShKyFB8ochQkKFQlE5oIkNBhkJRWqGJDAUZCkXphCYyFGQoihIyFF8oMhRkKBSlE5rIUJChUJRWaCJDQYZCUTqhiQwFGYqihAzFF4oMBRkKRemEJjIUZCgUpRWayFCQoVCUTmgiQ0GGoighQ/GFIkNBhkJROqGJDAUZCkVphSYyFGQoFKUTmshQkKEoSshQfKHIUJChUJROaCJDQYZCUVqhiQwFGQpF6YQmMhRkKIoSMhRfKDIUZCgUpROayFCQoVCUVmgiQ0GGQlE6oYkMBRmKooQMxReKDAUZCkXphCYyFGQoFKUVmshQkKFQlE5oIkNBhqIoIUPxhSJDQYZCUTqhiQwFGQpFaYUmMhRkKBSlE5rIUJChKEp+bkPBHngJC7zxYmpZhC/2gyTfQ1663Af+0zzxfE45iIvg4V/UhiLzHx+8m8rKN9kTzxQokD0MxKsV7/stVdSGQrraD+FzvPCCXe+E5eWRoyBNUajIDQVr68msrftzbX2hb4G2XpT6IYaC3UNSFpdDwIyyeD7FE6+meyF2iW+RtG9OZCiKzlBIV/jg7XRZPee/n72Z6Y24f9g9vojqvCgNhXilHwJZmf2nlUX8Ur8CbStnpS+/7SX73YvYb+173++K1lCURxZ7TgfOYM+xj+o7V0GzvVmb+/73mKI2FMmLvPGK1XfwIl9k56tvMbseAex6vGFBbjprF9+7vn+IoWD3lVQWvwTPKosXrN79WfuOZNchi91biuJ5XuSGgrXfUPbM4MoasZg9t/LVd4F28J3vbWQo/j+x4HJnezN42GpjwgAPpOQL4lMnO6GSnSZca9sivgh+JEVtKN794YDW1ppwMlaHvQL1aGaHGPYA/t4/0KI2FFmLy2JCTX24lzHErgleyCyiAONjFbmhWOWLU+3MUclSFxO7uiORmSmF6b6zitpQSFm5bw9xwIgahqjGfs/O7IHvaa2DTjXMsW5IaaQUwZtjMhRFZyhE01zQzF2HD+zy38987HXRs6E1bk0vh6wi+M0XpaEQLWD3tMp68GbPsZm93RG7NDewKo/AUXZo7KiFil4meD6r3Hdvd0VtKMImOKF7WW24sntK/vrOVf+aFoic//17SoraUJzuYYHKdlroz+o7ctmHc8X87YhOXtpoUNMSz2Z///ouakMhZQb52UgnjK9jjLrOmvyzpLS1FlpXMsXyfm6IXMIMtYL9vqWK3FAs8sQf1Q1R2lwTPVo44A0zD7llPN3DHFUdtDCglzvC2e/+k32/ochQ/H9izm9tMyPo6Krht57uSMoXxCdPdIC1rjLUy1uxG7TwDMWr32xRRUsZRtpq7GGrjcqOBfVHOwfEC9FQLPTEb75a0GJB5bqxXsgoKYZipQ8ONDWGtYYGBrd1RVy+h1BRqigNBffwudTHClWs1WFppI5ydrK2XdFWC7b6qrA11eIDsJi8AOz7iAxF0RkK7kWQr4UalNl9rRwLuGT3My2UMVWDgY4a2ja0R9Di739fK0pDwZnmW/2tUNlMFc5uxjg7yYs3TSlzPDC2sg4sDDXxR0dnRLP7uaL9v6WK2lBE/O2CYZX1UdNZGxVsNWDCniXc88SNBZmVWN2PbmSNmIXf/7lS1IbiUHsT2OipoE0XN4TlCyQjJ9ihjp0qPH3M8HBmue/eE12khoLdT+4PtEVrR01YG6qjLDPQXB1XsteCgyG7n5tpYlhHJwQsZAH3dyx3kRuKhWXQrZwuixWUYGKmjSWDSiNe/vw+2MEE9gYqaNvZFcH/fN82R4bi/xMZClT3ssRV9gAKnuuN0HyKWVI0w2LIUJChUJTu61UesVNd0KM0CzKMNfD7L/a4Pbksu/l74c1kD6xoZgx3PWU4uRjh0HfuqSJD8QMMhbsJLo8vgxB2Lwtm1/sSC0QqMRPpbGWMK9N9CgwT+R4q6jkUWYu9sKC2Pkx1VNGtpRMC2f37bA9zlDNWQY3Klrgxrdx3HxLBqajnUEhW+iFmQTn+mfVsjBPaGrNgx1QT64d64O1sb8Qu8vm+MYRcZCi+v6HImO+Bwd46MNLVQO/mtrg03hOB7H7+floZbG5nhnLMUFta6GHr8DIQfcf46UcaCmVlZZT3scDt6d780CcyFP8PP8RQsBtBq4a2OPK7G84Nd8N5piPdLGDCAm6hGwpfN1NsGeSKs/Jy8xrjgcDFZCi+p8hQfF9DkcPuGxe7WzDToIJ6VW3waNaHoS7ctsRZHvjDRwf6mhoY2dUNSd9xCBgZih9gKMqa4xULaHOYsZSy+/ybsY6oZ6gKezMjXJjmg6zvfP2LfFI2u9bBf7ugp5sGnNi9bV5HazSx0YCVuR52jfbkh/N+714ZTj9yUnb8DHd0Y/cWFwstHBrnXaT39h9iKHSVUb2eDXYPcc17du/tygXWKigjNEPxrx9eDLJGFWYaKrCy3ZjihUz5nIkc1vZTF3liQRU9WLA66N3WERFLvt/v7YcZCj1V2OmrQFdLDUPbOSNksR8OkKH43/wQQ6GuxEyFKqwM1GBtKJOVrgpUWNAjdEOhraYCc9ZAcsvNy14PK0aXRfoqxft+S5GhIEOhKN3XKme1H7a0MOR/Uz26uCL6o/LmrCiHbXUMYaKugi4tHBH3HX/jZCh+gKEw0ULPmqb4s74Zfq9ril88tGDIgvsKFazgv+DDGOTvpSI3FEySFT64/KsFPIzVYG+kCm0ddXRr7YjQIhjilSsyFEVrKDRZ3GKRL26xZHGLukopuJcTmKFY7Yvz3HxXPXV0auCAQPYbLtCmmeE43dEIDnrKqFjfDu8W+hbc/xvqhxkKC10Mq2cMH/bbdnU0xO7RntjW1hj2zGSQofgMP8RQsB+Do60OmpczQGsfmZq7afGBrtANhbmBJhqU/VBuXjXMsH+S93cdBpIrMhRkKBSl+1pxhmJDMwMYsd9Uz1/dEPtxDwS7HrvrMsPBfm8dmjmQofgO+qGGQkWJ/33paSrDgJ3f2lgddcub4eBfnkj7znng9CMMBafMJV6YXV0XJppK8PK2wJWpH3rmikJkKIrWUFja6KCx14dndxMWt3B1X1qAhuJ0WzOU1lVH98aOCF74sUn2w/kuRnBkhsKzrh3eMMNRYP9vqB9mKKz0sXawCxY1MICDvipqVrHC1PoGsCFD8Xl+iKHQYUFHB2e8nu2NiPnleL350xYWOsIf8lTD2wo3JnshTF5uXgt9kFpEXeRkKMhQKEr3teKGNR3raAZ7HXbTr++Ad/lWxuCUuagsxlfQgZ6aKga2c0bCdxz7S4biBxgKaz1Mb2eLtT3ssb6XA/YNdcWT6d782OqiuK/9KEPBzR061skEVuzZVa+1E4K/49APRSJDUbRzKJq2ccKDGR/ilid/2KCatQDnUPzriwe9LeFrpIpala3wfLZPvntoeUiXeWFFLX1YMDPVqpkDghd9v3b/Iw3FtlEeeD/BGR0cNGDIzJWvtTofR5Ch+Aw0KbtoDUXd8jZ4w9z+9x4C8DmRoSBDoSjd16s8Asc4oKGVGkzNdDC1lwvC+IUGyiN9iTcOdDRHOUMVGJvrYcOI7/vWmgzFDzAUZVhAxX5XqSzAEbFgPn1FefYsUbzP99CPMxQVcLabKf/satCetfkieHblFxkKmpStKN23UOJUF7R31oCRngZGd3LG63k+/HXOWFoOp/tYopaVKvT1tLBoYOnvOifuhxqK0Z5IZc+T493M4W2iAi0WOykpK5Gh+BxkKIrWUFgaaaGFryE6VzJCl/xq44AIIS8bq6OKSmX00bFivjJXM8F6FlymFsGQiB9nKFhwZ6OLXyrkK3clY0zt6ILwIljDu+gMRQVkL/XGzrYmcNBXgbW5FpqWY+2c1Xe7cnrwMFJlDwRVDPrFEQGcof6O158MxQ8wFHmTshWn+9760YaCGw5DhkJxuu8hMhTf31BI2TPseGcLVDRRhbWJJuqVNeSf3+199OFtpgpD9kxv29AWj7/zx4h/tKHgXn4lzimNKVV0YaqhhFJkKD4PGYqiNRTqrDFqsqBW62N5m+PtxxOfvoN+mKFg51RjKlBmHTX83rM0ElZ832vP6ccZCmWoqXxc5ypoUMkWrxcIy1BwK9+kLPTCvi5W6OylC3dDVeiy35eJrjoqlTbA+E7MTMz3+e5fwidDQYaCDMX3FxkKgX+Hgkm0yBun+9qil68evM1Voa+pDCM9Vfg662NkG3s8YmXO/M7X/mcwFNwcwYAxDmhgpQZ19jwnQ/EZitRQsAde0FQPnPjDFU9mF1ybXPyPN86yvx8fXxZZ37mBcipqQ5E63wvXfnfFsaGuOKpIf3lCtPL7P4yK2lBwHzt7Mt4dJ4YpKDO7Hk/m+BTJJMYiNxSsrUdMK4MzrIyflJvpOmvnqcxIfe8ArEgNBSdW7vR/fBDAyn5tBPs9s7Ke/tMdD6aWRTTXI1MEgT0ZiqIzFOKl3rgy0g3H2P0r9Xu3rf+hH2koYmaV4Z9dN1lwlVEEK/Xl1480FFnLfPBghBvOj3Dnlw393sF0fhW1oYiYKavju7MK1nHGEi/cGO3Gf6MhiQX33/t+XtSGAqxOM1k9B033xK0xbvxz/OSfbrg3yRMRi1gMVwSxWpEbipWsXY9jMcvI0gjNt5w/t6rbw9GyWOYu+62nf+d7KxmKLxB3fC54F38cRLKHYRb7e+5axwW2fQcVtaHg1m7O5sr3ORVRuYvaUHASs7IpLDMT1w6KotxFbiiYpKyt821agbhAryjKXeSGQi6u7FwZubJy14B74BdFeTmRoSg6Q1Hgvv0Dr/GPNBS5v3PuQ3ZF1cZz9SMNBVffYvnvu6h/X0VtKD5Xx/xznbX9rCJq/0VuKOTi7i25z/G8+3kR1XmRGwqm3LJ+bJK5v8vawfd/nnHXlwxFMVFRG4qfRT/CUPwM+hGG4mfQjzIUP1JkKIrQUPwk+pGG4kfqRxqKH6miNhQ/i36UofiR+hGG4mcQGYpiJDIUZCgUpROayFCQoVCUVmgiQ0GGQlE6oYkMBRmKooQMxReKDAUZCkXphCYyFGQoFKUVmshQkKFQlE5oIkNBhqIoIUPxhSJDQYZCUTqhiQwFGQpFaYUmMhRkKBSlE5rIUJChKErIUHyhyFCQoVCUTmgiQ0GGQlFaoYkMBRkKRemEJjIUZCiKEjIUXygyFGQoFKUTmshQkKFQlFZoIkNBhkJROqGJDAUZiqKEDMUXigwFGQpF6YQmMhRkKBSlFZrIUJChUJROaCJDQYaiKCFD8YUiQ0GGQlE6oYkMBRkKRWmFJjIUZCgUpROayFCQoShKyFB8ochQkKFQlE5oIkNBhkJRWqGJDAUZCkXphCYyFGQoihIyFF8oMhRkKBSlE5rIUJChUJRWaCJDQYZCUTqhiQwFGYqihAzFF4oMBRkKRemEJjIUZCgUpRWayFCQoVCUTmgiQ0GGoighQ/GFIkNBhkJROqGJDAUZCkVphSYyFGQoFKUTmshQkKEoSshQfKHIUJChUJROaCJDQYZCUVqhiQwFGQpF6YQmMhRkKIoSMhRfKDIUZCgUpROayFCQoVCUVmgiQ0GGQlE6oYkMBRmKooQMxReKDAUZCkXphCYyFGQoFKUVmshQkKFQlE5oIkNBhqIoIUPxhSJDQYZCUTqhiQwFGQpFaYUmMhRkKBSlE5rIUJChKErIUHyhyFCQoVCUTmgiQ0GGQlFaoYkMBRkKRemEJjIUZCiKEjIUXygyFGQoFKUTmshQkKFQlFZoIkNBhkJROqGJDAUZiqJEoaHIycn5rDZv3swbCmcWdFwf4w7xKj9WkPKC19vpZWGqo8puxkpY96s9H2gpSic09aoqMxQ1XXR4Q6EojRA1qZkFbyi4gIOreyl7AClKJzTdHefBfttqUOIMRX+nEtHORct80b+micxQeOkjcFbJqG/Jaj/M/cVaZijM1HGD3c+zV5aM+9qtv9zhZq4OLdVS2NLHgW8DitIJTd0rG/HtvBEzFKFzvRWmEaJGNTSHPgswHYzVeDOZXULilvsTuPu5BnRY3LKplwNSlwq/nScu8cHAWibMUCijGXc/n829EFScVkjinlnLOtvCghkKe3t73LlzhzcUiuL4z+lr+c89FLmGIreHoqQ4/fw9FOt6OpSIN7ecqIei5PVQcC8LSmwPhVduD4Xw72sFeijMSlgPxV/UQxE2r2S8ueXEGwotZihKaA8FF7eUlB6KRK6Hgt3PZT0U+giaXYJ6KDrLeig4Q1Gshjw5GKtjdXc7nP3TFeeHuwleW9mP0YA1UC64HtXIHCd/LxnlbuypBzUVJXhba+LQb84K0whRv1Y1ZsGGMl/fO/s54ZyCNELUyi52sDJQ5XsoOFNVEtr58WEu/IOHq+sqTjrY0c+xRNT3OXbvHlqXe/Aqw9FEDSu72uFMCbmfc2/ybA3VoK5aCn81teDbgKJ0QlNDD12+nVew1+J7IBWlEaK6VDTiXxBZG6pi/a/2LG5RnE5oWt3Nnt3P1aDJjPPYxhY4NlT47fzIEGe0ZPdzzjhXdtTm7+eK0glN3DPr97pmMNJmxrm4zaHggkzOCdkZqZcIcT9K7q0tF2gZ66jAVkEaIYq7CXNl5h5CNuwBrCiNEGWgpcKXm5N1CSo3112qqqyEUqVKwURHtUS0c1sjNX6MMVfXnIm0Zr91RemEKO7hw93XuPu5hb6qwjRCFFdWrp1zdS5r5yWjzrk31VyZuQCzJN3XuOFOXDtXZe2ce5YrSiNEcTFabjuXxS3CL3vu/Zyrb80SeD9XYfVdbAzFjh07+MyamZmRSIKVgYEBb5w5mZiYKExDIhVnmZqawtDQMK+dGxkZ8X9TlJZEKs7KvZ/r6upSOycJXj4+Pnjw4MHPbyj8/f1x8OBB7Nu3j0QSrNatW4elS5fin3/+4U303r17FaYjkYqruDa9YcOGvHbO9T5TOycJUWvWrOHb+bJly7B161Zq5yRB69ChQ4iNjf0mE63/C//ZUGRnZyM9PZ1EErRSU1ORnJzMKy0tjZeidCRScRXXpnPbeVJSEkQiEbVzkiCVkpKSdz+ndk4qCZJKpfKovej4z4aCIAiCIAiCIAgiFzIUBEEQBEEQBEEUGjIUBEEQBEEQBEEUGjIUBEEQBEEQBEEUGjIUBEEQBEEQBEEUGjIUBEEQBEEQBEEUGjIUBEEQBEEQBEEUGjIUBEEQBEEQBEEUGoWGgvu6HolEIpFIJBKJRBK+vhbqoSAIgiAIgiAIotCQoSAIgiAIgiAIotCQoSAIgiAIgiAIotCQoSAIgiAIgiAIotCQoSAIgiAIgiAIotCQoSAIgiAIgiAIotAUK0ORkyNFzMuzmDFlHg5deY8MsTTv78nR73Bix1r8PX4cJk77BydvPENyZjbbxicpvrACxPtfxvQJ43Ds9htkycvMwy31lfwOqyZNwKpD15HOylvs4cqUEoA1Uydj2d7LEGV8KFOOOBPBjy5g+by/MWHKbBy9+hRJbLu0uNfxZ+CWcUuLD8L5vesxZexELFy1Hc+C4pAtydcGBEaOOAthL25hzZJZGDN6ApZtPgr/sASIBVrJYY92YsqksRgxYsRHmogtxx4gOU0Av+n/lxxIstLx/MZxLJ0xGX9PnY/j11/IftvyFIIjJwHHls3B+FEjC9T73ouPCtzzhEiONAP+5/di5qT5OHDBH6kZYvmWkgV/f49+jwObVmLyX2OxYNVOPHoficz8z3ghwcorzUrDqwcXsH7xbEwcPwH/rN+D58Fxwi1zLqzs6VEvsG7OdGw6dhMJokz5BmFRrAxF7Ntb+LtbQ1ib+eCvlTeQksluRMxMhN0/jr7Na6N8xfro0Lk7OrdpCm+/Khi0aC+ikjPY46qYwhphfOAtzOhTn5XZGJO3XoGIK7OctNgA7JzVA05WZmj+1zokijLkW4ov6SyA3jO/D1xtzNFg+HLEp6TLNuRk4sG++WhQviIatmyPzm2bsDqugUFLDyIutRjX8f8gLeYxRnStgwrV66Bzp05oXMMHVZr0xMGbb5CZLcQbsATPTq5A6xpeqFynCTp3bo8q3u6o3KIvrr2LgRCLHHR7Lf4Y0g+//vorr87tmsLD3hxmlu4YvewUYpMzBdm28yMWRWP/8jGoUrUamrb+BS3rVYF3+eqYsuE0YlOE+dsWR95ExyrecCpbGR06dcmr/40nbiMlXdiGIu71VQxrUx02Zr4Y9c85vo2XRCKeX8KwLo1RtW4TtGf397pVfeHXuAf233kLkQBvdpKMeBz5ZwQasnI2aNoGXbt2RpPqlVGr1UDsuvIKqZkSeUqBweI4UfRbbJz2KzwdLdFpyiaExKXKNwoLhYYi/4cufgZJskR4emEXBnduCHtDXSgr2eOPxVeQzG68OVIJLm+ZhkbVvNFl6lY89H+H109OoZuXK8zd2uH8yyj+ja6i4/7Mkmam4MXVfRjcoT4czHRYmZUwZv0FpHJv7SSZCH15FdOHdUY5J2OoKCuh1h8r+eBb0bGKhaRZCH91HXOG94CvsylUVZRQaeBCxCal8duzop9g2C9V4FCxBXaeuYtXTy6hb10XWHq2w+W3XLCp4JjFWmm4s2YsHM0c0X70Sjx+/gJn1o6Bu7klGg9agYAEEaQK9yvGyorC0h4NYartignrjuHFqxeY3b8+jE3N8efmG4hN43ocFexXjJUlikNYaAiCg4MRHPQO+5f8DlcLA/i2HoIzT4KQkS1RuJ9wJEXAla1oWbE0fBr+hkOX7+HGvoVo2awhek1eh+CYZOG1c1bmyBv/wNvRHNV+nYQ7j17I6p8pPlkEibT4Pa++VNKseOyc3htu5npQUXLEkLknEZ3ITKOCtELXszMb0LNNDYxdcQAPnr/Cxkk94WbjiL4zDiA4Pk1w7V4U9RSzBrVFtWqdsOHoNbx6+xonlw5CGRcndBj3L0LYb13RfsVaknQEP7uMGb93RTkW16irKqP52H8RGJOiOP0P1tdSLHoo4l6cRDtvD/hVr4/Gvh7QUnXCn0uYoeC7SnOQEheB96xxhjLXxw2NyEl/gzEVy0BL3RfbbgYhU1L83nFFPj2Ebg3KwKdWEzSuZgcNNWW5oRCzH+YTjP3VBx7l66BtU09oaqii9p8rkZBafHso0mP9MalveZTxq4E2Tb2hraWKyoMWIS45jW2VIvTmGtQoY45a3SbAPzwZEnEWNo+vD0N9Q8w68hSiLIG90cmMxpbf2sJQ2xsT1l9DSnoW4t6cQhsLEzh5tsC5F9HIKobt+n+S/h7j6vtCV606tt94i3SxBPvn94OJkQG6LD6FSFGWgN/WS5Hy/iL6N/KFden62HjmAZK4FybCLTBPjiQbBxcMhJ2VFTrO3IfghHRmshIQFBSA4Mg4ZLE2IDgkKbi4ZDAcTOzRvO/f2LRhO46cvsq/tZQIdfwmhyQLr06vQ+NK7rA21IOqsjOGzjuF6KSS2UORnhyHkMB3rPxpyE5PwvbJ3eBsYYN+cw8jhDNZ8nRCQZqdjsiQQLx7F4pk9jyT5ojx+tgkeDuZoPyvk/E2PE6eUjikhNzA2D414VOZxa513WGgp47mf61BEDMUQqR4GIrXF/D3mNk4fPo8lg9oAyMNV95QpCgYeymVZMD/4irUcjSDpmEdHH4axr+9Lm5EPDmLuTNm4vCVa1gzsg70WIA9ZsMFfshTaqQ/ls4Zhc1HL+L8xh4w0tco9oYiLeYdVs4biQ0Hz+Lc5n6wNNFClTxDkY2nO6ahnJkZWgxYgaBYricGOLqwK4z0NNBl7RUkCm0crjgO+/7oBGNtFwxbcpIfcxnx+AAamBvD1NYTW68HIkMssEeOJBU72UPVztQRvy/Zj2cvH2Jcp8qwtq2IVRdeIVWQw7xk5GSl4vSy31HG3g6/jPkX76JTBDs3KD/S7DQs/aMijM2M8MuUJZg7ZRyG/j4Saw5cRmiCCBIBOipJahgW/d6O3eMsUdqnCqpVqowKFaui27BZuP0qAlkCnSOVEvkYU3+tg2pNOqBnwxow0fHgDUVMCTUUuYgin2DljAGoVs4V1dsMxpkH3L1duPe6XETsmb9qTDtYmxiiwZBFCIxKlG8RDskh97FiyVRsPXYe+5Z2hpO1DhmKH40kU4SYmASkp8Zg54hOMNH8jKHIyYL/lc1oX8sdutq6qN5rFt6xiiuOD2ZxRiri4uKRnpWMg1ObwkBbLc9QSMWZiI+LRmp6Jt4e/w0mhprF3lBIxVlIYGVKYWV6d3oEbMy0CxiKh2snwdvAHC0H/ovgOJmhOL6YmSk9TbRcdREJ6QIzFDnZCLm2CZWcrVG6elvMWrQIY3q3hgUrr4GNGzZceY/0bKEFWzkIf3YW/Zv4ws7eCW7urjA3s0TTwYvwVuABdmrEQwyp5wZHj3rYfu0N0gRsnvIjYYZi/iBXGOurwrVyPfQeMAg92zWAl28lDFm8GxGJIsG9qc1mz7Ez+9dh5qwFOHT2Oh7fv43VY7vA0d4dXWfvQUSSfN6YkMhOwfHlI+HjWx2zN+zHyiGdYWtQlgwFIzn8KTYsnoT2tSuifLXWWHX0LuK54Z3y7UIkKyEE66YNgpe9GYzsKmP2rmtIEGXJtwoHSXY64uPj+Fjt7u7+cLPVJUNRlNw/sRbdunRE27ZtmTph9sobSGDGgf9xZSUwQ9FZoaGQitPw4OQatK/nBT1dXZSp9Sv23XzHgq6f/cGcCf/9azGwSyf8wpe5LWZuOgFReu6PKx2HPjIU+Xl/YjBMi5WhyEGM/1lMGNoN7dvJyjt4+ioExabmBYyBZxUYivWfNxRtVhd/Q/H68kb06tFF3u7bYsLmi4iKi8C5vasxpEd7NGnZHn9OmIhGPvowc3DDpqsBxdpQSMRJ2DKjH7p2lJW3c68BOHn/OTZN6wMvt3IYNHExduzcgSEdasGjXDUsOfAAiayOi/NDNv7NNczo0xMd5XU8bOIc2fA91pj9Ty2El7UhqvaajVdR3LwB+U6CIgMv9qzBoO5d8u51czYcxKQejux3rIXaPWfi6uNXeHNrL1r4uMHatxsu+BfPHuY8koIwf9oYdOrYXv7bnoBLz4KRkJTIAo1EpHMviKQShN7ahqp2lnCpNRoPQuNRnAd6pQVcwtBBveXlbYuek9fi8okN6NSgKtoOXYRHb95g55iesCsphkKSiUv7V6PPr13l16QXFm+5jpgU2YILkuwMJMRG4f7xf9GkmgeqdBmO6/7hyC7GQ1qzk0KwfuF4dOvcQVbm/mNx4gEXj0mQEvEGaycPRDlHS+gb2qHv5A14EVrcV/KTIPzRYYz7vVdeXDNs3iYERyflPbMe7BkANzsyFEXKqdUjYGZsAE1NTSZDdBh8ABEiuVv/rKHIwturW9Gymhv09fVQvs0QHLz+gp9j8fP3mKfj5rzhcDc2hBZfZk20G7caiXnmQHiGIvjWRjQoZwZdbVl5PdsMxbOQBBZYyVJ8aijE8D82B362xmjcZw4CorkJycD+Wa1gpKuOkTvuIKWYrxBxd+dY2Foay9u9JuqP24HQ5HRkpCUjMjQI794F4O3z8+jmZQo751o4+jgSWcW4yOLsGExo6wwTfVl5je3csGzLRjSuXBpalTri3OP3SBWl4fb2Gahsbobmv67A6yhZvRdXIu7tQ1tHG+jL69inYUfcehMLsTgZ+8a2g7meDUb+e1aQb+pkiHB91p/wMDfJu9d1GrccM3+rCxNTU3ScdRAhSRmQJD7D4GrloKvVGAcfBCKzOFd67DN0a1kTBvq68t92A+y4/hrpHw1pSfY/jnqOVrAv/zvuBMexO17xJeXJdpQrbS8vryasGvTH8N7V4Wxnh5Y9/sCMmdPQs34lGGpaombLgVi97SIiEzOE2wMpTseO+cPgYG0qvyZ26D3hAEK4F2PyJBypAdfQtYkPDKq1wf47b4r1sKes6JcY9Ws9mBvL271Lbaw+8xBxUe+xboqsZ8LErjx+m7oRzwJjCi6HXyyR4O25Jajra5cX1/h0GYcXQdF5MWiJNRSKZn8XlWKC/XH+3DmcPn2a6RwePpety8xv5w1FJxhrunxY5SlHiuhnZ9CvRXkYGVui5W8zcOUpC0b4b1B8evyfTxIkvn+JK6zMZ/gyn8aDVyHIFueu7pKGg1ObyAyFfJWn/Pu/P/4bbyiK0ypP6YmhuHP9PM6ekZX32oMX/FKJudsDzoyAtakWKudb5Snp1Qm0quSI0g164+brKGSmRWJmZ2/om1bE3vshH9pIMVVS+CtcvJDb7k/j7qswhD0+g4kjBmPq+mPMLKbizYXVqGhhhPLtJ+NFVAr/ZlvRsYqFpFl4/eAyzp+Vlff8pSt4c/8YGpZ3hrpXC5x4GIDMbDFubvobPsxsN+q+FK8jU4t1mTOSIvHg0kWcldfx9buPkCjKhCTBH6NaVoGuYx1svvwCacwpKtq/+EuMhHcvcfXC+bx73aNXgbi8ntWxrTXq9lyIxyEJSA28jM4VPGDs3gnnX4bycwoUH68YKCsFj+/fwrmzZ+W/7Tt4+fwmVs76C8P/nItrz8ORkZmBp4fmwN3aCnV++wcBxXxlK3FyOK5duSQv72mcvXYD/0xog/q1q6Bu/UZo0rgBfJ2soamqC3v3ihgweh1ehSfLFlRRcLxiL6kE4QEvcOniefk1uYSnr9/gyOoFGNZvKHZffcn3vgbf3o0WVV1QpnlfXHrG2n0xfqZJs1Lh/+QOi+Xk7f7ybQSGheDI0tGo4mYLW8+6mL3hKN6EJxTrcuZXWmwgi2vY/V0e11x/9Jof6pS7/f5uZii4IU+0ylPRwXX/Zmdn50nMPUzk2z7uoeB6IKRSMfbP7g47Iy1oGtuj7a+DMXHyVEyfPp3XzTfR7Bg/96uPHMmnZf5Avh4K+SpP+Sl+PRScYZVCLM5XXt48yTcyOENRsIeCtYuMGOyZ3gcuDu7o0G84JozkukztUWvgAgTkGy5VXOEeOh+3gdSAi2jhZw9rn7oYPnYMujb0hYN7NSzZf0fhggTFixxI8rUBvsyiSGwY1xV2FlZo3HUQJv49Cb/U9oKhtRfm7r3LD2srztXMt/v85RVzPajsQRRwBW1resCwagecfRok2Em5HB/f6yTs/xOD7+PvXnVh61YBPX4bjuF927DfuSO6TViPoNhiPneG1S9Xzx/KLEZafAD+ndAFrs6l0bhzf4wfNwYd6vjAtVJbrD31CKkf9UIXOz5q51nZWYiLCsL7d2/x9i3Ty/tYNvAXWOm5oceYDcxURsiWR5bvLkSkn7T7TNzYMwe1yzmhctMuGDFuEvq1rQtHZ1/8tfo4QhPTi/kzjd3fJQXbfeL7q+hbryzfQ+tUvgEGDR+LKdNkcdqM7ScRlVS8v82QI1UU13yoRL6HguZQ/ERkp+Dc8ilo2bArlu15DFGWhB+LvXFiZzSuXwd16jVEy9Zt8Msvv+Tp8N1g9oAuzr/MDFzdNBrNGtfDquMPkP7ROJfwW4vQqnlDDFt6iF9aVAhE3F2Odq0bYdDC3UhOk4+vZQ+p5Ii3OLZ5MYb07You3Xph+rJtuPc2QgDdpYqRZibj7rnd+Hv4QLTv3BWDRk7GvrN3+GUGuTeYgiNHgoQQf5zYthS/D+mH9u27YsCIydh45BLCEtLyhsQJjeSACxg1sC06j5yF5yFxwl46VAE5LLgKe3sPGxdNxoDu3fBrr8FYtOEg/INjBGmuciRZiAl5gf3rF+GPvr+ic5duGD5+Lk5ce8p/yE+Qv+38ZCfj0r+z0L5ZTyzZcRuJopLwNfhPESWG4tbpXZgyaii6deiA/sPGYf3ecwiMlvXWCI2wh4fRr2tb1K1TBw2bNEebNm3z4rR2U7m39sJb5Sk/ry/OR7f2TTD23yOITJS9KBUaP92Qp/8pqQQpsVEIDAhGLHPw3IM3RypGXEQgAt6/x3sFShRx6x1/dJxiJSlE8RGszO8Rl5wOKVfmfNuzRTEIDAxAeGySYD6IlJ0WiyBWpjB2g5FwPVS521j9p6ckICwkEIFBXBtILZYfLfwvys4UITYyDAGBgQiNjEEa92HDj9qAoMTqOCM1EeFhIez3Kyszt/KXkMsszkxBRGggQiKikZEl67UoaZJKspGSEIPQoEAEBYchITlN1jutIK0gxNp5WnICIkKC+d92RHQcX/dC+5iZQrGyp8ZFs3t8CLuHC7ye/6ekyM4QIYbd34MCAhASHoVkUYZgP2yYJUpESHDgJzEar4gYfoirov2EoszUGAQHBSAiLjnfkPafS19L8eqhIAiCIAiCIAjip4IMBUEQBEEQBEEQhYYMBUEQBEEQBEEQhYYMBUEQBEEQBEEQhYYMBUEQBEEQBEEQhUahoVA0+5tEIpFIJBKJRCIJT18L9VAQBEEQBEEQBFFoyFAQBEEQBEEQBFFoyFAQBEEQBEEQBFFoyFAQBEEQBEEQBFFoyFAQBEEQBEEQBFFoyFAQBEEQBEEQBFFoyFAQBEEQBEEQBFFoyFAQBEEQBEEQBFFoFBoKRR+8IJFIJBKJRCKRSMLT10I9FARBEARBEARBFBoyFARBEARBEARBFBoyFARBEARBEARBFBoyFARBEARBEARBFBoyFARBEARBEARBFBqFhkLR7G8SiUQikUgkEokkPH0t1ENBEARBEARBEEShIUNBEARBEARBEEShoSFPJBKJRCKRSCRSCdbXQj0UBEEQBEEQBEEUGjIUBEEQBEEQBEEUGjIUBEEQBEEQBEEUGjIUBEEQBEEQBEEUGjIUBEEQBEEQBEEUGoWGQtHsbxKJRCKRSCQSiSQ8fS3UQ0EQBEEQBEEQRKEhQ0EQBEEQBEEQRKEhQ0EQBEEQBEEQRKEhQ0EQBEEQBEEQRKEhQ0EQBEEQBEEQRKFRaCgUzf4mkUgkEolEIpFIwtPX8l17KL5FBgmCIAiCIAiC+Hn5LoYiKysLjx49QlhYGKRSqfyvBEEQBEEQBEEIjW865CkzMxOvXr3CjBkz0Lt3b7x9+xYSiURhWhKJRCKRSCQSifTj9bV8kx4KzjQ8fPgQM2fORJUqVWBjY4MJEyYgMTHxm2SSIAiCIAiCIIifk68yFFyPxPPnz3kjUbt2bVhYWEBFRQUuLi64desWxGKxPCVBEARBEARBEEKk0Ibi8ePHmDdvHt8jYW5uDnV1dSgpKaFUqVKoVKkSVq1ahW3btpFIJBKJRCKRSKQfqO3bt+PBgwfIyMiQR/LflkIZCm5uRJ8+feDo6AhVVVXeROSXpaUlfH194efnRyKRSCQSiUQikX6guJf9S5cuRUJCgjya/7YUylCkpaXhypUrGDduHJycnKCsrFzAUNSqVQvLly/H2rVrSSQSiUQikUgk0g/UunXrcP36dT6G/x4oNBQfz/xWJG7+REREBC5cuIC//voLHh4e/LAnzlBw/7527Rri4+ORlJREIpFIJBKJRCKRfqA4M8F9zkFRXP+1fNWkbC4D2dnZiIyMxNmzZzFy5EjY2dlBR0cHc+bMQWpq6jfJJEEQBEEQBEEQPydfZSjyw/VYhIeH80OhxowZg86dO+PNmzf0YTuCIAiCIAiCEDCFHvL0OXE9FpyxuHz5Mv/fz3WtkEgkEolEIpFIpB+vr+Wb9VDkh8sY12PBmYtvkUmCIAiCIAiCIH5OvouhIAiCIAiCIAiiZECGgiAIgiAIgiCIQkOGgiAIgiAIgiCIQkOGgiAIgiAIgiCIQqPQUOSf9U0ikQSsrDSEhwbh7du3/DLPCvX+PYJDwxCbmIossUTxcYpMYiSFh+K9PL9h0fEQS350nopQfH0Fy+rrXSBiktMg+X9X0hMjMSz3mr1HZFwKu2bff/U9qSQDUYEBeCdvR3F8XhWn/Z7KTIpDCGvDb1keAoJCIMrIhlRBOhKJRCrJ+lqoh4IgSjAZoXcw+NeWqFDeF+XKlVOsCpVQt1FT9Bw0Cit2nkZoQgYLyOQHKHLisHtob9SsUJ7PW/+pqxERL2I3Q/lmgZMRehfDerVGRa6+qjfC3IN3kZiejf9d/BhsHdADNctz16wWxi49yYL7jP9nn68nPf4Z/m7WEFXk7Wjp4TtIyRDLtxYV2Xi5byU61a4BP5aHhm264MrLKGRJ5JsJgiCIbwIZCoIowaS9O4+mVV2grqqMUqVKKZaSMtTUNaBrYAy70uUxcMZ2vItJ/UGmIgorm9eCoboan7f6/aYgKDqlxBiKtPcX0bJmaWiosfrSt8Xv6y8iNi1bvvVzRGBRg6owVFNl18wYXcbvRGRCunzb90MUfQe9HW2gLW9H4zdeQOL/m9dvTRYe/DsZvqYGUGF5sCldAccehCKTDAVBEMQ3hQwFQZRgvshQ5JOSsioM7Stg6YmHEP2Q17xkKMhQ/BckCLt1GosnT8KYUaMwfd4SvAhNglgq30wQBEF8E8hQEEQJpoCh0DbDL6MXYv+xEzhz5oxcp3Hi+CH8O2cEvO2MoKqshFLK6qgzYh2Ck9K/+7CZTyFDQYbiv5CD7LRUxEVHITIyEtGxccjMlvyAdksQBCFsyFAQRAmmgKFgAeofGy4hJjUDYrE4T9nZWUiKfIvJvetAT0sWyLu3noYXsSko8KKXRfUpUe9x7fQ+rFwyC9OnTcWchYux7fAZvA6JQ7bk86+FU2NDcO3sIaycP5ftNxurN+/CjadByMj+eMz9/zAUknS8vLQb8+fMxNSpU5kW4tTN57h9Yg8Wzp6Jaexv647dQ0L+OQeSZNzeswVzZ85g6Wdi86EbiE/NyhdwJuPUxsWYPZ073mKcexDIB6Qc4rR4PL5+FltWLMXM6dPZ9nnYuGMfbrJ8p8vT5JEZjeNrV2LW9GmYunQtbgdE4/2za9i2cgnmzF+EPaduIDIpK28YmTQ7HUGPr2PLv/9gxvR52Lz/PN5HJyHl7YVvaiiyk0Kwb+sqzJwxHXMX/YPnYUnIzBQh4NE1bF+7jP19LtbuPIJHLL9Zn6s/SRbePb6GHSvZdZgzn6U/gYCYZCRH3v5/DUUOq7NX969i65ol7FzTsGT1epy68RwJoswCJjEzIRj7tqzALJaGq9sF6/bgfWQSP8lbRgou7V7F6lG2fdbKvQiME7HrKUHE/Yv4l2tX7O+Llq/B64hkvociJycTl/YuZftwdbsa15+HITMrE6GvHmL/1tWYM2c2lq7dijsvg5H+ud44dvyU6ECcPbANi2bNxIoNu/HgbSSy2AmSAm7hn0Xz+Pys23McUYlpJcb4EgRR8lBoKBTN/iaRSMKTiBmKJvkMxZ+briCeBX0fp5NkJmPp8KYw0FHng8NqQ1cjKJEL2GTbs9PicHnPIrSuWw1l3JxgY2UOMzMzWFhawcHZDT5VG2HGujOISOQmdH84blZqJE5tmI1fGteEp7sLbCwt2H7msLF3RBlvP/Qetxx338XwZkS2TyRWNKuZZyjq8YYimR0zC0/OrUen+uXYMczZee3RatAM3H0djPt7ZqO6lzMsWH6qthiJOwHxyJavNpQRcR+DfqkFW2vZef06jMTjoBgWcMq2iyOvo235MrBi+9r4NseOq/5Iy0zH62v7MLRrM/iVLQ17a2uYs+1mZhawc3CCp08l9J6wAg+DZCaKz3eyP0Y1rAF7C3Ye35r4e/4MtKxeAU42VrCwsIRPwwG48jqGX0UrMeg+5o3sgerly8Le1ood2wL2Tu6o1KgjliyZi6q+jlDj6kvPhhmKC4gRMQPEX5vPKRyL6lfJMxSdx+1AZDwX3OYgPfQu+rWryZffuYw3Vm/dgYlDuqEaO7eDLVcuC9g6uqBchbqYs/E0q790SOXXhlPs+wdYPLYPalbwgqMNS2/OpXdFzabdMG/NArS0MIVWrqHYcJ4Zhdy8ShH27Apfzqp+3Lm4cprBysYObmXKoWXPkdhz8QlS0mXpJVlJuLp1Eiq7O/LpLG29MHLFSUSnZLCYPhOvzq1Dw0plYGnOjuHghd8XHEAky2sOaxePN89BXXdnWLL9vKo2wOnHYcgQ57ByJGNe74pwseXqriamLN2CeWP6o0FVPzg72LB6MYe1rQPKlq+N/lM2IyA2FRJ5uTlxhvLSrn/QlbVHDxcHdm6W3s6RnaMJFu24igfHl8LPy43/HTTuNQbPg+Py2hWJRCL9bPpaqIeCIEowBXooWIA6dM0ZhMclQZSWhjS5UhKjce/MVjSpZM+nUzZwwpRd15Cckfu2OQf+Z9ehdRV3aKup8MHjJ1JWg51vK2y6yAJy/m0vC+iyEnBh7RTU8rSHlroKlBTsp2vugl/GrUUoMy+y210UVnzcQxGVgKjnp9GtaUUYaKtBWVkdpWt3xcHrz5GakYXEF0fRxMsB6ipK0HetgY1XX7M8cK+opQi6vhF1PM2hxrZxx1O3aoTD994jk3+FLcb7E7PgZKbP8qaE0vUG4tqrSMS9v4nhnWrBTF8Dykqf5rmUkhJ0Ldzx5+oTiBdl8rlG8nMMqugJbRV2nXUM4OpqDz0tbWhpakJLyxhNhizFu5gUiOLfYsVfHeFqqQ8VbnhZvuMqq2nDycUDhgY6rIxsW14PRf4eFUUU7KHoPE7WQ8Htkx58E50aekGTXX91TS34+fnA0kj3k3MrKanCoUJ77Lz2Wt77wgLqxEAsY4bA3dJQNhQuX3oVdR3YlikNKw11fjI097e8Hgr24MoIf4iR3ZrCwVTvk3Nx0tA1gXcNVoe33rPzcT0jUiSHPMIfrStBT5Mrhwocq7fH0fsBiAl+gCk9asGYN7tKKNNkEE6wv2fw+3GTsv+Gr4lsUra1fFI2t9hUTk4SprR3hoEmd05jlC3nAzszA9YWWB3lzw8ru56lN/458RjJ8tncOeJ03D+wHC0qeUBPQ7Vg21VRh3P5dhg/sjdMjfX5v1VuNxhPgmLxPzrpCIIgijVkKAiiBFPAULBAyMrFExUrV0HVqlXzVKVyRZR1d4QOC+R0zJzQcdRSPA2O59+28mTHYk73KjDVUWOBlTLMHDzRsElztGrVEnWreEFPW4MPuJTVrdBv9iHEJrMgmwXzwTd3o0N1N+hwJkRJBcYOZVCnYTO0atkCVco6QZf9XYn9Xd/KDyvP+SOVMwEKhjzdv3oco7vUh6meJkuvjDL1u2H7uftI4t5usz2kmaGY1aky9Fn+lbVsMPif44hPzWRZyMa5lSPhZqoL5bxg0BJTd91kZkmMnIwYbBnZEca6mvy1aT95J4Ji4nBq2QiUsWQBKjMTWoZ2qFq3EVq2aoUWjWrD1liT/ztXHvf2U+EfkywbFsYZikpyQ8HyqKJhjp6TV+DEhSu4eesOXgXHIEuSzYLUmajgYpYXoJs6lkXtRs3QsmVz/loaa2l9CMC/wZCn9JAPhkKJGSE1lsbQxh21GzRFi+ZNUdHDGhpyk6isboohS47w1w6SDDzYPw/V3C1lZowF3Sa2HqjD8srVe21mnowNtKHKjsnnlSnXUEjSY7Bv1iA4WRgwQ6YETX1LlK9eDy1atkLT+jXhaMEZFGWoquuhyeCl8I/kegZYk5Fk4tn59WhZ0RGarL2qapug5eBpmD28O9ysuPpgRs66IlYfeyDrZeNL+PlVngoaChVWdjXoGNmiSu2GLC8tUK2cC/TV5WaBla/F75vxLjaNr8/UsAf4s5Ufqw/Zdg1WBt9qddG8RUs0bVADjlaWsLY0haqq7NpVbjcET4Pi+HIQBEEIERryRCKVYBUY8sQFTv9TqnCo2g4bTt7jh67kDV3KTsSJ9YswcmA31GnQClNX7cXDZy/x5s1rPLyyC+3KOkOTf+urjpbDV7BgVsSCw2wcnNcT9sbaLJAtBUOHapi27hDuPWX7vX6Fq4fWoUVld+jr6ULP0BK9Jh9CKD9cquCQp+rtemF4p0bsOMwUsIDS2LMB1p+6jThRZr6hVcw4LB8MeyMddi41+PWciZDYZH4YzZLfqsFYmxkNFRU+IOUCy6YTtiM8KZ0FjfcxuGU56GiosODVAYtOPEdyWjqeXNqLaaMHowULHHuPX4nLd5/g9Zs3ePXsHib8WgP62rK8mZUZjDthzHhxeUjieijKyAwF22ZaoQuuvgzhe0Ly6kMci1V9GsFEW/amXdepCmZvOph3TR5eP43xnevBXEddFuR+zZCnBPmQp+Ab6NigLG8ouHMaOFfA3yt24M7jF3jt/wLXDi5BNVtTqPE9McpoMXYdX39iUTRWjGgBc32ZWTRzro0pK/fj7hNZvT+4fhyT+zWAka4GX15OuUOeEt5fxYDGHtBRV2bX3QhdRy/B2RsP8er1G7x8fAfb5/8Bd2sjvj7MyzXHvtuyXgouv9mpUTiyeBhczPVYfStDz8IODswscL0KKnq26DxxLQJjUvLVfSbfQ+GTr4fi6P0Q+ZAnZija5RqKUszYuGDwtLWsPp/iNbve149uxi/VS/O9Z9z2yi1n4lFwIm+k35z7Bz4Oxrx5VFI1QYc/5uPUtQfw58rw5A7WzxoIb3sDZoxkx678y2A8CYylIU8kEumn1ddCPRQEUYL5b8vGKkHTwBzeNVrgnz1XESfvAeAmpqYmxCEiNBD+r94iOiEVEokY6cmx8L9/EN3LuUCLD6SV0PT3hXxAKslOxqxfS8NAS3beeoMX4U14gqzXg93YsljgeGrzasxfshJb9x3B41dR/BCWnI+GPOkZm8JUT0tuBjRQqecsvItO4gPK/ITc3YWmZU2grsICR5e2uP4uGqKYB+jua8vnzdWvOqpYW0ODGQuPWiNxnwWOb69uRoPSZlBnQaFJ+R64JQ8IM9KSER0RirevXiIoMoGfgJuZnoLwt88wrX+DvHkmZrYDcCuEGQouA/mHPDFjVnvAQoTHp8rfosuJe4redXygxfUIqBmj9YjVeJ3vmkiy0/Hi9ApUyx2i9Y2HPJVS0kLd7rPxKODDnJXstCCMbuIMPXVZT0ODEasQweovLfYlRrR2hZ6G7O9txq3Hq3BZsM0yy+f13fXNqGltBjW2nUuT20Px7vwG1HNk15UF4ypqLvht0nys37wNO3bswI5tW7FmwV+o5GABNWUlqBqVwdRtNz5M5s6RIjH0Kab1qiszVsrMlPDHV0W1X8bh4rMw2XC1PL50yFMpWDUYiuv+sv3Z4xXZScFYMagtzLgeKra9QuNJuB/I6oMZ1EurfoWtqTb/d7NKbXH81iuIMsVcNbEsipEUdg8TW9dkx5a1U37IE2s/NOSJIAihQoaCIEowBQyFphEa9RuH5f+uw4aNG7GR04YNWLuWBfZTRqG2rwO0uLfKaprwqNkOh+4FscBMFiFJJVlIjAnDoxsXsH3dIoz5sz96dGmHxnUrwJIF/LlzDZr+voA3FNmZwRhW1Ro6qrK/9194EAncUJpcWOCYlpSAuIQkiNIz+YnAMgoOeSooZZh6NMPRhywo/GhsSUb0S4zpWEU2/l7NHEvPvsSbSytR1soIyspaaDJoHiZ3rw4jFqSauNTG7lvvcWhxPzjyPSiaaPT7SkQkimQHYwZKlBiLN0/v4sjO9Zg5ZgT69OiKNk0bwN3WCKry+RhmNh8ZitwhT6UM0XnSDsQmFVy6NTPwIhpWcpNNuDZwxMgNFxEnypJvlZEZdA0ta3nKhiF94yFPpTSM0WP2IYQn5f+KdgYW9i0NI21ZmeqPWMnXX1LIDfTytoa2/A38hG3XkZhecEWutOgH6FfFNq+Ocw3F3d2z4GZuyBsBJWZiLGzs4ODoCMdc2VtDV0PeC6PihD+WnENcyofrwA19es1Nwva0YwZRZkhLablg5q6r+YY65fKlQ55KodqQpQiJS5XvxxAn4shfvWGjr8PnpXzjicxQMNPE9ts1vCUs9GS9LxU6/InnwbHMxMr345Am4ODE9rA0kJkRGvJEEITQIUNBECWYTyZl/3sGobGJSE1NzVNKSjLiY8Jxdc8s+LmY8uP7VXVsMGTRcUSzQC8HmXhwajN+794cft5l4OTqCr9K1dG0dVt069UZFS1N+bfNXGD1OUMxcPEhcEuFfiCHBa2PcPXabTx/F4LkjEx+hR1FhkLXyA5lWRCqrqrCzI4+2o/fgPcx3ApUsiNx5GQn4eS8vrA1YgaBGY+2U7Zj64SusDDQYmUxxugtV3Fu4zg4m+hBzcAZE9Yfwphm3jDQUIGKkQem7ryG5HQWuEsliHxxGXNG9katCj5wc3WGp3cF1G/cAp279UCDKh4sOOcC9/9lKMzQc9p+xCVn8HnLJSvoMupXcpcZCl1HjFp/CXFpBQ1FVuhttK7j/dWGIipRgaHQNkO/5acRVWDZ3Bys/MMDxrofGYrQW+hVnhkKFVkdTNx+HUkfG4q4pxhU2e4TQ3FrxxQ4mxnwQbqKiiOad+qOPv36oZ9C/YUdp7nJ9R+OzU2IvrF9CvwcTT5MBlfRRpdxm1i9pxUM7P+DoWg8Zg3f+5JHTgouTBoEBwPdjwxFInYNawlz+XCuKp1H4mXIR4YCSTg6sQMzFFp8GjIUBEEIHTIUBFGCKWAoWIA6fPMV/jsNn5KDuKcHUK+8vXwSrgHaj9yCsIQ0pLw9iy71ysNETxNGTj74a+FanDx/FfcfP8Er/6sYXtETuvLJqbmGQpydiKmdXKCvKQsIaw5ajKC43JWcWNwuTsK5ZSNQt2ZN1KrfGAMmLMSLsARIpAUNhYa+E/6cvRnHN0yDm5WhbB6Fez2sPPmQH4LyAQmi72xFeScLfnhU6UrN0LSiF7TZcfSsa2Hf/RAEPjqC5u5m7Froo3Gb7ihjKQtYbf1a4/jDYGSKmXVKCsLCIS3gbMmNj7dAt5FzsO/YWdy+9xAvX73mV2gyZteBy9v/MhS9ph/4xFDkxD9Fv9rlZCtlKRuh7aj1CM43LConR4KAqxtQ08vqoyFP39BQrDjzkaEAVo/41FBwQ57+bOUMXfmQp2aTtrL6y/edhRwpwu/vQl1Hc/n8iw+G4sXxpahsYwxV9ndVdU8s3H8FrwKCERISwhSMty8e4/btO3j05DnevA9GPLtOH4awSRH98hz6N/ZhRkAVSqx+cifUm7rWwozdV9g58hvTLzcUTceuLWgokIrLk3+D4yeGIgNnFnSCtbHMLBhV6YizT4KQlesWWF4zYp9hWsfaMJR/t4UMBUEQQocMBUGUYL7IUEglSEsMwb7Fv8HNmpsMy70RZoHppN2ISErEw7Wj4WSixwddxqVrYs2pR0gSZSI9JQZ3j61EI1drqH/UQ8ENkdr5dztY6ckm9Ro71sb8nRcRxX19WyLG2xsH0L12WehqqkNNXQv1+i3Ey8gUFpAVNBQ+LQbj3usIpCUFYkrXqnyQyS2vWqP7TLyK4ibnysvAkKS8xrC6rtBRU4KGpi47tiZvQJyajcKLiESIov0xvK03C5LVoK9vyIJ2WU9DzQEr2LFS+WPFPj+O2m4soOfLY41Rq44iNDaVn0MR/PwaBjbz5Sdxc/v9V0MBSRxWDqwHI35StwpMPergn/2XEZmcDgm7XpH+NzGpZxNYchOhuTr4gYZCIorC8t+bwUxXVn+Wnk0wf8sFllcW/LP6C/O/jtlDmsJcXr/cvrmGIur5SbSvag9NVSVmCHTReOA0XHgajHSxFBnJ4TiwYhK6de6K/kOHY+6qzXiZNzcDyE4OxtoJXWFvosPqTgVWntVQvYyVbNlhVU241OqBKy8jwa8Yy/M9DEUO/E/MhTc3XI79XUnHGj0n/svPkcgWS5AeH4Jdi4aigqNJXs8cGQqCIISOQkORf9Y3iUQSrgqs8sQCMiff6mjSrDlatmz5QS1aoEmjOijjZCb7QjMLkPSsfbHs2GOkZKTi5orfYG0om6Cqqm2IspVqoVnzFmjWpAEqeTnDSIdbSlUWWDUaOh8R3Ft3qRTvr25BCz87aLDAUllFC/al/VC/UVO0aNEcNSt4sv1kgbOaoSPm7OO+cM1Nei24ylOdPpMRGMV92E6MpyeXoX4ZC/57E7oWnpiz62bBj/RJM7FnaicWkGvmBbmlSumiy7RdiGZBuzQzHttZsGr90fbJu3PPnYOYR3tR1cYUqvw2dTiUrcAvkduieRPUqVYeFoZ6UJWP6ze17oebwXHI5s5dYJUnU37IUyw7Z17eeInx5NACVHJgx2fXS0lNC46e5VG/MXdNmqFe9fKw4r4RIb+W33yVJ21TZii4IU/cV6o/7L9qeOk8Q1Fv+EpZ/Uky8fToYlRzM+eDZhU1Hdi7+8rrrwXqsrzamhb8nkXuKk9ZKaHYPLozP7eG+76Hjok1fKvWQVOuzTSux9qZJXR1dKFvaILGfefiSYjMUHBf1b62eRpqulnydaxl7o6/VuzH0U2zUctd9jcVTSN0HLcG/hFJsn3+wypPTbghT1zZ8sqegkt/5xvy1GgC7gUk8B9FTA69j2HNysJAg6tPFRhZu6Ba7YZozsrQtGEdlHa2gL4GM7fy3hla5YlEIv3s+lqoh4IgSjAfr/KkrKLKr8f/iVS54EgeHKrqofGABXgWlgQJMwZR97aimhMXBHPBE2cOco+hCg0DWzRuWhe2Wpr821yf7pMQEpvEbl5Adko4Di8eDg8zLkguxa/Yo6oqO58KC7z5oF7DCPX6z8CziMS8ORSffNguOpk/XkZCAFb/2UJmRJTV4dt6NG69jeYDwFyen17G8mrIgmBZoFfKwAtz9t9hxkgMcF/b3jcFnjb6eYFgKasGOPcyIu8YadFP8Udjb+hxATjbrqSsAlX5NVJV0USlus3h6mjBmwoji5Y49SIa/OczCqzy9JkeCoYo5i2Wj24HS0Mu2JYfX35NuGNqm1vAxcCA5Z8dJ6+HomCPwqd8uspTlKJVnvgeio/nUIAZig89FPVGMEPBv8XPQWb8e6wa2Qm2vDEoWH9cXtV1bGBvxwyHfLhbbg8F98HAqGcX0K0uux78dczXZvLamTIMHCpj6f5bSOBMITtj4tuL6F6/DPQ0uI8gaqFmz+m49z4GyTHvsW5cR1gayQyKsVMVzN15HUn8/BOuh+LLVnlS2EPxd/4eigm4zwwF8yKQZotwfdt0VHQ0l83jYHlWYXnPLYN1uepo4Mb1huUOeaJVngiCEDZkKAiiBPOxoVAsJahr68LYzBoeftXQf9IyXH/OBWWy6EiSHoeT66ehbR0/WJlwb+hZel0jlC5fE+OXbMeFU5vQ3NMYGiqloOXcBOf8w2UBeo4UKVEBOLZhDto1rg4XOzNoseBTqZQKdIzM4VLWF/3+Xo5rz7k3yrmRWMEhTzJDkcIbChblIeLRYTQtIxtipcEC7iGLjiCae+Mu2xkpwbfxW9Ny0JEbAgu/X3D8gWx+BBckp749hUbeTvLVg9RQvut0BMUwwyLbHVJxOl5c2o1BvzSEGwuWufyqqGvCxtkPHX+bictXzmBEi+os6FWDhp4Dpu1kATE3WflLhjwxuI/txYQ8wioWyNb29YCRLjcsSxV6JpYoU74OJi1fgbG1KsGAK/8PHPLEw4xBzLuHWDt9MGr4usNEh+WVGQNtVndlKjXEiFn/Yljn6nnL6OYZCoZUnIbnN45h6pAuqFjWFaYG2vzXv5XVtWBu44xarXpj1Z7zCI/nJtfnID32JZYP6wBrzmgpqcC2UlvsvPgMqdxSreyaxb25gr61vPiPJCoxY+dcvQtOPWbtRsL1UHzrIU/cNpan+Aic3TIf7RtUhK2pPm8sdAwt4Fm9LVYdOoql7ZvCjBlpzhxV7zASz4LiacgTQRCChYY8kUglWNkJAdi5cQVmz5qJGTNmfEazsPCf5Vi/aQdOXb6NgIh4FoBLChwnLSkST29fxNb1KzFv7iwsWL4Wxy/eRlhsMlITgnB4y2LMmcWONWc5HgYnIJtFVrJ9pfz3Kl4+uolDuzdhybw5mDljDpav3Yyj56/JzpWd/1ypuLdrMxbMnsXnbduxy/x8jdztksxEnNn1L+bO5sozCxsO30RcWiYflHLbpRkJuHZoG+bPmc22z8SqbScQGp8GiXwoijQjGsfWr8bcmdz+87D3/GOIMgoOKRJnpCDg2V0clud3zvxF2HX4Al4ERCEzIwl3D+3EAnb8mbPn48g1f6RwQW9mDE7kHXcRjlz1Rxr/3YIPx/0gMRIiAnDr3DGsWb4Ys2bOxcoN23D66j2Ex0Xi3p5tWDib5X/ePzj9KBBpWQXr4lOl4Pa2jVgwi7tmC3HgwnNWJtlQsOykUBzY/i/mcNdr7iIcu/ceoqyC+bp/ZhUWzpO1hW1n7yOF+/5I7nZJNhKjA3H93FGsX7YYs+fOw1JWd2evPUBwZAxunNqOBfO4az0DF1le0/PlVZKVjujg17h8+jA2/ruUb4OzFizB5l2HcefpWySkZvA9YFza1JhXOLxpJeZy7XTmbGw6chVRSdyKTvJ8MKN39+ROlk/ZuWYvWI6b/hHIyGYm88FlrF04n7WrGfhn1Xq8iUjOGw51Zd8K1hZkZdtx/mHBsuVkIejyCSybP4/fvm7HRUQwI8b1lKWEPsGOfQdw7MRJHDu0G+tX/cPnbdmaLTh74wliY99jVfdmMNXmVoLSRMMeC+DP9+jlHptEIpF+Ln0t1ENBECUYLiBM5r73EBfLgqDPKQ7xCYlITklFhjzY/BQWIIqzkJqchPg4lj4xOS8t96Gv1OR4+Tni5EGlfDc5UpaPdFEKEuLjEMfSJCansP1lQW9BuIm7snNweUtKlZmBD+QgPTWRnUu2PSFJlDehl4cZmIzUZPn+3Hk+3i5h5ih3/3ikyM3Ix3ATx/PyG58AEQtEZfmQIjP3+EzJIvkKRcwkpCZyx+WuQTxS02RfGv8sbFt2ZjqSErm6iUdSciozVtz1ZPlPkZef/Z0zBv/zODzMtCXlXjNWJvlXxDm4uknJLS87XqqC42WIEti+sraQxJWnwPXmkOU1WZ5Xru5kJpCdV5R7rWORJjcxBWD/n5WRnpcH7lqmiNIh5j6sJ0/CIcnOQFICa0Nce2TpuOtasN6BrPQUxLP64M7FHSv32ogz0pDIt6tYvh1zHyKU7cmMcMqHts/XVYFjsnKlpSJBnv/E5DSWL9ae2Zb412fRo1ZleHmWhY+PD+r80g+zl67G1p27cfDAAayc/Ttq8HM9lKGkYYhu0/chlJmRgjkmCIIQDmQoCIIgCOI/kB7rjzFtKvGrinHDpdR0jGDn5Aw3d3e4u7nC1tIYmmqyeUB6lhWx4tRTJHPjrAiCIAQKGQqCIAiC+A9IJel4fG49OtTxgq78Q4afSgn61p4YOG0j3kcXXMKYIAhCaJChIAiCIIj/BDccKg4PLh3FshkT0KVtA5Qv6wY7G2tYWbmgaq2G6DV4DFbvOA7/kFhk0/JOBEEIHDIUBEEQBPGfyYE4Mx2JsVEIeOuPp48f4t69u7h79wGev/BHUGgkklLTP5nrQRAEIUQUGgp+IiWJRCKRSCQSiUQSvL4W6qEgCIIgCIIgCKLQkKEgCIIgCIIgCKLQkKEgCIIgCIIgCKLQkKEgCIIgCIIgCKLQkKEgCIIgCIIgCKLQkKEgCIIgCIIgCKLQkKEgCIIgCIIgCKLQkKEgCIIgCIIgCKLQkKEgCIIgCIIgCKLQkKEgCIIgCIIgCKLQkKEgCIIgCIIgCKKQAP8HgSh4A23UFx8AAAAASUVORK5CYII=)"
      ],
      "metadata": {
        "id": "IiPzlwauHdDP"
      }
    },
    {
      "cell_type": "code",
      "source": [
        "hola = \"Hello Python\"\n",
        "hola[0] # Primer caracter de la cadena\n",
        "hola[len(hola)-1] # último caracter de la cadena\n",
        "hola[-1] # último caracter de la cadena\n",
        "hola[8] #otro valor dentro de  la cadena\n",
        "hola[2:9] # estracto de la cadena   [ >\n",
        "hola[:8] # primero 8 caracteres \n",
        "hola[-6:] # últimos 6 caracteres "
      ],
      "metadata": {
        "id": "LeH7NVokHeO9"
      },
      "execution_count": null,
      "outputs": []
    },
    {
      "cell_type": "markdown",
      "source": [
        "Listas"
      ],
      "metadata": {
        "id": "x4QV5gMhKkf_"
      }
    },
    {
      "cell_type": "code",
      "source": [
        "# Creación de listas\n",
        "lista1 = [] \n",
        "lista2 = list()\n",
        "\n",
        "print(lista1)\n",
        "print(lista2)\n",
        "print(type(lista1))"
      ],
      "metadata": {
        "id": "-Mxw_IwPKoJ8"
      },
      "execution_count": null,
      "outputs": []
    },
    {
      "cell_type": "markdown",
      "source": [
        "Crear lista en base a los caracteres de una cadena"
      ],
      "metadata": {
        "id": "YFiDcy_JLa1L"
      }
    },
    {
      "cell_type": "code",
      "source": [
        "list_vocales = list(\"aeiou\")\n",
        "vocales = \"aeiou\"\n",
        "list_2_vocales = [x for x in vocales]\n",
        "\n",
        "print(list_vocales)\n",
        "print(list_2_vocales)\n",
        "\n",
        "ca = 'uno;dos;tres'\n",
        "#['uno', 'dos' , \"tres\"]\n",
        "list_3 = ca.split(';')\n",
        "\n",
        "print(list_3)\n"
      ],
      "metadata": {
        "id": "3AEUjOEYLOF1"
      },
      "execution_count": null,
      "outputs": []
    },
    {
      "cell_type": "code",
      "source": [
        "list1 = [10, 20, 30]\n",
        "list2 = [10.20, 20.74, 30.28]\n",
        "list3 = [\"str1\", \"str2\", \"str3\"]\n",
        "list4 = [\"str1\", 24, 34.65, [50, 100], [38, 56]]"
      ],
      "metadata": {
        "id": "sYljJ8oCLYNs"
      },
      "execution_count": null,
      "outputs": []
    },
    {
      "cell_type": "markdown",
      "source": [
        "Creación de listas con \"for / if\""
      ],
      "metadata": {
        "id": "77DN4s0wNS_A"
      }
    },
    {
      "cell_type": "code",
      "source": [
        "lnum = [x for x in range(1, 20+1)]  # datos entre 1 y 20  \n",
        "print(lnum)\n",
        "lnum = [x**3-50 for x in range(1, 10+1)]  # datos entre 1 y 10\n",
        "print(lnum)\n",
        "lnum = [x for x in range(21) if not x%5 ==0]  # no múltiplos de 5\n",
        "print(lnum)\n",
        "lnum = [x**3 for x in range(1, 20+1) if x%2 ==0]  # nùmeros elevados al cubo y mùltiplos de 2\n",
        "print(lnum)\n",
        "lnum = []\n",
        "\n",
        "for x in range(21):\n",
        "    lnum.append(x**3)\n",
        "\n",
        "print(lnum)"
      ],
      "metadata": {
        "id": "9-GoeTExNYLk"
      },
      "execution_count": null,
      "outputs": []
    },
    {
      "cell_type": "code",
      "source": [
        "paises = [\"Perú\", \"Ecuador\",\"México\",\"Colombia\",\"Chile\",\"Bolivia\"]\n",
        "\n",
        "carac5 = [p[2] + p[0] for p in paises if len(p) >=6]  # lista con las letras index: 2 y 0, nombres de países con nros de carac >=5\n",
        "print(carac5)\n",
        "\n",
        "texto = \"hola 911 mi dirección es las begonias 145, int 456\"\n",
        "\n",
        "digitos = [ x for x in texto if x.isdigit()]  # números\n",
        "letras =  [ x for x in texto if not x.isnumeric()]  # todo, menos números\n",
        "\n",
        "print(digitos)\n",
        "print(letras)"
      ],
      "metadata": {
        "id": "RHpGs0pFOM4s"
      },
      "execution_count": null,
      "outputs": []
    },
    {
      "cell_type": "code",
      "source": [
        "# 2 variables\n",
        "sum = [(3*x+y)*2 for x in [1,2,3,4,5] for y in [80,90,100]]\n",
        "print(sum)"
      ],
      "metadata": {
        "id": "t97seackPQYd"
      },
      "execution_count": null,
      "outputs": []
    },
    {
      "cell_type": "code",
      "source": [
        "# Lista con datos aleatorio\n",
        "import numpy as np\n",
        "\n",
        "np.random.seed(123)\n",
        "\n",
        "datosale = list(np.random.randint(0, 100, 20))\n",
        "print(datosale)"
      ],
      "metadata": {
        "id": "KRJPgtDePMFX"
      },
      "execution_count": null,
      "outputs": []
    },
    {
      "cell_type": "markdown",
      "source": [
        "Manejo de listas"
      ],
      "metadata": {
        "id": "ymvkz4lFPqNR"
      }
    },
    {
      "cell_type": "code",
      "source": [
        "mi_lista = ['one' , 'two' , 'three' , 'four' , 'five' , 'six' , 'seven' , 'eight']  # lista de cadenas\n",
        "mi_lista.append('nine')\n",
        "mi_lista.insert(9,'ten') # añadiendo un valor en la posición index 9\n",
        "mi_lista.insert(2,'ONE') # añadiendo un valor en la posición index 1\n",
        "mi_lista.remove('ONE') # Eliminamos el item \"ONE\"\n",
        "mi_lista.pop() # Eliminar el último ítem de la lista\n",
        "del mi_lista[3] # Elimina el item que se ubica en el index 3\n",
        "mi_lista[1] = 2000\n",
        "# mi_lista.clear() # Lista vacía\n",
        "mi_lista2 = mi_lista.copy() # haciendo una copia"
      ],
      "metadata": {
        "id": "ePXs4GqjPvbu"
      },
      "execution_count": null,
      "outputs": []
    }
  ]
}